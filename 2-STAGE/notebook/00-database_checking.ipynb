{
 "cells": [
  {
   "cell_type": "code",
   "execution_count": 1,
   "id": "ce8e6d38-53e4-47b6-87ba-d763145d6bc4",
   "metadata": {},
   "outputs": [],
   "source": [
    "import sqlite3\n",
    "import pandas as pd\n",
    "\n",
    "def db_connect(dbname=\"/opt/ml/P-Stage/2-STAGE/database/nopain.db\"):\n",
    "    conn = sqlite3.connect(dbname)\n",
    "    return conn"
   ]
  },
  {
   "cell_type": "code",
   "execution_count": 2,
   "id": "0fb58698-48ed-4981-b6ac-1016f6543519",
   "metadata": {},
   "outputs": [],
   "source": [
    "def recreate_database():\n",
    "    pass"
   ]
  },
  {
   "cell_type": "code",
   "execution_count": 3,
   "id": "2d5011bb-a45f-4dfb-bf6a-e88d86ac625c",
   "metadata": {},
   "outputs": [],
   "source": [
    "def insert_strategy(strategy):\n",
    "    conn = db_connect()\n",
    "    query = f\"INSERT INTO STRATEGY('strategy') VALUES('{strategy}')\"\n",
    "\n",
    "    cur = conn.cursor()\n",
    "    cur.execute(query)\n",
    "    \n",
    "    conn.commit()\n",
    "    conn.close()"
   ]
  },
  {
   "cell_type": "code",
   "execution_count": 4,
   "id": "cf0494b3-937d-447b-8956-580d98a3833b",
   "metadata": {},
   "outputs": [],
   "source": [
    "def delete_strategy(idx):\n",
    "    conn = db_connect()\n",
    "    query = f\"DELETE FROM STRATEGY WHERE id={idx}\"\n",
    "\n",
    "    cur = conn.cursor()\n",
    "    cur.execute(query)\n",
    "    \n",
    "    conn.commit()\n",
    "    conn.close()"
   ]
  },
  {
   "cell_type": "code",
   "execution_count": 5,
   "id": "ad95ee67-f7de-4e5c-a61e-85eb5fc79eb9",
   "metadata": {},
   "outputs": [],
   "source": [
    "def show_all_rows(table_name):\n",
    "    conn = db_connect()\n",
    "    query = f\"SELECT * FROM {table_name}\"\n",
    "\n",
    "    cur = conn.cursor()\n",
    "    cur.execute(query)\n",
    "\n",
    "    rows = cur.fetchall()  # fetchone, fetchmany\n",
    "    conn.close()\n",
    "    return rows"
   ]
  },
  {
   "cell_type": "code",
   "execution_count": 6,
   "id": "2f389e88-6380-4924-b087-eb0bc5802f97",
   "metadata": {},
   "outputs": [],
   "source": [
    "def change_status_of_strategy(strategy, status):\n",
    "    conn = db_connect()\n",
    "    \n",
    "    query = f\"UPDATE STRATEGY SET status='{status}' WHERE strategy='{strategy}'\"\n",
    "    cur = conn.cursor()\n",
    "    cur.execute(query)\n",
    "    \n",
    "    conn.commit()\n",
    "    conn.close()    "
   ]
  },
  {
   "cell_type": "code",
   "execution_count": 7,
   "id": "21d6e6e6-125d-42f2-86bd-d1b6b291d13a",
   "metadata": {},
   "outputs": [],
   "source": [
    "def execute_query(query):\n",
    "    conn = db_connect()\n",
    "\n",
    "    cur = conn.cursor()\n",
    "    cur.execute(query)\n",
    "\n",
    "    conn.commit()\n",
    "    conn.close()"
   ]
  },
  {
   "cell_type": "code",
   "execution_count": 8,
   "id": "6e6d6a89-3c8c-498c-9d1e-cf61ed610677",
   "metadata": {},
   "outputs": [],
   "source": [
    "def insert_model_scores(args, s_cnt, acc):\n",
    "    query = f\"INSERT INTO MODEL(strategy, ms_name, s_cnt, v_score, dataset, dataset_idx) \\\n",
    "VALUES('{args.strategy}', '{args.ms_name}', {int(s_cnt)}, {acc}, '{args.data_kind}', '{args.dataset_idx}')\"\n",
    "    execute_query(query)"
   ]
  },
  {
   "cell_type": "markdown",
   "id": "6f549efa-1578-416a-9ab2-480c8a44e2fe",
   "metadata": {},
   "source": [
    "st13, st14, st15"
   ]
  },
  {
   "cell_type": "markdown",
   "id": "9cf816b4-7f3b-462a-92dd-d3dd8d6321be",
   "metadata": {},
   "source": [
    "strategy = \"st15\"\n",
    "ms_name = \"kobert\"\n",
    "v_score = 0.1604\n",
    "dataset = 'dataset_v4'\n",
    "dataset_idx = '4'\n",
    "s_cnt = 0\n",
    "\n",
    "query = f\"UPDATE STRATEGY SET cnt=1, v_max_score={v_score}, v_avg_score={v_score} WHERE strategy='{strategy}'\"\n",
    "execute_query(query)\n",
    "\n",
    "query = f\"INSERT INTO MODEL(strategy, ms_name, s_cnt, v_score, dataset, dataset_idx) \\\n",
    "VALUES('{strategy}', '{ms_name}', {s_cnt}, {v_score}, '{dataset}', '{dataset_idx}')\"\n",
    "execute_query(query)"
   ]
  },
  {
   "cell_type": "code",
   "execution_count": 100,
   "id": "9c09ac4b-79fb-493f-9f60-da3b20b74c0c",
   "metadata": {},
   "outputs": [],
   "source": [
    "delete_strategy()"
   ]
  },
  {
   "cell_type": "code",
   "execution_count": 54,
   "id": "168ecfee-9c1c-4171-b193-7ab5f6a7cbb2",
   "metadata": {},
   "outputs": [],
   "source": [
    "insert_strategy(\"st18\")"
   ]
  },
  {
   "cell_type": "code",
   "execution_count": 88,
   "id": "7177ea11-4457-4c51-af26-c1e2ed17edc8",
   "metadata": {},
   "outputs": [],
   "source": [
    "change_status_of_strategy('st03', 'PENDING')"
   ]
  },
  {
   "cell_type": "code",
   "execution_count": 94,
   "id": "c995390f-f2b0-4645-a4cc-6324107481f9",
   "metadata": {},
   "outputs": [],
   "source": [
    "for st in range(1, 13):\n",
    "    strategy = \"st{:02}\".format(st)\n",
    "    change_status_of_strategy(strategy, \"PENDING\")"
   ]
  },
  {
   "cell_type": "code",
   "execution_count": 488,
   "id": "79e3f4c8-921b-40d7-ad23-80e5a00abbef",
   "metadata": {},
   "outputs": [
    {
     "data": {
      "text/html": [
       "<div>\n",
       "<style scoped>\n",
       "    .dataframe tbody tr th:only-of-type {\n",
       "        vertical-align: middle;\n",
       "    }\n",
       "\n",
       "    .dataframe tbody tr th {\n",
       "        vertical-align: top;\n",
       "    }\n",
       "\n",
       "    .dataframe thead th {\n",
       "        text-align: right;\n",
       "    }\n",
       "</style>\n",
       "<table border=\"1\" class=\"dataframe\">\n",
       "  <thead>\n",
       "    <tr style=\"text-align: right;\">\n",
       "      <th></th>\n",
       "      <th>strategy</th>\n",
       "      <th>cnt</th>\n",
       "      <th>status</th>\n",
       "      <th>v_max_score</th>\n",
       "      <th>v_avg_score</th>\n",
       "      <th>lb_max_score</th>\n",
       "      <th>lb_avg_score</th>\n",
       "    </tr>\n",
       "    <tr>\n",
       "      <th>id</th>\n",
       "      <th></th>\n",
       "      <th></th>\n",
       "      <th></th>\n",
       "      <th></th>\n",
       "      <th></th>\n",
       "      <th></th>\n",
       "      <th></th>\n",
       "    </tr>\n",
       "  </thead>\n",
       "  <tbody>\n",
       "    <tr>\n",
       "      <th>1</th>\n",
       "      <td>st03</td>\n",
       "      <td>3</td>\n",
       "      <td>PENDING</td>\n",
       "      <td>0.620281</td>\n",
       "      <td>0.597335</td>\n",
       "      <td>0.0</td>\n",
       "      <td>0.0</td>\n",
       "    </tr>\n",
       "    <tr>\n",
       "      <th>2</th>\n",
       "      <td>st04</td>\n",
       "      <td>4</td>\n",
       "      <td>PENDING</td>\n",
       "      <td>0.674528</td>\n",
       "      <td>0.655955</td>\n",
       "      <td>0.0</td>\n",
       "      <td>0.0</td>\n",
       "    </tr>\n",
       "    <tr>\n",
       "      <th>3</th>\n",
       "      <td>st05</td>\n",
       "      <td>4</td>\n",
       "      <td>PENDING</td>\n",
       "      <td>0.657429</td>\n",
       "      <td>0.639446</td>\n",
       "      <td>0.0</td>\n",
       "      <td>0.0</td>\n",
       "    </tr>\n",
       "    <tr>\n",
       "      <th>4</th>\n",
       "      <td>st01</td>\n",
       "      <td>4</td>\n",
       "      <td>PENDING</td>\n",
       "      <td>0.640266</td>\n",
       "      <td>0.624352</td>\n",
       "      <td>0.0</td>\n",
       "      <td>0.0</td>\n",
       "    </tr>\n",
       "    <tr>\n",
       "      <th>5</th>\n",
       "      <td>st02</td>\n",
       "      <td>3</td>\n",
       "      <td>PENDING</td>\n",
       "      <td>0.643967</td>\n",
       "      <td>0.612386</td>\n",
       "      <td>0.0</td>\n",
       "      <td>0.0</td>\n",
       "    </tr>\n",
       "    <tr>\n",
       "      <th>6</th>\n",
       "      <td>st06</td>\n",
       "      <td>4</td>\n",
       "      <td>PENDING</td>\n",
       "      <td>0.655070</td>\n",
       "      <td>0.627128</td>\n",
       "      <td>0.0</td>\n",
       "      <td>0.0</td>\n",
       "    </tr>\n",
       "    <tr>\n",
       "      <th>7</th>\n",
       "      <td>st07</td>\n",
       "      <td>3</td>\n",
       "      <td>PENDING</td>\n",
       "      <td>0.300518</td>\n",
       "      <td>0.258574</td>\n",
       "      <td>0.0</td>\n",
       "      <td>0.0</td>\n",
       "    </tr>\n",
       "    <tr>\n",
       "      <th>8</th>\n",
       "      <td>st08</td>\n",
       "      <td>3</td>\n",
       "      <td>PENDING</td>\n",
       "      <td>0.065137</td>\n",
       "      <td>0.030101</td>\n",
       "      <td>0.0</td>\n",
       "      <td>0.0</td>\n",
       "    </tr>\n",
       "    <tr>\n",
       "      <th>9</th>\n",
       "      <td>st09</td>\n",
       "      <td>4</td>\n",
       "      <td>PENDING</td>\n",
       "      <td>0.654330</td>\n",
       "      <td>0.632865</td>\n",
       "      <td>0.0</td>\n",
       "      <td>0.0</td>\n",
       "    </tr>\n",
       "    <tr>\n",
       "      <th>10</th>\n",
       "      <td>st10</td>\n",
       "      <td>3</td>\n",
       "      <td>PENDING</td>\n",
       "      <td>0.347150</td>\n",
       "      <td>0.250432</td>\n",
       "      <td>0.0</td>\n",
       "      <td>0.0</td>\n",
       "    </tr>\n",
       "    <tr>\n",
       "      <th>11</th>\n",
       "      <td>st11</td>\n",
       "      <td>3</td>\n",
       "      <td>PENDING</td>\n",
       "      <td>0.196891</td>\n",
       "      <td>0.160128</td>\n",
       "      <td>0.0</td>\n",
       "      <td>0.0</td>\n",
       "    </tr>\n",
       "    <tr>\n",
       "      <th>12</th>\n",
       "      <td>st12</td>\n",
       "      <td>3</td>\n",
       "      <td>PENDING</td>\n",
       "      <td>0.307180</td>\n",
       "      <td>0.246978</td>\n",
       "      <td>0.0</td>\n",
       "      <td>0.0</td>\n",
       "    </tr>\n",
       "    <tr>\n",
       "      <th>13</th>\n",
       "      <td>st13</td>\n",
       "      <td>9</td>\n",
       "      <td>RUN</td>\n",
       "      <td>0.673939</td>\n",
       "      <td>0.661224</td>\n",
       "      <td>0.0</td>\n",
       "      <td>0.0</td>\n",
       "    </tr>\n",
       "    <tr>\n",
       "      <th>14</th>\n",
       "      <td>st14</td>\n",
       "      <td>9</td>\n",
       "      <td>RUN</td>\n",
       "      <td>0.773585</td>\n",
       "      <td>0.765662</td>\n",
       "      <td>0.0</td>\n",
       "      <td>0.0</td>\n",
       "    </tr>\n",
       "    <tr>\n",
       "      <th>15</th>\n",
       "      <td>st15</td>\n",
       "      <td>7</td>\n",
       "      <td>RUN</td>\n",
       "      <td>0.601415</td>\n",
       "      <td>0.282517</td>\n",
       "      <td>0.0</td>\n",
       "      <td>0.0</td>\n",
       "    </tr>\n",
       "    <tr>\n",
       "      <th>16</th>\n",
       "      <td>st16</td>\n",
       "      <td>9</td>\n",
       "      <td>RUN</td>\n",
       "      <td>0.682193</td>\n",
       "      <td>0.554507</td>\n",
       "      <td>0.0</td>\n",
       "      <td>0.0</td>\n",
       "    </tr>\n",
       "    <tr>\n",
       "      <th>17</th>\n",
       "      <td>st17</td>\n",
       "      <td>7</td>\n",
       "      <td>RUN</td>\n",
       "      <td>0.301297</td>\n",
       "      <td>0.150943</td>\n",
       "      <td>0.0</td>\n",
       "      <td>0.0</td>\n",
       "    </tr>\n",
       "    <tr>\n",
       "      <th>18</th>\n",
       "      <td>st18</td>\n",
       "      <td>9</td>\n",
       "      <td>RUN</td>\n",
       "      <td>0.576061</td>\n",
       "      <td>0.501245</td>\n",
       "      <td>0.0</td>\n",
       "      <td>0.0</td>\n",
       "    </tr>\n",
       "  </tbody>\n",
       "</table>\n",
       "</div>"
      ],
      "text/plain": [
       "   strategy  cnt   status  v_max_score  v_avg_score  lb_max_score  \\\n",
       "id                                                                  \n",
       "1      st03    3  PENDING     0.620281     0.597335           0.0   \n",
       "2      st04    4  PENDING     0.674528     0.655955           0.0   \n",
       "3      st05    4  PENDING     0.657429     0.639446           0.0   \n",
       "4      st01    4  PENDING     0.640266     0.624352           0.0   \n",
       "5      st02    3  PENDING     0.643967     0.612386           0.0   \n",
       "6      st06    4  PENDING     0.655070     0.627128           0.0   \n",
       "7      st07    3  PENDING     0.300518     0.258574           0.0   \n",
       "8      st08    3  PENDING     0.065137     0.030101           0.0   \n",
       "9      st09    4  PENDING     0.654330     0.632865           0.0   \n",
       "10     st10    3  PENDING     0.347150     0.250432           0.0   \n",
       "11     st11    3  PENDING     0.196891     0.160128           0.0   \n",
       "12     st12    3  PENDING     0.307180     0.246978           0.0   \n",
       "13     st13    9      RUN     0.673939     0.661224           0.0   \n",
       "14     st14    9      RUN     0.773585     0.765662           0.0   \n",
       "15     st15    7      RUN     0.601415     0.282517           0.0   \n",
       "16     st16    9      RUN     0.682193     0.554507           0.0   \n",
       "17     st17    7      RUN     0.301297     0.150943           0.0   \n",
       "18     st18    9      RUN     0.576061     0.501245           0.0   \n",
       "\n",
       "    lb_avg_score  \n",
       "id                \n",
       "1            0.0  \n",
       "2            0.0  \n",
       "3            0.0  \n",
       "4            0.0  \n",
       "5            0.0  \n",
       "6            0.0  \n",
       "7            0.0  \n",
       "8            0.0  \n",
       "9            0.0  \n",
       "10           0.0  \n",
       "11           0.0  \n",
       "12           0.0  \n",
       "13           0.0  \n",
       "14           0.0  \n",
       "15           0.0  \n",
       "16           0.0  \n",
       "17           0.0  \n",
       "18           0.0  "
      ]
     },
     "execution_count": 488,
     "metadata": {},
     "output_type": "execute_result"
    }
   ],
   "source": [
    "strategy = pd.DataFrame(show_all_rows('STRATEGY'), columns=['id', 'strategy', 'cnt', \n",
    "                                                 'status', 'v_max_score', 'v_avg_score',\n",
    "                                                'lb_max_score', 'lb_avg_score'])\n",
    "\n",
    "strategy = strategy.set_index('id')\n",
    "strategy"
   ]
  },
  {
   "cell_type": "code",
   "execution_count": 494,
   "id": "31fe9a94-e88b-4831-b03f-839f460118a5",
   "metadata": {},
   "outputs": [
    {
     "data": {
      "text/html": [
       "<div>\n",
       "<style scoped>\n",
       "    .dataframe tbody tr th:only-of-type {\n",
       "        vertical-align: middle;\n",
       "    }\n",
       "\n",
       "    .dataframe tbody tr th {\n",
       "        vertical-align: top;\n",
       "    }\n",
       "\n",
       "    .dataframe thead th {\n",
       "        text-align: right;\n",
       "    }\n",
       "</style>\n",
       "<table border=\"1\" class=\"dataframe\">\n",
       "  <thead>\n",
       "    <tr style=\"text-align: right;\">\n",
       "      <th></th>\n",
       "      <th>strategy</th>\n",
       "      <th>ms_name</th>\n",
       "      <th>s_cnt</th>\n",
       "      <th>v_score</th>\n",
       "      <th>lb_score</th>\n",
       "      <th>dataset</th>\n",
       "      <th>dataset_idx</th>\n",
       "    </tr>\n",
       "    <tr>\n",
       "      <th>id</th>\n",
       "      <th></th>\n",
       "      <th></th>\n",
       "      <th></th>\n",
       "      <th></th>\n",
       "      <th></th>\n",
       "      <th></th>\n",
       "      <th></th>\n",
       "    </tr>\n",
       "  </thead>\n",
       "  <tbody>\n",
       "    <tr>\n",
       "      <th>72</th>\n",
       "      <td>st14</td>\n",
       "      <td>xlmroberta</td>\n",
       "      <td>3</td>\n",
       "      <td>0.773585</td>\n",
       "      <td>0.0</td>\n",
       "      <td>dataset_v4</td>\n",
       "      <td>0</td>\n",
       "    </tr>\n",
       "    <tr>\n",
       "      <th>73</th>\n",
       "      <td>st14</td>\n",
       "      <td>xlmroberta</td>\n",
       "      <td>3</td>\n",
       "      <td>0.773585</td>\n",
       "      <td>0.0</td>\n",
       "      <td>dataset_v4</td>\n",
       "      <td>0</td>\n",
       "    </tr>\n",
       "    <tr>\n",
       "      <th>74</th>\n",
       "      <td>st13</td>\n",
       "      <td>xlmroberta</td>\n",
       "      <td>3</td>\n",
       "      <td>0.663915</td>\n",
       "      <td>0.0</td>\n",
       "      <td>dataset_v4</td>\n",
       "      <td>0</td>\n",
       "    </tr>\n",
       "    <tr>\n",
       "      <th>75</th>\n",
       "      <td>st13</td>\n",
       "      <td>xlmroberta</td>\n",
       "      <td>3</td>\n",
       "      <td>0.663915</td>\n",
       "      <td>0.0</td>\n",
       "      <td>dataset_v4</td>\n",
       "      <td>0</td>\n",
       "    </tr>\n",
       "    <tr>\n",
       "      <th>76</th>\n",
       "      <td>st16</td>\n",
       "      <td>kobert</td>\n",
       "      <td>4</td>\n",
       "      <td>0.668042</td>\n",
       "      <td>0.0</td>\n",
       "      <td>dataset_v4</td>\n",
       "      <td>0</td>\n",
       "    </tr>\n",
       "    <tr>\n",
       "      <th>77</th>\n",
       "      <td>st16</td>\n",
       "      <td>kobert</td>\n",
       "      <td>4</td>\n",
       "      <td>0.668042</td>\n",
       "      <td>0.0</td>\n",
       "      <td>dataset_v4</td>\n",
       "      <td>0</td>\n",
       "    </tr>\n",
       "    <tr>\n",
       "      <th>78</th>\n",
       "      <td>st18</td>\n",
       "      <td>distilkobert</td>\n",
       "      <td>3</td>\n",
       "      <td>0.569575</td>\n",
       "      <td>0.0</td>\n",
       "      <td>dataset_v4</td>\n",
       "      <td>0</td>\n",
       "    </tr>\n",
       "    <tr>\n",
       "      <th>79</th>\n",
       "      <td>st18</td>\n",
       "      <td>distilkobert</td>\n",
       "      <td>3</td>\n",
       "      <td>0.569575</td>\n",
       "      <td>0.0</td>\n",
       "      <td>dataset_v4</td>\n",
       "      <td>0</td>\n",
       "    </tr>\n",
       "    <tr>\n",
       "      <th>80</th>\n",
       "      <td>st15</td>\n",
       "      <td>kobert</td>\n",
       "      <td>3</td>\n",
       "      <td>0.601415</td>\n",
       "      <td>0.0</td>\n",
       "      <td>dataset_v4</td>\n",
       "      <td>2</td>\n",
       "    </tr>\n",
       "    <tr>\n",
       "      <th>81</th>\n",
       "      <td>st15</td>\n",
       "      <td>kobert</td>\n",
       "      <td>3</td>\n",
       "      <td>0.601415</td>\n",
       "      <td>0.0</td>\n",
       "      <td>dataset_v4</td>\n",
       "      <td>2</td>\n",
       "    </tr>\n",
       "    <tr>\n",
       "      <th>82</th>\n",
       "      <td>st17</td>\n",
       "      <td>distilkobert</td>\n",
       "      <td>3</td>\n",
       "      <td>0.301297</td>\n",
       "      <td>0.0</td>\n",
       "      <td>dataset_v4</td>\n",
       "      <td>3</td>\n",
       "    </tr>\n",
       "    <tr>\n",
       "      <th>83</th>\n",
       "      <td>st17</td>\n",
       "      <td>distilkobert</td>\n",
       "      <td>3</td>\n",
       "      <td>0.301297</td>\n",
       "      <td>0.0</td>\n",
       "      <td>dataset_v4</td>\n",
       "      <td>3</td>\n",
       "    </tr>\n",
       "    <tr>\n",
       "      <th>84</th>\n",
       "      <td>st14</td>\n",
       "      <td>xlmroberta</td>\n",
       "      <td>4</td>\n",
       "      <td>0.755307</td>\n",
       "      <td>0.0</td>\n",
       "      <td>dataset_v4</td>\n",
       "      <td>3</td>\n",
       "    </tr>\n",
       "    <tr>\n",
       "      <th>85</th>\n",
       "      <td>st14</td>\n",
       "      <td>xlmroberta</td>\n",
       "      <td>4</td>\n",
       "      <td>0.755307</td>\n",
       "      <td>0.0</td>\n",
       "      <td>dataset_v4</td>\n",
       "      <td>3</td>\n",
       "    </tr>\n",
       "    <tr>\n",
       "      <th>86</th>\n",
       "      <td>st13</td>\n",
       "      <td>xlmroberta</td>\n",
       "      <td>4</td>\n",
       "      <td>0.655071</td>\n",
       "      <td>0.0</td>\n",
       "      <td>dataset_v4</td>\n",
       "      <td>1</td>\n",
       "    </tr>\n",
       "    <tr>\n",
       "      <th>87</th>\n",
       "      <td>st13</td>\n",
       "      <td>xlmroberta</td>\n",
       "      <td>4</td>\n",
       "      <td>0.655071</td>\n",
       "      <td>0.0</td>\n",
       "      <td>dataset_v4</td>\n",
       "      <td>1</td>\n",
       "    </tr>\n",
       "    <tr>\n",
       "      <th>88</th>\n",
       "      <td>st16</td>\n",
       "      <td>kobert</td>\n",
       "      <td>5</td>\n",
       "      <td>0.682193</td>\n",
       "      <td>0.0</td>\n",
       "      <td>dataset_v4</td>\n",
       "      <td>0</td>\n",
       "    </tr>\n",
       "    <tr>\n",
       "      <th>89</th>\n",
       "      <td>st16</td>\n",
       "      <td>kobert</td>\n",
       "      <td>5</td>\n",
       "      <td>0.682193</td>\n",
       "      <td>0.0</td>\n",
       "      <td>dataset_v4</td>\n",
       "      <td>0</td>\n",
       "    </tr>\n",
       "    <tr>\n",
       "      <th>90</th>\n",
       "      <td>st18</td>\n",
       "      <td>distilkobert</td>\n",
       "      <td>4</td>\n",
       "      <td>0.576061</td>\n",
       "      <td>0.0</td>\n",
       "      <td>dataset_v4</td>\n",
       "      <td>3</td>\n",
       "    </tr>\n",
       "    <tr>\n",
       "      <th>91</th>\n",
       "      <td>st18</td>\n",
       "      <td>distilkobert</td>\n",
       "      <td>4</td>\n",
       "      <td>0.576061</td>\n",
       "      <td>0.0</td>\n",
       "      <td>dataset_v4</td>\n",
       "      <td>3</td>\n",
       "    </tr>\n",
       "  </tbody>\n",
       "</table>\n",
       "</div>"
      ],
      "text/plain": [
       "   strategy       ms_name  s_cnt   v_score  lb_score     dataset dataset_idx\n",
       "id                                                                          \n",
       "72     st14    xlmroberta      3  0.773585       0.0  dataset_v4           0\n",
       "73     st14    xlmroberta      3  0.773585       0.0  dataset_v4           0\n",
       "74     st13    xlmroberta      3  0.663915       0.0  dataset_v4           0\n",
       "75     st13    xlmroberta      3  0.663915       0.0  dataset_v4           0\n",
       "76     st16        kobert      4  0.668042       0.0  dataset_v4           0\n",
       "77     st16        kobert      4  0.668042       0.0  dataset_v4           0\n",
       "78     st18  distilkobert      3  0.569575       0.0  dataset_v4           0\n",
       "79     st18  distilkobert      3  0.569575       0.0  dataset_v4           0\n",
       "80     st15        kobert      3  0.601415       0.0  dataset_v4           2\n",
       "81     st15        kobert      3  0.601415       0.0  dataset_v4           2\n",
       "82     st17  distilkobert      3  0.301297       0.0  dataset_v4           3\n",
       "83     st17  distilkobert      3  0.301297       0.0  dataset_v4           3\n",
       "84     st14    xlmroberta      4  0.755307       0.0  dataset_v4           3\n",
       "85     st14    xlmroberta      4  0.755307       0.0  dataset_v4           3\n",
       "86     st13    xlmroberta      4  0.655071       0.0  dataset_v4           1\n",
       "87     st13    xlmroberta      4  0.655071       0.0  dataset_v4           1\n",
       "88     st16        kobert      5  0.682193       0.0  dataset_v4           0\n",
       "89     st16        kobert      5  0.682193       0.0  dataset_v4           0\n",
       "90     st18  distilkobert      4  0.576061       0.0  dataset_v4           3\n",
       "91     st18  distilkobert      4  0.576061       0.0  dataset_v4           3"
      ]
     },
     "execution_count": 494,
     "metadata": {},
     "output_type": "execute_result"
    }
   ],
   "source": [
    "model_df = pd.DataFrame(show_all_rows('MODEL'), columns = ['id', 'strategy', 'ms_name', 's_cnt', \n",
    "                                                'v_score', 'lb_score', 'dataset', 'dataset_idx'])\n",
    "model_df = model_df.set_index('id')\n",
    "model_df.tail(20)"
   ]
  },
  {
   "cell_type": "code",
   "execution_count": 490,
   "id": "b19ffb91-e878-4be2-8016-b1cae96f0a40",
   "metadata": {},
   "outputs": [],
   "source": [
    "trash_models = rows[17:]"
   ]
  },
  {
   "cell_type": "code",
   "execution_count": 59,
   "id": "4f888be8-32fa-4316-adc6-c4ab51198272",
   "metadata": {},
   "outputs": [],
   "source": [
    "model_dir = '/opt/ml/P-Stage/2-STAGE/weights/'"
   ]
  },
  {
   "cell_type": "code",
   "execution_count": 65,
   "id": "5aea5f18-a797-4157-a533-669332f289bb",
   "metadata": {},
   "outputs": [
    {
     "data": {
      "text/plain": [
       "'st03_koelecv3_000'"
      ]
     },
     "execution_count": 65,
     "metadata": {},
     "output_type": "execute_result"
    }
   ],
   "source": [
    "\"{}_{}_{:03}\".format(*trash_models[0][1:4])"
   ]
  },
  {
   "cell_type": "code",
   "execution_count": 78,
   "id": "22d0e15e-cc06-4d3d-a54b-06807a19d5d7",
   "metadata": {},
   "outputs": [],
   "source": [
    "import os\n",
    "import shutil\n",
    "\n",
    "def remove_trashmodels(trash_models):\n",
    "    for trash_model in trash_models:\n",
    "        model_path = \"{}_{}_{:03}.pth\".format(*trash_model[1:4])\n",
    "        os.remove(os.path.join(model_dir, model_path))"
   ]
  },
  {
   "cell_type": "code",
   "execution_count": 567,
   "id": "e68f971b-e4a4-4beb-ada1-8cfa2408714f",
   "metadata": {},
   "outputs": [],
   "source": [
    "big_model_df = model_df[model_df['ms_name'] != \"koelecv3\"]"
   ]
  },
  {
   "cell_type": "code",
   "execution_count": 568,
   "id": "6dac8e2c-7032-484c-a63c-7ac2fe9fd541",
   "metadata": {},
   "outputs": [
    {
     "data": {
      "text/html": [
       "<div>\n",
       "<style scoped>\n",
       "    .dataframe tbody tr th:only-of-type {\n",
       "        vertical-align: middle;\n",
       "    }\n",
       "\n",
       "    .dataframe tbody tr th {\n",
       "        vertical-align: top;\n",
       "    }\n",
       "\n",
       "    .dataframe thead th {\n",
       "        text-align: right;\n",
       "    }\n",
       "</style>\n",
       "<table border=\"1\" class=\"dataframe\">\n",
       "  <thead>\n",
       "    <tr style=\"text-align: right;\">\n",
       "      <th></th>\n",
       "      <th>strategy</th>\n",
       "      <th>ms_name</th>\n",
       "      <th>s_cnt</th>\n",
       "      <th>v_score</th>\n",
       "      <th>lb_score</th>\n",
       "      <th>dataset</th>\n",
       "      <th>dataset_idx</th>\n",
       "    </tr>\n",
       "    <tr>\n",
       "      <th>id</th>\n",
       "      <th></th>\n",
       "      <th></th>\n",
       "      <th></th>\n",
       "      <th></th>\n",
       "      <th></th>\n",
       "      <th></th>\n",
       "      <th></th>\n",
       "    </tr>\n",
       "  </thead>\n",
       "  <tbody>\n",
       "    <tr>\n",
       "      <th>73</th>\n",
       "      <td>st14</td>\n",
       "      <td>xlmroberta</td>\n",
       "      <td>3</td>\n",
       "      <td>0.773585</td>\n",
       "      <td>0.0</td>\n",
       "      <td>dataset_v4</td>\n",
       "      <td>0</td>\n",
       "    </tr>\n",
       "    <tr>\n",
       "      <th>72</th>\n",
       "      <td>st14</td>\n",
       "      <td>xlmroberta</td>\n",
       "      <td>3</td>\n",
       "      <td>0.773585</td>\n",
       "      <td>0.0</td>\n",
       "      <td>dataset_v4</td>\n",
       "      <td>0</td>\n",
       "    </tr>\n",
       "    <tr>\n",
       "      <th>61</th>\n",
       "      <td>st14</td>\n",
       "      <td>xlmroberta</td>\n",
       "      <td>2</td>\n",
       "      <td>0.767689</td>\n",
       "      <td>0.0</td>\n",
       "      <td>dataset_v4</td>\n",
       "      <td>3</td>\n",
       "    </tr>\n",
       "    <tr>\n",
       "      <th>60</th>\n",
       "      <td>st14</td>\n",
       "      <td>xlmroberta</td>\n",
       "      <td>2</td>\n",
       "      <td>0.767689</td>\n",
       "      <td>0.0</td>\n",
       "      <td>dataset_v4</td>\n",
       "      <td>3</td>\n",
       "    </tr>\n",
       "    <tr>\n",
       "      <th>49</th>\n",
       "      <td>st14</td>\n",
       "      <td>xlmroberta</td>\n",
       "      <td>1</td>\n",
       "      <td>0.767099</td>\n",
       "      <td>0.0</td>\n",
       "      <td>dataset_v4</td>\n",
       "      <td>4</td>\n",
       "    </tr>\n",
       "    <tr>\n",
       "      <th>48</th>\n",
       "      <td>st14</td>\n",
       "      <td>xlmroberta</td>\n",
       "      <td>1</td>\n",
       "      <td>0.767099</td>\n",
       "      <td>0.0</td>\n",
       "      <td>dataset_v4</td>\n",
       "      <td>4</td>\n",
       "    </tr>\n",
       "    <tr>\n",
       "      <th>45</th>\n",
       "      <td>st14</td>\n",
       "      <td>xlmroberta</td>\n",
       "      <td>0</td>\n",
       "      <td>0.763600</td>\n",
       "      <td>0.0</td>\n",
       "      <td>dataset_v4</td>\n",
       "      <td>3</td>\n",
       "    </tr>\n",
       "    <tr>\n",
       "      <th>84</th>\n",
       "      <td>st14</td>\n",
       "      <td>xlmroberta</td>\n",
       "      <td>4</td>\n",
       "      <td>0.755307</td>\n",
       "      <td>0.0</td>\n",
       "      <td>dataset_v4</td>\n",
       "      <td>3</td>\n",
       "    </tr>\n",
       "    <tr>\n",
       "      <th>85</th>\n",
       "      <td>st14</td>\n",
       "      <td>xlmroberta</td>\n",
       "      <td>4</td>\n",
       "      <td>0.755307</td>\n",
       "      <td>0.0</td>\n",
       "      <td>dataset_v4</td>\n",
       "      <td>3</td>\n",
       "    </tr>\n",
       "    <tr>\n",
       "      <th>88</th>\n",
       "      <td>st16</td>\n",
       "      <td>kobert</td>\n",
       "      <td>5</td>\n",
       "      <td>0.682193</td>\n",
       "      <td>0.0</td>\n",
       "      <td>dataset_v4</td>\n",
       "      <td>0</td>\n",
       "    </tr>\n",
       "    <tr>\n",
       "      <th>89</th>\n",
       "      <td>st16</td>\n",
       "      <td>kobert</td>\n",
       "      <td>5</td>\n",
       "      <td>0.682193</td>\n",
       "      <td>0.0</td>\n",
       "      <td>dataset_v4</td>\n",
       "      <td>0</td>\n",
       "    </tr>\n",
       "    <tr>\n",
       "      <th>62</th>\n",
       "      <td>st13</td>\n",
       "      <td>xlmroberta</td>\n",
       "      <td>2</td>\n",
       "      <td>0.673939</td>\n",
       "      <td>0.0</td>\n",
       "      <td>dataset_v4</td>\n",
       "      <td>0</td>\n",
       "    </tr>\n",
       "    <tr>\n",
       "      <th>63</th>\n",
       "      <td>st13</td>\n",
       "      <td>xlmroberta</td>\n",
       "      <td>2</td>\n",
       "      <td>0.673939</td>\n",
       "      <td>0.0</td>\n",
       "      <td>dataset_v4</td>\n",
       "      <td>0</td>\n",
       "    </tr>\n",
       "    <tr>\n",
       "      <th>76</th>\n",
       "      <td>st16</td>\n",
       "      <td>kobert</td>\n",
       "      <td>4</td>\n",
       "      <td>0.668042</td>\n",
       "      <td>0.0</td>\n",
       "      <td>dataset_v4</td>\n",
       "      <td>0</td>\n",
       "    </tr>\n",
       "    <tr>\n",
       "      <th>77</th>\n",
       "      <td>st16</td>\n",
       "      <td>kobert</td>\n",
       "      <td>4</td>\n",
       "      <td>0.668042</td>\n",
       "      <td>0.0</td>\n",
       "      <td>dataset_v4</td>\n",
       "      <td>0</td>\n",
       "    </tr>\n",
       "    <tr>\n",
       "      <th>51</th>\n",
       "      <td>st13</td>\n",
       "      <td>xlmroberta</td>\n",
       "      <td>1</td>\n",
       "      <td>0.665684</td>\n",
       "      <td>0.0</td>\n",
       "      <td>dataset_v4</td>\n",
       "      <td>1</td>\n",
       "    </tr>\n",
       "    <tr>\n",
       "      <th>50</th>\n",
       "      <td>st13</td>\n",
       "      <td>xlmroberta</td>\n",
       "      <td>1</td>\n",
       "      <td>0.665684</td>\n",
       "      <td>0.0</td>\n",
       "      <td>dataset_v4</td>\n",
       "      <td>1</td>\n",
       "    </tr>\n",
       "    <tr>\n",
       "      <th>74</th>\n",
       "      <td>st13</td>\n",
       "      <td>xlmroberta</td>\n",
       "      <td>3</td>\n",
       "      <td>0.663915</td>\n",
       "      <td>0.0</td>\n",
       "      <td>dataset_v4</td>\n",
       "      <td>0</td>\n",
       "    </tr>\n",
       "    <tr>\n",
       "      <th>75</th>\n",
       "      <td>st13</td>\n",
       "      <td>xlmroberta</td>\n",
       "      <td>3</td>\n",
       "      <td>0.663915</td>\n",
       "      <td>0.0</td>\n",
       "      <td>dataset_v4</td>\n",
       "      <td>0</td>\n",
       "    </tr>\n",
       "    <tr>\n",
       "      <th>86</th>\n",
       "      <td>st13</td>\n",
       "      <td>xlmroberta</td>\n",
       "      <td>4</td>\n",
       "      <td>0.655071</td>\n",
       "      <td>0.0</td>\n",
       "      <td>dataset_v4</td>\n",
       "      <td>1</td>\n",
       "    </tr>\n",
       "    <tr>\n",
       "      <th>87</th>\n",
       "      <td>st13</td>\n",
       "      <td>xlmroberta</td>\n",
       "      <td>4</td>\n",
       "      <td>0.655071</td>\n",
       "      <td>0.0</td>\n",
       "      <td>dataset_v4</td>\n",
       "      <td>1</td>\n",
       "    </tr>\n",
       "  </tbody>\n",
       "</table>\n",
       "</div>"
      ],
      "text/plain": [
       "   strategy     ms_name  s_cnt   v_score  lb_score     dataset dataset_idx\n",
       "id                                                                        \n",
       "73     st14  xlmroberta      3  0.773585       0.0  dataset_v4           0\n",
       "72     st14  xlmroberta      3  0.773585       0.0  dataset_v4           0\n",
       "61     st14  xlmroberta      2  0.767689       0.0  dataset_v4           3\n",
       "60     st14  xlmroberta      2  0.767689       0.0  dataset_v4           3\n",
       "49     st14  xlmroberta      1  0.767099       0.0  dataset_v4           4\n",
       "48     st14  xlmroberta      1  0.767099       0.0  dataset_v4           4\n",
       "45     st14  xlmroberta      0  0.763600       0.0  dataset_v4           3\n",
       "84     st14  xlmroberta      4  0.755307       0.0  dataset_v4           3\n",
       "85     st14  xlmroberta      4  0.755307       0.0  dataset_v4           3\n",
       "88     st16      kobert      5  0.682193       0.0  dataset_v4           0\n",
       "89     st16      kobert      5  0.682193       0.0  dataset_v4           0\n",
       "62     st13  xlmroberta      2  0.673939       0.0  dataset_v4           0\n",
       "63     st13  xlmroberta      2  0.673939       0.0  dataset_v4           0\n",
       "76     st16      kobert      4  0.668042       0.0  dataset_v4           0\n",
       "77     st16      kobert      4  0.668042       0.0  dataset_v4           0\n",
       "51     st13  xlmroberta      1  0.665684       0.0  dataset_v4           1\n",
       "50     st13  xlmroberta      1  0.665684       0.0  dataset_v4           1\n",
       "74     st13  xlmroberta      3  0.663915       0.0  dataset_v4           0\n",
       "75     st13  xlmroberta      3  0.663915       0.0  dataset_v4           0\n",
       "86     st13  xlmroberta      4  0.655071       0.0  dataset_v4           1\n",
       "87     st13  xlmroberta      4  0.655071       0.0  dataset_v4           1"
      ]
     },
     "execution_count": 568,
     "metadata": {},
     "output_type": "execute_result"
    }
   ],
   "source": [
    "big_model_df = big_model_df[big_model_df['v_score'] > 0.65].sort_values(['v_score'], ascending=False)\n",
    "big_model_df"
   ]
  },
  {
   "cell_type": "code",
   "execution_count": 571,
   "id": "d0b09259-3fa6-4530-bc0a-b577089c4f28",
   "metadata": {},
   "outputs": [
    {
     "data": {
      "text/html": [
       "<div>\n",
       "<style scoped>\n",
       "    .dataframe tbody tr th:only-of-type {\n",
       "        vertical-align: middle;\n",
       "    }\n",
       "\n",
       "    .dataframe tbody tr th {\n",
       "        vertical-align: top;\n",
       "    }\n",
       "\n",
       "    .dataframe thead th {\n",
       "        text-align: right;\n",
       "    }\n",
       "</style>\n",
       "<table border=\"1\" class=\"dataframe\">\n",
       "  <thead>\n",
       "    <tr style=\"text-align: right;\">\n",
       "      <th></th>\n",
       "      <th>strategy</th>\n",
       "      <th>ms_name</th>\n",
       "      <th>s_cnt</th>\n",
       "      <th>v_score</th>\n",
       "      <th>lb_score</th>\n",
       "      <th>dataset</th>\n",
       "      <th>dataset_idx</th>\n",
       "    </tr>\n",
       "    <tr>\n",
       "      <th>id</th>\n",
       "      <th></th>\n",
       "      <th></th>\n",
       "      <th></th>\n",
       "      <th></th>\n",
       "      <th></th>\n",
       "      <th></th>\n",
       "      <th></th>\n",
       "    </tr>\n",
       "  </thead>\n",
       "  <tbody>\n",
       "    <tr>\n",
       "      <th>72</th>\n",
       "      <td>st14</td>\n",
       "      <td>xlmroberta</td>\n",
       "      <td>3</td>\n",
       "      <td>0.773585</td>\n",
       "      <td>0.0</td>\n",
       "      <td>dataset_v4</td>\n",
       "      <td>0</td>\n",
       "    </tr>\n",
       "    <tr>\n",
       "      <th>60</th>\n",
       "      <td>st14</td>\n",
       "      <td>xlmroberta</td>\n",
       "      <td>2</td>\n",
       "      <td>0.767689</td>\n",
       "      <td>0.0</td>\n",
       "      <td>dataset_v4</td>\n",
       "      <td>3</td>\n",
       "    </tr>\n",
       "    <tr>\n",
       "      <th>48</th>\n",
       "      <td>st14</td>\n",
       "      <td>xlmroberta</td>\n",
       "      <td>1</td>\n",
       "      <td>0.767099</td>\n",
       "      <td>0.0</td>\n",
       "      <td>dataset_v4</td>\n",
       "      <td>4</td>\n",
       "    </tr>\n",
       "    <tr>\n",
       "      <th>85</th>\n",
       "      <td>st14</td>\n",
       "      <td>xlmroberta</td>\n",
       "      <td>4</td>\n",
       "      <td>0.755307</td>\n",
       "      <td>0.0</td>\n",
       "      <td>dataset_v4</td>\n",
       "      <td>3</td>\n",
       "    </tr>\n",
       "    <tr>\n",
       "      <th>89</th>\n",
       "      <td>st16</td>\n",
       "      <td>kobert</td>\n",
       "      <td>5</td>\n",
       "      <td>0.682193</td>\n",
       "      <td>0.0</td>\n",
       "      <td>dataset_v4</td>\n",
       "      <td>0</td>\n",
       "    </tr>\n",
       "    <tr>\n",
       "      <th>63</th>\n",
       "      <td>st13</td>\n",
       "      <td>xlmroberta</td>\n",
       "      <td>2</td>\n",
       "      <td>0.673939</td>\n",
       "      <td>0.0</td>\n",
       "      <td>dataset_v4</td>\n",
       "      <td>0</td>\n",
       "    </tr>\n",
       "    <tr>\n",
       "      <th>77</th>\n",
       "      <td>st16</td>\n",
       "      <td>kobert</td>\n",
       "      <td>4</td>\n",
       "      <td>0.668042</td>\n",
       "      <td>0.0</td>\n",
       "      <td>dataset_v4</td>\n",
       "      <td>0</td>\n",
       "    </tr>\n",
       "    <tr>\n",
       "      <th>50</th>\n",
       "      <td>st13</td>\n",
       "      <td>xlmroberta</td>\n",
       "      <td>1</td>\n",
       "      <td>0.665684</td>\n",
       "      <td>0.0</td>\n",
       "      <td>dataset_v4</td>\n",
       "      <td>1</td>\n",
       "    </tr>\n",
       "    <tr>\n",
       "      <th>75</th>\n",
       "      <td>st13</td>\n",
       "      <td>xlmroberta</td>\n",
       "      <td>3</td>\n",
       "      <td>0.663915</td>\n",
       "      <td>0.0</td>\n",
       "      <td>dataset_v4</td>\n",
       "      <td>0</td>\n",
       "    </tr>\n",
       "    <tr>\n",
       "      <th>87</th>\n",
       "      <td>st13</td>\n",
       "      <td>xlmroberta</td>\n",
       "      <td>4</td>\n",
       "      <td>0.655071</td>\n",
       "      <td>0.0</td>\n",
       "      <td>dataset_v4</td>\n",
       "      <td>1</td>\n",
       "    </tr>\n",
       "  </tbody>\n",
       "</table>\n",
       "</div>"
      ],
      "text/plain": [
       "   strategy     ms_name  s_cnt   v_score  lb_score     dataset dataset_idx\n",
       "id                                                                        \n",
       "72     st14  xlmroberta      3  0.773585       0.0  dataset_v4           0\n",
       "60     st14  xlmroberta      2  0.767689       0.0  dataset_v4           3\n",
       "48     st14  xlmroberta      1  0.767099       0.0  dataset_v4           4\n",
       "85     st14  xlmroberta      4  0.755307       0.0  dataset_v4           3\n",
       "89     st16      kobert      5  0.682193       0.0  dataset_v4           0\n",
       "63     st13  xlmroberta      2  0.673939       0.0  dataset_v4           0\n",
       "77     st16      kobert      4  0.668042       0.0  dataset_v4           0\n",
       "50     st13  xlmroberta      1  0.665684       0.0  dataset_v4           1\n",
       "75     st13  xlmroberta      3  0.663915       0.0  dataset_v4           0\n",
       "87     st13  xlmroberta      4  0.655071       0.0  dataset_v4           1"
      ]
     },
     "execution_count": 571,
     "metadata": {},
     "output_type": "execute_result"
    }
   ],
   "source": [
    "big_model_df = big_model_df[big_model_df.duplicated()]\n",
    "big_model_df"
   ]
  },
  {
   "cell_type": "code",
   "execution_count": 577,
   "id": "818d28d6-0bcd-43ba-b7d7-ae35f05c01e5",
   "metadata": {},
   "outputs": [],
   "source": [
    "roberta_no_sampling_names = []\n",
    "\n",
    "for i, rows in big_model_df.iloc[:3].iterrows():\n",
    "    name = f\"{rows[0]}_{rows[1]}_{rows[2]:03}\"\n",
    "    roberta_no_sampling_names.append(name)"
   ]
  },
  {
   "cell_type": "code",
   "execution_count": 578,
   "id": "c0c1ad6d-7078-44e7-9627-33427eae938d",
   "metadata": {},
   "outputs": [],
   "source": [
    "roberta_use_sampling_names = []\n",
    "# data 분포가 다른 것만을 사용.\n",
    "for i, rows in big_model_df.loc[[89, 63, 50]].iterrows():\n",
    "    name = f\"{rows[0]}_{rows[1]}_{rows[2]:03}\"\n",
    "    roberta_use_sampling_names.append(name)"
   ]
  },
  {
   "cell_type": "code",
   "execution_count": 579,
   "id": "e109c506-d724-484e-86d9-785a5d641971",
   "metadata": {},
   "outputs": [
    {
     "data": {
      "text/plain": [
       "['st14_xlmroberta_003', 'st14_xlmroberta_002', 'st14_xlmroberta_001']"
      ]
     },
     "execution_count": 579,
     "metadata": {},
     "output_type": "execute_result"
    }
   ],
   "source": [
    "roberta_no_sampling_names"
   ]
  },
  {
   "cell_type": "code",
   "execution_count": 580,
   "id": "c01a51e2-944b-4cfd-8bd9-6ac4a7f56c23",
   "metadata": {},
   "outputs": [
    {
     "data": {
      "text/plain": [
       "['st16_kobert_005', 'st13_xlmroberta_002', 'st13_xlmroberta_001']"
      ]
     },
     "execution_count": 580,
     "metadata": {},
     "output_type": "execute_result"
    }
   ],
   "source": [
    "roberta_use_sampling_names"
   ]
  },
  {
   "cell_type": "code",
   "execution_count": 79,
   "id": "a305f27c-35cf-4b1d-b919-68c29b84c5e5",
   "metadata": {},
   "outputs": [],
   "source": [
    "remove_trashmodels(trash_models)"
   ]
  },
  {
   "cell_type": "code",
   "execution_count": 80,
   "id": "c5914d4a-0ca4-4d4a-8868-310a2b9a5f7e",
   "metadata": {},
   "outputs": [
    {
     "data": {
      "text/plain": [
       "[(1, 'st03', 'koelecv3', 0, 0.6202812731310141, 0.0, 'dataset_v3', '4'),\n",
       " (19, 'st01', 'koelecv3', 1, 0.613619541080681, 0.0, 'dataset_v1', '2'),\n",
       " (26, 'st09', 'koelecv3', 2, 0.613619541080681, 0.0, 'dataset_v1', '3'),\n",
       " (25, 'st04', 'koelecv3', 2, 0.6084905660377359, 0.0, 'dataset_v4', '2'),\n",
       " (4, 'st01', 'koelecv3', 0, 0.6062176165803109, 0.0, 'dataset_v1', '1'),\n",
       " (18, 'st03', 'koelecv3', 1, 0.5936343449296817, 0.0, 'dataset_v3', '1'),\n",
       " (28, 'st06', 'koelecv3', 2, 0.5906735751295337, 0.0, 'dataset_v1', '1'),\n",
       " (31, 'st03', 'koelecv3', 2, 0.5780903034789046, 0.0, 'dataset_v3', '4'),\n",
       " (27, 'st02', 'koelecv3', 2, 0.5573649148778682, 0.0, 'dataset_v2', '2'),\n",
       " (10, 'st10', 'koelecv3', 0, 0.3471502590673575, 0.0, 'dataset_v1', '3'),\n",
       " (23, 'st12', 'koelecv3', 1, 0.30717986676535897, 0.0, 'dataset_v1', '0'),\n",
       " (21, 'st07', 'koelecv3', 1, 0.3005181347150259, 0.0, 'dataset_v1', '2'),\n",
       " (33, 'st07', 'koelecv3', 2, 0.25758697261287933, 0.0, 'dataset_v1', '1'),\n",
       " (34, 'st12', 'koelecv3', 2, 0.2561065877128053, 0.0, 'dataset_v1', '4'),\n",
       " (20, 'st10', 'koelecv3', 1, 0.23908216136195412, 0.0, 'dataset_v1', '1'),\n",
       " (7, 'st07', 'koelecv3', 0, 0.21761658031088082, 0.0, 'dataset_v1', '2'),\n",
       " (11, 'st11', 'koelecv3', 0, 0.19689119170984457, 0.0, 'dataset_v1', '0'),\n",
       " (12, 'st12', 'koelecv3', 0, 0.17764618800888232, 0.0, 'dataset_v1', '3'),\n",
       " (22, 'st11', 'koelecv3', 1, 0.16728349370836418, 0.0, 'dataset_v1', '2'),\n",
       " (32, 'st10', 'koelecv3', 2, 0.16506291635825315, 0.0, 'dataset_v1', '0'),\n",
       " (35, 'st11', 'koelecv3', 2, 0.11621021465581051, 0.0, 'dataset_v1', '0'),\n",
       " (36, 'st08', 'koelecv3', 2, 0.06513693560325684, 0.0, 'dataset_v1', '4'),\n",
       " (8, 'st08', 'koelecv3', 0, 0.014803849000740192, 0.0, 'dataset_v1', '2'),\n",
       " (24, 'st08', 'koelecv3', 1, 0.010362694300518135, 0.0, 'dataset_v1', '0')]"
      ]
     },
     "execution_count": 80,
     "metadata": {},
     "output_type": "execute_result"
    }
   ],
   "source": [
    "trash_models"
   ]
  },
  {
   "cell_type": "code",
   "execution_count": 98,
   "id": "8d4ff2a3-9ced-4aa2-891b-8f15dd46feec",
   "metadata": {},
   "outputs": [
    {
     "data": {
      "text/plain": [
       "[13, 37, 2, 29, 6, 16, 17, 5, 41, 40, 30, 9, 15, 38, 39, 3]"
      ]
     },
     "execution_count": 98,
     "metadata": {},
     "output_type": "execute_result"
    }
   ],
   "source": [
    "good_ids = [row[0] for row in rows[:16]]\n",
    "good_ids"
   ]
  },
  {
   "attachments": {
    "16ce4db7-d42e-47ee-9e15-80f498dc8f9a.png": {
     "image/png": "[encoded data removed]"
    }
   },
   "cell_type": "markdown",
   "id": "fbff22e7-b480-409e-849c-7d024483f52d",
   "metadata": {},
   "source": [
    "![image.png](attachment:16ce4db7-d42e-47ee-9e15-80f498dc8f9a.png)"
   ]
  },
  {
   "attachments": {
    "733d65e1-ead1-434e-be6d-1a6d9222a081.png": {
     "image/png": "[encoded data removed]"
    }
   },
   "cell_type": "markdown",
   "id": "5b456b61-882e-4afa-8782-86404536689a",
   "metadata": {},
   "source": [
    "![image.png](attachment:733d65e1-ead1-434e-be6d-1a6d9222a081.png)"
   ]
  },
  {
   "cell_type": "markdown",
   "id": "27050e4a-0e80-4377-9174-9bb449bba0dc",
   "metadata": {},
   "source": [
    "## Ensemble Test"
   ]
  },
  {
   "cell_type": "code",
   "execution_count": 14,
   "id": "a12c5930-fc4b-48d1-9824-3a09d4127319",
   "metadata": {},
   "outputs": [],
   "source": [
    "good_ids = [13, 37, 2, 29, 6, 16, 17, 5, 41, 40, 30, 9, 15, 38, 39, 3]"
   ]
  },
  {
   "cell_type": "code",
   "execution_count": 15,
   "id": "ba334c97-d3a5-4cc0-a5e2-719750c16f3b",
   "metadata": {},
   "outputs": [
    {
     "data": {
      "text/html": [
       "<div>\n",
       "<style scoped>\n",
       "    .dataframe tbody tr th:only-of-type {\n",
       "        vertical-align: middle;\n",
       "    }\n",
       "\n",
       "    .dataframe tbody tr th {\n",
       "        vertical-align: top;\n",
       "    }\n",
       "\n",
       "    .dataframe thead th {\n",
       "        text-align: right;\n",
       "    }\n",
       "</style>\n",
       "<table border=\"1\" class=\"dataframe\">\n",
       "  <thead>\n",
       "    <tr style=\"text-align: right;\">\n",
       "      <th></th>\n",
       "      <th>strategy</th>\n",
       "      <th>ms_name</th>\n",
       "      <th>s_cnt</th>\n",
       "      <th>v_score</th>\n",
       "      <th>lb_score</th>\n",
       "      <th>dataset</th>\n",
       "      <th>dataset_idx</th>\n",
       "    </tr>\n",
       "    <tr>\n",
       "      <th>id</th>\n",
       "      <th></th>\n",
       "      <th></th>\n",
       "      <th></th>\n",
       "      <th></th>\n",
       "      <th></th>\n",
       "      <th></th>\n",
       "      <th></th>\n",
       "    </tr>\n",
       "  </thead>\n",
       "  <tbody>\n",
       "    <tr>\n",
       "      <th>13</th>\n",
       "      <td>st04</td>\n",
       "      <td>koelecv3</td>\n",
       "      <td>1</td>\n",
       "      <td>0.674528</td>\n",
       "      <td>0.0</td>\n",
       "      <td>dataset_v4</td>\n",
       "      <td>2</td>\n",
       "    </tr>\n",
       "    <tr>\n",
       "      <th>37</th>\n",
       "      <td>st04</td>\n",
       "      <td>koelecv3</td>\n",
       "      <td>3</td>\n",
       "      <td>0.674528</td>\n",
       "      <td>0.0</td>\n",
       "      <td>dataset_v4</td>\n",
       "      <td>2</td>\n",
       "    </tr>\n",
       "    <tr>\n",
       "      <th>2</th>\n",
       "      <td>st04</td>\n",
       "      <td>koelecv3</td>\n",
       "      <td>0</td>\n",
       "      <td>0.666274</td>\n",
       "      <td>0.0</td>\n",
       "      <td>dataset_v4</td>\n",
       "      <td>1</td>\n",
       "    </tr>\n",
       "    <tr>\n",
       "      <th>29</th>\n",
       "      <td>st05</td>\n",
       "      <td>koelecv3</td>\n",
       "      <td>2</td>\n",
       "      <td>0.657429</td>\n",
       "      <td>0.0</td>\n",
       "      <td>dataset_v5</td>\n",
       "      <td>2</td>\n",
       "    </tr>\n",
       "    <tr>\n",
       "      <th>6</th>\n",
       "      <td>st06</td>\n",
       "      <td>koelecv3</td>\n",
       "      <td>0</td>\n",
       "      <td>0.655070</td>\n",
       "      <td>0.0</td>\n",
       "      <td>dataset_v1</td>\n",
       "      <td>1</td>\n",
       "    </tr>\n",
       "    <tr>\n",
       "      <th>16</th>\n",
       "      <td>st09</td>\n",
       "      <td>koelecv3</td>\n",
       "      <td>1</td>\n",
       "      <td>0.654330</td>\n",
       "      <td>0.0</td>\n",
       "      <td>dataset_v1</td>\n",
       "      <td>3</td>\n",
       "    </tr>\n",
       "    <tr>\n",
       "      <th>17</th>\n",
       "      <td>st05</td>\n",
       "      <td>koelecv3</td>\n",
       "      <td>1</td>\n",
       "      <td>0.646226</td>\n",
       "      <td>0.0</td>\n",
       "      <td>dataset_v5</td>\n",
       "      <td>0</td>\n",
       "    </tr>\n",
       "    <tr>\n",
       "      <th>5</th>\n",
       "      <td>st02</td>\n",
       "      <td>koelecv3</td>\n",
       "      <td>0</td>\n",
       "      <td>0.643967</td>\n",
       "      <td>0.0</td>\n",
       "      <td>dataset_v2</td>\n",
       "      <td>4</td>\n",
       "    </tr>\n",
       "    <tr>\n",
       "      <th>41</th>\n",
       "      <td>st01</td>\n",
       "      <td>koelecv3</td>\n",
       "      <td>3</td>\n",
       "      <td>0.640266</td>\n",
       "      <td>0.0</td>\n",
       "      <td>dataset_v1</td>\n",
       "      <td>1</td>\n",
       "    </tr>\n",
       "    <tr>\n",
       "      <th>40</th>\n",
       "      <td>st06</td>\n",
       "      <td>koelecv3</td>\n",
       "      <td>3</td>\n",
       "      <td>0.638046</td>\n",
       "      <td>0.0</td>\n",
       "      <td>dataset_v1</td>\n",
       "      <td>1</td>\n",
       "    </tr>\n",
       "    <tr>\n",
       "      <th>30</th>\n",
       "      <td>st01</td>\n",
       "      <td>koelecv3</td>\n",
       "      <td>2</td>\n",
       "      <td>0.637306</td>\n",
       "      <td>0.0</td>\n",
       "      <td>dataset_v1</td>\n",
       "      <td>1</td>\n",
       "    </tr>\n",
       "    <tr>\n",
       "      <th>9</th>\n",
       "      <td>st09</td>\n",
       "      <td>koelecv3</td>\n",
       "      <td>0</td>\n",
       "      <td>0.636566</td>\n",
       "      <td>0.0</td>\n",
       "      <td>dataset_v1</td>\n",
       "      <td>3</td>\n",
       "    </tr>\n",
       "    <tr>\n",
       "      <th>15</th>\n",
       "      <td>st02</td>\n",
       "      <td>koelecv3</td>\n",
       "      <td>1</td>\n",
       "      <td>0.635825</td>\n",
       "      <td>0.0</td>\n",
       "      <td>dataset_v2</td>\n",
       "      <td>3</td>\n",
       "    </tr>\n",
       "    <tr>\n",
       "      <th>38</th>\n",
       "      <td>st05</td>\n",
       "      <td>koelecv3</td>\n",
       "      <td>3</td>\n",
       "      <td>0.627948</td>\n",
       "      <td>0.0</td>\n",
       "      <td>dataset_v5</td>\n",
       "      <td>0</td>\n",
       "    </tr>\n",
       "    <tr>\n",
       "      <th>39</th>\n",
       "      <td>st09</td>\n",
       "      <td>koelecv3</td>\n",
       "      <td>3</td>\n",
       "      <td>0.626943</td>\n",
       "      <td>0.0</td>\n",
       "      <td>dataset_v1</td>\n",
       "      <td>0</td>\n",
       "    </tr>\n",
       "    <tr>\n",
       "      <th>3</th>\n",
       "      <td>st05</td>\n",
       "      <td>koelecv3</td>\n",
       "      <td>0</td>\n",
       "      <td>0.626179</td>\n",
       "      <td>0.0</td>\n",
       "      <td>dataset_v5</td>\n",
       "      <td>3</td>\n",
       "    </tr>\n",
       "  </tbody>\n",
       "</table>\n",
       "</div>"
      ],
      "text/plain": [
       "   strategy   ms_name  s_cnt   v_score  lb_score     dataset dataset_idx\n",
       "id                                                                      \n",
       "13     st04  koelecv3      1  0.674528       0.0  dataset_v4           2\n",
       "37     st04  koelecv3      3  0.674528       0.0  dataset_v4           2\n",
       "2      st04  koelecv3      0  0.666274       0.0  dataset_v4           1\n",
       "29     st05  koelecv3      2  0.657429       0.0  dataset_v5           2\n",
       "6      st06  koelecv3      0  0.655070       0.0  dataset_v1           1\n",
       "16     st09  koelecv3      1  0.654330       0.0  dataset_v1           3\n",
       "17     st05  koelecv3      1  0.646226       0.0  dataset_v5           0\n",
       "5      st02  koelecv3      0  0.643967       0.0  dataset_v2           4\n",
       "41     st01  koelecv3      3  0.640266       0.0  dataset_v1           1\n",
       "40     st06  koelecv3      3  0.638046       0.0  dataset_v1           1\n",
       "30     st01  koelecv3      2  0.637306       0.0  dataset_v1           1\n",
       "9      st09  koelecv3      0  0.636566       0.0  dataset_v1           3\n",
       "15     st02  koelecv3      1  0.635825       0.0  dataset_v2           3\n",
       "38     st05  koelecv3      3  0.627948       0.0  dataset_v5           0\n",
       "39     st09  koelecv3      3  0.626943       0.0  dataset_v1           0\n",
       "3      st05  koelecv3      0  0.626179       0.0  dataset_v5           3"
      ]
     },
     "execution_count": 15,
     "metadata": {},
     "output_type": "execute_result"
    }
   ],
   "source": [
    "model_df = model_df.loc[good_ids]\n",
    "model_df"
   ]
  },
  {
   "cell_type": "code",
   "execution_count": 16,
   "id": "ce69a2a4-9f43-4e63-b84e-fb5a8023bad2",
   "metadata": {},
   "outputs": [],
   "source": [
    "import sys\n",
    "sys.path.append(\"..\")"
   ]
  },
  {
   "cell_type": "code",
   "execution_count": 20,
   "id": "cc190ba6-df7a-47bf-91f8-b366777d7386",
   "metadata": {},
   "outputs": [],
   "source": [
    "import os\n",
    "import torch\n",
    "import numpy as np\n",
    "from config import get_args\n",
    "from utils import update_args\n",
    "from networks import load_model_and_tokenizer\n",
    "import hp_space\n",
    "from argparse import Namespace\n",
    "from prepare import load_test_dataloader"
   ]
  },
  {
   "cell_type": "code",
   "execution_count": 389,
   "id": "38b54f27-52f9-49bd-90c2-c5098cdfccdd",
   "metadata": {},
   "outputs": [],
   "source": [
    "test_dataloader = load_test_dataloader(args, tokenizer)"
   ]
  },
  {
   "cell_type": "code",
   "execution_count": 390,
   "id": "17a04abe-18d0-4d2d-a81e-eaf525e44ded",
   "metadata": {},
   "outputs": [],
   "source": [
    "preds = model.evaluate(test_dataloader, return_keys=['acc', 'logits'])"
   ]
  },
  {
   "cell_type": "code",
   "execution_count": 394,
   "id": "77c18534-45fd-4f42-9c1f-ffe514c6f7f4",
   "metadata": {},
   "outputs": [
    {
     "data": {
      "text/plain": [
       "(1000, 42)"
      ]
     },
     "execution_count": 394,
     "metadata": {},
     "output_type": "execute_result"
    }
   ],
   "source": [
    "preds['logits'].shape"
   ]
  },
  {
   "cell_type": "code",
   "execution_count": 405,
   "id": "630ed62b-8a24-49c4-b0ba-f7a0f9ee9ca5",
   "metadata": {},
   "outputs": [],
   "source": [
    "nvnv = scipy.special.softmax(preds['logits'], axis=-1)"
   ]
  },
  {
   "cell_type": "code",
   "execution_count": 407,
   "id": "0f1301a1-9961-4d34-91f2-8a4050ecb868",
   "metadata": {},
   "outputs": [
    {
     "data": {
      "text/plain": [
       "(1000, 42)"
      ]
     },
     "execution_count": 407,
     "metadata": {},
     "output_type": "execute_result"
    }
   ],
   "source": [
    "nvnv.shape"
   ]
  },
  {
   "cell_type": "code",
   "execution_count": 408,
   "id": "9114375a-e839-4b43-9d87-a7c11836166c",
   "metadata": {},
   "outputs": [
    {
     "data": {
      "text/plain": [
       "1.0"
      ]
     },
     "execution_count": 408,
     "metadata": {},
     "output_type": "execute_result"
    }
   ],
   "source": [
    "nvnv[0].sum()"
   ]
  },
  {
   "cell_type": "code",
   "execution_count": 409,
   "id": "d6d16a54-894f-4472-87b0-42c7b075d0f4",
   "metadata": {},
   "outputs": [],
   "source": [
    "model_dir = '/opt/ml/P-Stage/2-STAGE/weights/'\n",
    "\n",
    "def get_categorical_distribution(strategy, ms_name, s_cnt):\n",
    "    model_name = f\"{strategy}_{ms_name}_{s_cnt:03}\"\n",
    "    model_path = os.path.join(model_dir, model_name + \".pth\")\n",
    "    \n",
    "    if not os.path.exists(model_path):\n",
    "        raise\n",
    "    \n",
    "    args = get_args()\n",
    "    args = update_args(args, strategy, hp_space.strat)\n",
    "    args = Namespace(**args)\n",
    "    \n",
    "    model, tokenizer = load_model_and_tokenizer(args)\n",
    "    test_dataloader = load_test_dataloader(args, tokenizer)\n",
    "    \n",
    "    model.load_state_dict(torch.load(model_path))\n",
    "    model.to(args.device)\n",
    "    \n",
    "    results = model.evaluate(test_dataloader, return_keys=[\"logits\"])\n",
    "    results['logits'] = scipy.special.softmax(results['logits'], axis=-1)\n",
    "    \n",
    "    # 각 샘플에 대해서 Category 분포로 만든 후에,\n",
    "    # 1000개 샘플에 대해서 평균, 분산\n",
    "    \n",
    "    vector_mean = results['logits'].mean(axis=0)\n",
    "    vector_std = results['logits'].std(axis=0)\n",
    "    \n",
    "    model_vector = np.concatenate((vector_mean, vector_std))\n",
    "    \n",
    "    return model_name, model_vector"
   ]
  },
  {
   "cell_type": "code",
   "execution_count": 410,
   "id": "931a5ff4-1c3e-4af7-8e46-ace2f94f6eb7",
   "metadata": {
    "collapsed": true,
    "jupyter": {
     "outputs_hidden": true
    },
    "tags": []
   },
   "outputs": [
    {
     "name": "stderr",
     "output_type": "stream",
     "text": [
      "Some weights of the model checkpoint at monologg/koelectra-base-v3-discriminator were not used when initializing ElectraForSequenceClassification: ['discriminator_predictions.dense.weight', 'discriminator_predictions.dense.bias', 'discriminator_predictions.dense_prediction.weight', 'discriminator_predictions.dense_prediction.bias']\n",
      "- This IS expected if you are initializing ElectraForSequenceClassification from the checkpoint of a model trained on another task or with another architecture (e.g. initializing a BertForSequenceClassification model from a BertForPreTraining model).\n",
      "- This IS NOT expected if you are initializing ElectraForSequenceClassification from the checkpoint of a model that you expect to be exactly identical (initializing a BertForSequenceClassification model from a BertForSequenceClassification model).\n",
      "Some weights of ElectraForSequenceClassification were not initialized from the model checkpoint at monologg/koelectra-base-v3-discriminator and are newly initialized: ['classifier.dense.weight', 'classifier.dense.bias', 'classifier.out_proj.weight', 'classifier.out_proj.bias']\n",
      "You should probably TRAIN this model on a down-stream task to be able to use it for predictions and inference.\n",
      "Some weights of the model checkpoint at monologg/koelectra-base-v3-discriminator were not used when initializing ElectraForSequenceClassification: ['discriminator_predictions.dense.weight', 'discriminator_predictions.dense.bias', 'discriminator_predictions.dense_prediction.weight', 'discriminator_predictions.dense_prediction.bias']\n",
      "- This IS expected if you are initializing ElectraForSequenceClassification from the checkpoint of a model trained on another task or with another architecture (e.g. initializing a BertForSequenceClassification model from a BertForPreTraining model).\n",
      "- This IS NOT expected if you are initializing ElectraForSequenceClassification from the checkpoint of a model that you expect to be exactly identical (initializing a BertForSequenceClassification model from a BertForSequenceClassification model).\n",
      "Some weights of ElectraForSequenceClassification were not initialized from the model checkpoint at monologg/koelectra-base-v3-discriminator and are newly initialized: ['classifier.dense.weight', 'classifier.dense.bias', 'classifier.out_proj.weight', 'classifier.out_proj.bias']\n",
      "You should probably TRAIN this model on a down-stream task to be able to use it for predictions and inference.\n",
      "Some weights of the model checkpoint at monologg/koelectra-base-v3-discriminator were not used when initializing ElectraForSequenceClassification: ['discriminator_predictions.dense.weight', 'discriminator_predictions.dense.bias', 'discriminator_predictions.dense_prediction.weight', 'discriminator_predictions.dense_prediction.bias']\n",
      "- This IS expected if you are initializing ElectraForSequenceClassification from the checkpoint of a model trained on another task or with another architecture (e.g. initializing a BertForSequenceClassification model from a BertForPreTraining model).\n",
      "- This IS NOT expected if you are initializing ElectraForSequenceClassification from the checkpoint of a model that you expect to be exactly identical (initializing a BertForSequenceClassification model from a BertForSequenceClassification model).\n",
      "Some weights of ElectraForSequenceClassification were not initialized from the model checkpoint at monologg/koelectra-base-v3-discriminator and are newly initialized: ['classifier.dense.weight', 'classifier.dense.bias', 'classifier.out_proj.weight', 'classifier.out_proj.bias']\n",
      "You should probably TRAIN this model on a down-stream task to be able to use it for predictions and inference.\n",
      "Some weights of the model checkpoint at monologg/koelectra-base-v3-discriminator were not used when initializing ElectraForSequenceClassification: ['discriminator_predictions.dense.weight', 'discriminator_predictions.dense.bias', 'discriminator_predictions.dense_prediction.weight', 'discriminator_predictions.dense_prediction.bias']\n",
      "- This IS expected if you are initializing ElectraForSequenceClassification from the checkpoint of a model trained on another task or with another architecture (e.g. initializing a BertForSequenceClassification model from a BertForPreTraining model).\n",
      "- This IS NOT expected if you are initializing ElectraForSequenceClassification from the checkpoint of a model that you expect to be exactly identical (initializing a BertForSequenceClassification model from a BertForSequenceClassification model).\n",
      "Some weights of ElectraForSequenceClassification were not initialized from the model checkpoint at monologg/koelectra-base-v3-discriminator and are newly initialized: ['classifier.dense.weight', 'classifier.dense.bias', 'classifier.out_proj.weight', 'classifier.out_proj.bias']\n",
      "You should probably TRAIN this model on a down-stream task to be able to use it for predictions and inference.\n",
      "Some weights of the model checkpoint at monologg/koelectra-base-v3-discriminator were not used when initializing ElectraForSequenceClassification: ['discriminator_predictions.dense.weight', 'discriminator_predictions.dense.bias', 'discriminator_predictions.dense_prediction.weight', 'discriminator_predictions.dense_prediction.bias']\n",
      "- This IS expected if you are initializing ElectraForSequenceClassification from the checkpoint of a model trained on another task or with another architecture (e.g. initializing a BertForSequenceClassification model from a BertForPreTraining model).\n",
      "- This IS NOT expected if you are initializing ElectraForSequenceClassification from the checkpoint of a model that you expect to be exactly identical (initializing a BertForSequenceClassification model from a BertForSequenceClassification model).\n",
      "Some weights of ElectraForSequenceClassification were not initialized from the model checkpoint at monologg/koelectra-base-v3-discriminator and are newly initialized: ['classifier.dense.weight', 'classifier.dense.bias', 'classifier.out_proj.weight', 'classifier.out_proj.bias']\n",
      "You should probably TRAIN this model on a down-stream task to be able to use it for predictions and inference.\n",
      "Some weights of the model checkpoint at monologg/koelectra-base-v3-discriminator were not used when initializing ElectraForSequenceClassification: ['discriminator_predictions.dense.weight', 'discriminator_predictions.dense.bias', 'discriminator_predictions.dense_prediction.weight', 'discriminator_predictions.dense_prediction.bias']\n",
      "- This IS expected if you are initializing ElectraForSequenceClassification from the checkpoint of a model trained on another task or with another architecture (e.g. initializing a BertForSequenceClassification model from a BertForPreTraining model).\n",
      "- This IS NOT expected if you are initializing ElectraForSequenceClassification from the checkpoint of a model that you expect to be exactly identical (initializing a BertForSequenceClassification model from a BertForSequenceClassification model).\n",
      "Some weights of ElectraForSequenceClassification were not initialized from the model checkpoint at monologg/koelectra-base-v3-discriminator and are newly initialized: ['classifier.dense.weight', 'classifier.dense.bias', 'classifier.out_proj.weight', 'classifier.out_proj.bias']\n",
      "You should probably TRAIN this model on a down-stream task to be able to use it for predictions and inference.\n",
      "Some weights of the model checkpoint at monologg/koelectra-base-v3-discriminator were not used when initializing ElectraForSequenceClassification: ['discriminator_predictions.dense.weight', 'discriminator_predictions.dense.bias', 'discriminator_predictions.dense_prediction.weight', 'discriminator_predictions.dense_prediction.bias']\n",
      "- This IS expected if you are initializing ElectraForSequenceClassification from the checkpoint of a model trained on another task or with another architecture (e.g. initializing a BertForSequenceClassification model from a BertForPreTraining model).\n",
      "- This IS NOT expected if you are initializing ElectraForSequenceClassification from the checkpoint of a model that you expect to be exactly identical (initializing a BertForSequenceClassification model from a BertForSequenceClassification model).\n",
      "Some weights of ElectraForSequenceClassification were not initialized from the model checkpoint at monologg/koelectra-base-v3-discriminator and are newly initialized: ['classifier.dense.weight', 'classifier.dense.bias', 'classifier.out_proj.weight', 'classifier.out_proj.bias']\n",
      "You should probably TRAIN this model on a down-stream task to be able to use it for predictions and inference.\n",
      "Some weights of the model checkpoint at monologg/koelectra-base-v3-discriminator were not used when initializing ElectraForSequenceClassification: ['discriminator_predictions.dense.weight', 'discriminator_predictions.dense.bias', 'discriminator_predictions.dense_prediction.weight', 'discriminator_predictions.dense_prediction.bias']\n",
      "- This IS expected if you are initializing ElectraForSequenceClassification from the checkpoint of a model trained on another task or with another architecture (e.g. initializing a BertForSequenceClassification model from a BertForPreTraining model).\n",
      "- This IS NOT expected if you are initializing ElectraForSequenceClassification from the checkpoint of a model that you expect to be exactly identical (initializing a BertForSequenceClassification model from a BertForSequenceClassification model).\n",
      "Some weights of ElectraForSequenceClassification were not initialized from the model checkpoint at monologg/koelectra-base-v3-discriminator and are newly initialized: ['classifier.dense.weight', 'classifier.dense.bias', 'classifier.out_proj.weight', 'classifier.out_proj.bias']\n",
      "You should probably TRAIN this model on a down-stream task to be able to use it for predictions and inference.\n",
      "Some weights of the model checkpoint at monologg/koelectra-base-v3-discriminator were not used when initializing ElectraForSequenceClassification: ['discriminator_predictions.dense.weight', 'discriminator_predictions.dense.bias', 'discriminator_predictions.dense_prediction.weight', 'discriminator_predictions.dense_prediction.bias']\n",
      "- This IS expected if you are initializing ElectraForSequenceClassification from the checkpoint of a model trained on another task or with another architecture (e.g. initializing a BertForSequenceClassification model from a BertForPreTraining model).\n",
      "- This IS NOT expected if you are initializing ElectraForSequenceClassification from the checkpoint of a model that you expect to be exactly identical (initializing a BertForSequenceClassification model from a BertForSequenceClassification model).\n",
      "Some weights of ElectraForSequenceClassification were not initialized from the model checkpoint at monologg/koelectra-base-v3-discriminator and are newly initialized: ['classifier.dense.weight', 'classifier.dense.bias', 'classifier.out_proj.weight', 'classifier.out_proj.bias']\n",
      "You should probably TRAIN this model on a down-stream task to be able to use it for predictions and inference.\n",
      "Some weights of the model checkpoint at monologg/koelectra-base-v3-discriminator were not used when initializing ElectraForSequenceClassification: ['discriminator_predictions.dense.weight', 'discriminator_predictions.dense.bias', 'discriminator_predictions.dense_prediction.weight', 'discriminator_predictions.dense_prediction.bias']\n",
      "- This IS expected if you are initializing ElectraForSequenceClassification from the checkpoint of a model trained on another task or with another architecture (e.g. initializing a BertForSequenceClassification model from a BertForPreTraining model).\n",
      "- This IS NOT expected if you are initializing ElectraForSequenceClassification from the checkpoint of a model that you expect to be exactly identical (initializing a BertForSequenceClassification model from a BertForSequenceClassification model).\n",
      "Some weights of ElectraForSequenceClassification were not initialized from the model checkpoint at monologg/koelectra-base-v3-discriminator and are newly initialized: ['classifier.dense.weight', 'classifier.dense.bias', 'classifier.out_proj.weight', 'classifier.out_proj.bias']\n",
      "You should probably TRAIN this model on a down-stream task to be able to use it for predictions and inference.\n",
      "Some weights of the model checkpoint at monologg/koelectra-base-v3-discriminator were not used when initializing ElectraForSequenceClassification: ['discriminator_predictions.dense.weight', 'discriminator_predictions.dense.bias', 'discriminator_predictions.dense_prediction.weight', 'discriminator_predictions.dense_prediction.bias']\n",
      "- This IS expected if you are initializing ElectraForSequenceClassification from the checkpoint of a model trained on another task or with another architecture (e.g. initializing a BertForSequenceClassification model from a BertForPreTraining model).\n",
      "- This IS NOT expected if you are initializing ElectraForSequenceClassification from the checkpoint of a model that you expect to be exactly identical (initializing a BertForSequenceClassification model from a BertForSequenceClassification model).\n",
      "Some weights of ElectraForSequenceClassification were not initialized from the model checkpoint at monologg/koelectra-base-v3-discriminator and are newly initialized: ['classifier.dense.weight', 'classifier.dense.bias', 'classifier.out_proj.weight', 'classifier.out_proj.bias']\n",
      "You should probably TRAIN this model on a down-stream task to be able to use it for predictions and inference.\n",
      "Some weights of the model checkpoint at monologg/koelectra-base-v3-discriminator were not used when initializing ElectraForSequenceClassification: ['discriminator_predictions.dense.weight', 'discriminator_predictions.dense.bias', 'discriminator_predictions.dense_prediction.weight', 'discriminator_predictions.dense_prediction.bias']\n",
      "- This IS expected if you are initializing ElectraForSequenceClassification from the checkpoint of a model trained on another task or with another architecture (e.g. initializing a BertForSequenceClassification model from a BertForPreTraining model).\n",
      "- This IS NOT expected if you are initializing ElectraForSequenceClassification from the checkpoint of a model that you expect to be exactly identical (initializing a BertForSequenceClassification model from a BertForSequenceClassification model).\n",
      "Some weights of ElectraForSequenceClassification were not initialized from the model checkpoint at monologg/koelectra-base-v3-discriminator and are newly initialized: ['classifier.dense.weight', 'classifier.dense.bias', 'classifier.out_proj.weight', 'classifier.out_proj.bias']\n",
      "You should probably TRAIN this model on a down-stream task to be able to use it for predictions and inference.\n",
      "Some weights of the model checkpoint at monologg/koelectra-base-v3-discriminator were not used when initializing ElectraForSequenceClassification: ['discriminator_predictions.dense.weight', 'discriminator_predictions.dense.bias', 'discriminator_predictions.dense_prediction.weight', 'discriminator_predictions.dense_prediction.bias']\n",
      "- This IS expected if you are initializing ElectraForSequenceClassification from the checkpoint of a model trained on another task or with another architecture (e.g. initializing a BertForSequenceClassification model from a BertForPreTraining model).\n",
      "- This IS NOT expected if you are initializing ElectraForSequenceClassification from the checkpoint of a model that you expect to be exactly identical (initializing a BertForSequenceClassification model from a BertForSequenceClassification model).\n",
      "Some weights of ElectraForSequenceClassification were not initialized from the model checkpoint at monologg/koelectra-base-v3-discriminator and are newly initialized: ['classifier.dense.weight', 'classifier.dense.bias', 'classifier.out_proj.weight', 'classifier.out_proj.bias']\n",
      "You should probably TRAIN this model on a down-stream task to be able to use it for predictions and inference.\n",
      "Some weights of the model checkpoint at monologg/koelectra-base-v3-discriminator were not used when initializing ElectraForSequenceClassification: ['discriminator_predictions.dense.weight', 'discriminator_predictions.dense.bias', 'discriminator_predictions.dense_prediction.weight', 'discriminator_predictions.dense_prediction.bias']\n",
      "- This IS expected if you are initializing ElectraForSequenceClassification from the checkpoint of a model trained on another task or with another architecture (e.g. initializing a BertForSequenceClassification model from a BertForPreTraining model).\n",
      "- This IS NOT expected if you are initializing ElectraForSequenceClassification from the checkpoint of a model that you expect to be exactly identical (initializing a BertForSequenceClassification model from a BertForSequenceClassification model).\n",
      "Some weights of ElectraForSequenceClassification were not initialized from the model checkpoint at monologg/koelectra-base-v3-discriminator and are newly initialized: ['classifier.dense.weight', 'classifier.dense.bias', 'classifier.out_proj.weight', 'classifier.out_proj.bias']\n",
      "You should probably TRAIN this model on a down-stream task to be able to use it for predictions and inference.\n",
      "Some weights of the model checkpoint at monologg/koelectra-base-v3-discriminator were not used when initializing ElectraForSequenceClassification: ['discriminator_predictions.dense.weight', 'discriminator_predictions.dense.bias', 'discriminator_predictions.dense_prediction.weight', 'discriminator_predictions.dense_prediction.bias']\n",
      "- This IS expected if you are initializing ElectraForSequenceClassification from the checkpoint of a model trained on another task or with another architecture (e.g. initializing a BertForSequenceClassification model from a BertForPreTraining model).\n",
      "- This IS NOT expected if you are initializing ElectraForSequenceClassification from the checkpoint of a model that you expect to be exactly identical (initializing a BertForSequenceClassification model from a BertForSequenceClassification model).\n",
      "Some weights of ElectraForSequenceClassification were not initialized from the model checkpoint at monologg/koelectra-base-v3-discriminator and are newly initialized: ['classifier.dense.weight', 'classifier.dense.bias', 'classifier.out_proj.weight', 'classifier.out_proj.bias']\n",
      "You should probably TRAIN this model on a down-stream task to be able to use it for predictions and inference.\n",
      "Some weights of the model checkpoint at monologg/koelectra-base-v3-discriminator were not used when initializing ElectraForSequenceClassification: ['discriminator_predictions.dense.weight', 'discriminator_predictions.dense.bias', 'discriminator_predictions.dense_prediction.weight', 'discriminator_predictions.dense_prediction.bias']\n",
      "- This IS expected if you are initializing ElectraForSequenceClassification from the checkpoint of a model trained on another task or with another architecture (e.g. initializing a BertForSequenceClassification model from a BertForPreTraining model).\n",
      "- This IS NOT expected if you are initializing ElectraForSequenceClassification from the checkpoint of a model that you expect to be exactly identical (initializing a BertForSequenceClassification model from a BertForSequenceClassification model).\n",
      "Some weights of ElectraForSequenceClassification were not initialized from the model checkpoint at monologg/koelectra-base-v3-discriminator and are newly initialized: ['classifier.dense.weight', 'classifier.dense.bias', 'classifier.out_proj.weight', 'classifier.out_proj.bias']\n",
      "You should probably TRAIN this model on a down-stream task to be able to use it for predictions and inference.\n"
     ]
    }
   ],
   "source": [
    "model_names = []\n",
    "model_vectors = []\n",
    "\n",
    "for i, rows in model_df.iterrows():\n",
    "    model_name, model_vector = get_categorical_distribution(*rows[:3])\n",
    "    model_names.append(model_name)\n",
    "    model_vectors.append(model_vector)"
   ]
  },
  {
   "cell_type": "code",
   "execution_count": 417,
   "id": "5f8388fc-0d69-4664-bf39-03c3fda703e4",
   "metadata": {},
   "outputs": [],
   "source": [
    "df = pd.DataFrame(zip(model_vectors), columns=['model_vectors'], index=model_names)"
   ]
  },
  {
   "cell_type": "code",
   "execution_count": 418,
   "id": "b944ca21-0338-4a48-ae4b-891bd70b5870",
   "metadata": {},
   "outputs": [
    {
     "data": {
      "text/html": [
       "<div>\n",
       "<style scoped>\n",
       "    .dataframe tbody tr th:only-of-type {\n",
       "        vertical-align: middle;\n",
       "    }\n",
       "\n",
       "    .dataframe tbody tr th {\n",
       "        vertical-align: top;\n",
       "    }\n",
       "\n",
       "    .dataframe thead th {\n",
       "        text-align: right;\n",
       "    }\n",
       "</style>\n",
       "<table border=\"1\" class=\"dataframe\">\n",
       "  <thead>\n",
       "    <tr style=\"text-align: right;\">\n",
       "      <th></th>\n",
       "      <th>model_vectors</th>\n",
       "    </tr>\n",
       "  </thead>\n",
       "  <tbody>\n",
       "    <tr>\n",
       "      <th>st04_koelecv3_001</th>\n",
       "      <td>[0.2715083, 0.008009417, 0.069552675, 0.001548...</td>\n",
       "    </tr>\n",
       "    <tr>\n",
       "      <th>st04_koelecv3_003</th>\n",
       "      <td>[0.27535617, 0.011491739, 0.07277849, 0.001669...</td>\n",
       "    </tr>\n",
       "    <tr>\n",
       "      <th>st04_koelecv3_000</th>\n",
       "      <td>[0.2403952, 0.010814292, 0.08880568, 0.0050655...</td>\n",
       "    </tr>\n",
       "    <tr>\n",
       "      <th>st05_koelecv3_002</th>\n",
       "      <td>[0.29716086, 0.010048949, 0.062385887, 0.00751...</td>\n",
       "    </tr>\n",
       "    <tr>\n",
       "      <th>st06_koelecv3_000</th>\n",
       "      <td>[0.2929825, 0.007957892, 0.066946596, 0.002177...</td>\n",
       "    </tr>\n",
       "    <tr>\n",
       "      <th>st09_koelecv3_001</th>\n",
       "      <td>[0.25099227, 0.011230875, 0.07776939, 0.001071...</td>\n",
       "    </tr>\n",
       "    <tr>\n",
       "      <th>st05_koelecv3_001</th>\n",
       "      <td>[0.22973968, 0.019479094, 0.07920361, 0.002681...</td>\n",
       "    </tr>\n",
       "    <tr>\n",
       "      <th>st02_koelecv3_000</th>\n",
       "      <td>[0.24520728, 0.009420769, 0.075381964, 0.00414...</td>\n",
       "    </tr>\n",
       "    <tr>\n",
       "      <th>st01_koelecv3_003</th>\n",
       "      <td>[0.28439614, 0.010537504, 0.077989615, 0.00530...</td>\n",
       "    </tr>\n",
       "    <tr>\n",
       "      <th>st06_koelecv3_003</th>\n",
       "      <td>[0.26920924, 0.008189443, 0.08988307, 0.003071...</td>\n",
       "    </tr>\n",
       "    <tr>\n",
       "      <th>st01_koelecv3_002</th>\n",
       "      <td>[0.25724393, 0.008641748, 0.07160159, 0.008849...</td>\n",
       "    </tr>\n",
       "    <tr>\n",
       "      <th>st09_koelecv3_000</th>\n",
       "      <td>[0.21455745, 0.016975563, 0.08329793, 0.006038...</td>\n",
       "    </tr>\n",
       "    <tr>\n",
       "      <th>st02_koelecv3_001</th>\n",
       "      <td>[0.27212387, 0.0058342894, 0.072732136, 0.0003...</td>\n",
       "    </tr>\n",
       "    <tr>\n",
       "      <th>st05_koelecv3_003</th>\n",
       "      <td>[0.21324852, 0.013310967, 0.0726942, 0.0125930...</td>\n",
       "    </tr>\n",
       "    <tr>\n",
       "      <th>st09_koelecv3_003</th>\n",
       "      <td>[0.21528363, 0.012954742, 0.077416755, 0.00352...</td>\n",
       "    </tr>\n",
       "    <tr>\n",
       "      <th>st05_koelecv3_000</th>\n",
       "      <td>[0.19432716, 0.0069801304, 0.07580884, 0.00655...</td>\n",
       "    </tr>\n",
       "  </tbody>\n",
       "</table>\n",
       "</div>"
      ],
      "text/plain": [
       "                                                       model_vectors\n",
       "st04_koelecv3_001  [0.2715083, 0.008009417, 0.069552675, 0.001548...\n",
       "st04_koelecv3_003  [0.27535617, 0.011491739, 0.07277849, 0.001669...\n",
       "st04_koelecv3_000  [0.2403952, 0.010814292, 0.08880568, 0.0050655...\n",
       "st05_koelecv3_002  [0.29716086, 0.010048949, 0.062385887, 0.00751...\n",
       "st06_koelecv3_000  [0.2929825, 0.007957892, 0.066946596, 0.002177...\n",
       "st09_koelecv3_001  [0.25099227, 0.011230875, 0.07776939, 0.001071...\n",
       "st05_koelecv3_001  [0.22973968, 0.019479094, 0.07920361, 0.002681...\n",
       "st02_koelecv3_000  [0.24520728, 0.009420769, 0.075381964, 0.00414...\n",
       "st01_koelecv3_003  [0.28439614, 0.010537504, 0.077989615, 0.00530...\n",
       "st06_koelecv3_003  [0.26920924, 0.008189443, 0.08988307, 0.003071...\n",
       "st01_koelecv3_002  [0.25724393, 0.008641748, 0.07160159, 0.008849...\n",
       "st09_koelecv3_000  [0.21455745, 0.016975563, 0.08329793, 0.006038...\n",
       "st02_koelecv3_001  [0.27212387, 0.0058342894, 0.072732136, 0.0003...\n",
       "st05_koelecv3_003  [0.21324852, 0.013310967, 0.0726942, 0.0125930...\n",
       "st09_koelecv3_003  [0.21528363, 0.012954742, 0.077416755, 0.00352...\n",
       "st05_koelecv3_000  [0.19432716, 0.0069801304, 0.07580884, 0.00655..."
      ]
     },
     "execution_count": 418,
     "metadata": {},
     "output_type": "execute_result"
    }
   ],
   "source": [
    "df"
   ]
  },
  {
   "cell_type": "code",
   "execution_count": 419,
   "id": "420e2aa4-d193-4ea1-a0ce-93bee71db2c3",
   "metadata": {},
   "outputs": [
    {
     "data": {
      "text/plain": [
       "(16, 84)"
      ]
     },
     "execution_count": 419,
     "metadata": {},
     "output_type": "execute_result"
    }
   ],
   "source": [
    "len(df), len(df.iloc[0, 0])"
   ]
  },
  {
   "cell_type": "code",
   "execution_count": 420,
   "id": "ef3c7ab5-da08-4221-bd47-db64a80262bc",
   "metadata": {},
   "outputs": [],
   "source": [
    "import scipy"
   ]
  },
  {
   "cell_type": "code",
   "execution_count": 421,
   "id": "fb739afe-b72a-44e3-bbe9-f40188802a46",
   "metadata": {},
   "outputs": [],
   "source": [
    "def sampling(low, high):\n",
    "    dist = scipy.special.softmax([np.random.uniform(low=low, high=high) for _ in range(16)])\n",
    "    return dist"
   ]
  },
  {
   "cell_type": "code",
   "execution_count": 422,
   "id": "28e778ae-be55-4fe5-9b03-ad9e4ea60293",
   "metadata": {},
   "outputs": [],
   "source": [
    "ar = df[['model_vectors']].values[0][0]"
   ]
  },
  {
   "cell_type": "code",
   "execution_count": 423,
   "id": "03babd6c-637c-4e38-b548-9506041a9884",
   "metadata": {},
   "outputs": [
    {
     "data": {
      "text/plain": [
       "array([2.7150831e-01, 8.0094170e-03, 6.9552675e-02, 1.5487294e-03,\n",
       "       1.0887675e-01, 5.6959558e-02, 2.0284332e-02, 3.2644436e-02,\n",
       "       2.1069732e-02, 1.8093737e-02, 1.4597704e-01, 8.5543981e-03,\n",
       "       8.9492239e-03, 9.0770260e-04, 6.7439843e-03, 4.9525231e-02,\n",
       "       2.2729246e-03, 3.0308655e-02, 8.9595633e-05, 1.7555290e-03,\n",
       "       3.1264219e-02, 1.1688566e-02, 1.0671929e-02, 7.9361554e-03,\n",
       "       2.0816166e-02, 1.4541988e-02, 2.0687653e-04, 6.7222537e-03,\n",
       "       6.7069870e-04, 1.8738410e-04, 3.1649185e-04, 5.0039110e-03,\n",
       "       9.5106550e-03, 5.7370784e-03, 3.2525656e-03, 6.9733863e-03,\n",
       "       1.2294378e-04, 7.3165385e-05, 1.5367157e-04, 3.9685954e-04,\n",
       "       4.7282629e-05, 7.3874144e-05, 3.7678674e-01, 7.5789101e-02,\n",
       "       2.3983273e-01, 2.8215809e-02, 2.9491243e-01, 2.1262787e-01,\n",
       "       1.3088992e-01, 1.5715708e-01, 1.1456255e-01, 1.2059704e-01,\n",
       "       3.2503435e-01, 7.5365506e-02, 8.2280792e-02, 1.8540852e-02,\n",
       "       7.3057786e-02, 1.9621389e-01, 3.8708530e-02, 1.5703273e-01,\n",
       "       4.2119020e-04, 3.3597041e-02, 1.6432302e-01, 7.8432865e-02,\n",
       "       9.4004117e-02, 6.1970279e-02, 1.3452497e-01, 1.0181945e-01,\n",
       "       6.0554786e-04, 7.6142967e-02, 1.5907642e-02, 2.7672050e-04,\n",
       "       1.5835572e-03, 5.2959595e-02, 9.0327635e-02, 6.7508362e-02,\n",
       "       5.4327380e-02, 6.3747160e-02, 3.2360488e-04, 1.5427158e-04,\n",
       "       3.3879888e-04, 3.7182849e-03, 1.6519241e-04, 1.3793010e-04],\n",
       "      dtype=float32)"
      ]
     },
     "execution_count": 423,
     "metadata": {},
     "output_type": "execute_result"
    }
   ],
   "source": [
    "df.iloc[0, 0]"
   ]
  },
  {
   "cell_type": "code",
   "execution_count": 424,
   "id": "776a17d9-e012-4e7f-ade7-6cb723b2162c",
   "metadata": {},
   "outputs": [
    {
     "data": {
      "text/plain": [
       "(5000, 84)"
      ]
     },
     "execution_count": 424,
     "metadata": {},
     "output_type": "execute_result"
    }
   ],
   "source": [
    "fake_vectors.shape"
   ]
  },
  {
   "cell_type": "code",
   "execution_count": 425,
   "id": "de5120ab-e579-4678-929c-bab1b18318d5",
   "metadata": {},
   "outputs": [],
   "source": [
    "weights = sampling(-5, 5)"
   ]
  },
  {
   "cell_type": "code",
   "execution_count": 426,
   "id": "37b8a1fc-217d-421f-86bd-c32d967c79e7",
   "metadata": {},
   "outputs": [],
   "source": [
    "test = (fake_vectors[0] + weights.reshape(-1, 1))"
   ]
  },
  {
   "cell_type": "code",
   "execution_count": 427,
   "id": "358c615e-c591-427f-9a07-e833e58ed7fe",
   "metadata": {},
   "outputs": [],
   "source": [
    "fake_model_len = 5000\n",
    "vector_len = 84\n",
    "\n",
    "fake_weights = []\n",
    "fake_vectors = np.zeros((fake_model_len, 16, vector_len))\n",
    "\n",
    "for i in range(fake_model_len):\n",
    "    weights = sampling(-5, 5).reshape(-1, 1)\n",
    "    fake_vectors[i] = weights\n",
    "    fake_weights.append(weights)"
   ]
  },
  {
   "cell_type": "code",
   "execution_count": 428,
   "id": "01423fbe-f229-4ef2-a3a0-2b0ce5c4ba67",
   "metadata": {},
   "outputs": [
    {
     "data": {
      "text/plain": [
       "(5000, 16, 84)"
      ]
     },
     "execution_count": 428,
     "metadata": {},
     "output_type": "execute_result"
    }
   ],
   "source": [
    "fake_vectors.shape"
   ]
  },
  {
   "cell_type": "code",
   "execution_count": 429,
   "id": "9124521c-9e76-4cad-9ae6-5ebfb33f480c",
   "metadata": {},
   "outputs": [
    {
     "data": {
      "text/plain": [
       "(5000, 84)"
      ]
     },
     "execution_count": 429,
     "metadata": {},
     "output_type": "execute_result"
    }
   ],
   "source": [
    "fake_vectors[:, 15].shape"
   ]
  },
  {
   "cell_type": "code",
   "execution_count": 430,
   "id": "e949e127-6bf6-434f-b5fd-c5fb4b464f80",
   "metadata": {},
   "outputs": [],
   "source": [
    "for idx, model_name in enumerate(df.index):\n",
    "    vector = df.loc[model_name].model_vectors\n",
    "    fake_vectors[:, idx] = fake_vectors[:, idx] * vector"
   ]
  },
  {
   "cell_type": "code",
   "execution_count": 431,
   "id": "d4e2d22c-d48c-4802-81ca-46906994316f",
   "metadata": {},
   "outputs": [
    {
     "data": {
      "text/plain": [
       "(5000, 16, 84)"
      ]
     },
     "execution_count": 431,
     "metadata": {},
     "output_type": "execute_result"
    }
   ],
   "source": [
    "fake_vectors.shape"
   ]
  },
  {
   "cell_type": "code",
   "execution_count": 432,
   "id": "ecde9095-327c-4ed7-938b-840c3046a2ac",
   "metadata": {},
   "outputs": [],
   "source": [
    "fake_vectors = fake_vectors.sum(axis=-2)"
   ]
  },
  {
   "cell_type": "code",
   "execution_count": 433,
   "id": "16d729a4-1f33-4434-85d8-dd83f32d8151",
   "metadata": {},
   "outputs": [
    {
     "data": {
      "text/plain": [
       "(5000, 84)"
      ]
     },
     "execution_count": 433,
     "metadata": {},
     "output_type": "execute_result"
    }
   ],
   "source": [
    "fake_vectors.shape"
   ]
  },
  {
   "cell_type": "code",
   "execution_count": 434,
   "id": "004b85aa-f419-4a9a-a2b6-5aa47e3ea0c8",
   "metadata": {},
   "outputs": [
    {
     "data": {
      "text/html": [
       "<div>\n",
       "<style scoped>\n",
       "    .dataframe tbody tr th:only-of-type {\n",
       "        vertical-align: middle;\n",
       "    }\n",
       "\n",
       "    .dataframe tbody tr th {\n",
       "        vertical-align: top;\n",
       "    }\n",
       "\n",
       "    .dataframe thead th {\n",
       "        text-align: right;\n",
       "    }\n",
       "</style>\n",
       "<table border=\"1\" class=\"dataframe\">\n",
       "  <thead>\n",
       "    <tr style=\"text-align: right;\">\n",
       "      <th></th>\n",
       "      <th>model_vectors</th>\n",
       "    </tr>\n",
       "  </thead>\n",
       "  <tbody>\n",
       "    <tr>\n",
       "      <th>st04_koelecv3_001</th>\n",
       "      <td>[0.2715083, 0.008009417, 0.069552675, 0.001548...</td>\n",
       "    </tr>\n",
       "    <tr>\n",
       "      <th>st04_koelecv3_003</th>\n",
       "      <td>[0.27535617, 0.011491739, 0.07277849, 0.001669...</td>\n",
       "    </tr>\n",
       "    <tr>\n",
       "      <th>st04_koelecv3_000</th>\n",
       "      <td>[0.2403952, 0.010814292, 0.08880568, 0.0050655...</td>\n",
       "    </tr>\n",
       "    <tr>\n",
       "      <th>st05_koelecv3_002</th>\n",
       "      <td>[0.29716086, 0.010048949, 0.062385887, 0.00751...</td>\n",
       "    </tr>\n",
       "    <tr>\n",
       "      <th>st06_koelecv3_000</th>\n",
       "      <td>[0.2929825, 0.007957892, 0.066946596, 0.002177...</td>\n",
       "    </tr>\n",
       "    <tr>\n",
       "      <th>st09_koelecv3_001</th>\n",
       "      <td>[0.25099227, 0.011230875, 0.07776939, 0.001071...</td>\n",
       "    </tr>\n",
       "    <tr>\n",
       "      <th>st05_koelecv3_001</th>\n",
       "      <td>[0.22973968, 0.019479094, 0.07920361, 0.002681...</td>\n",
       "    </tr>\n",
       "    <tr>\n",
       "      <th>st02_koelecv3_000</th>\n",
       "      <td>[0.24520728, 0.009420769, 0.075381964, 0.00414...</td>\n",
       "    </tr>\n",
       "    <tr>\n",
       "      <th>st01_koelecv3_003</th>\n",
       "      <td>[0.28439614, 0.010537504, 0.077989615, 0.00530...</td>\n",
       "    </tr>\n",
       "    <tr>\n",
       "      <th>st06_koelecv3_003</th>\n",
       "      <td>[0.26920924, 0.008189443, 0.08988307, 0.003071...</td>\n",
       "    </tr>\n",
       "    <tr>\n",
       "      <th>st01_koelecv3_002</th>\n",
       "      <td>[0.25724393, 0.008641748, 0.07160159, 0.008849...</td>\n",
       "    </tr>\n",
       "    <tr>\n",
       "      <th>st09_koelecv3_000</th>\n",
       "      <td>[0.21455745, 0.016975563, 0.08329793, 0.006038...</td>\n",
       "    </tr>\n",
       "    <tr>\n",
       "      <th>st02_koelecv3_001</th>\n",
       "      <td>[0.27212387, 0.0058342894, 0.072732136, 0.0003...</td>\n",
       "    </tr>\n",
       "    <tr>\n",
       "      <th>st05_koelecv3_003</th>\n",
       "      <td>[0.21324852, 0.013310967, 0.0726942, 0.0125930...</td>\n",
       "    </tr>\n",
       "    <tr>\n",
       "      <th>st09_koelecv3_003</th>\n",
       "      <td>[0.21528363, 0.012954742, 0.077416755, 0.00352...</td>\n",
       "    </tr>\n",
       "    <tr>\n",
       "      <th>st05_koelecv3_000</th>\n",
       "      <td>[0.19432716, 0.0069801304, 0.07580884, 0.00655...</td>\n",
       "    </tr>\n",
       "  </tbody>\n",
       "</table>\n",
       "</div>"
      ],
      "text/plain": [
       "                                                       model_vectors\n",
       "st04_koelecv3_001  [0.2715083, 0.008009417, 0.069552675, 0.001548...\n",
       "st04_koelecv3_003  [0.27535617, 0.011491739, 0.07277849, 0.001669...\n",
       "st04_koelecv3_000  [0.2403952, 0.010814292, 0.08880568, 0.0050655...\n",
       "st05_koelecv3_002  [0.29716086, 0.010048949, 0.062385887, 0.00751...\n",
       "st06_koelecv3_000  [0.2929825, 0.007957892, 0.066946596, 0.002177...\n",
       "st09_koelecv3_001  [0.25099227, 0.011230875, 0.07776939, 0.001071...\n",
       "st05_koelecv3_001  [0.22973968, 0.019479094, 0.07920361, 0.002681...\n",
       "st02_koelecv3_000  [0.24520728, 0.009420769, 0.075381964, 0.00414...\n",
       "st01_koelecv3_003  [0.28439614, 0.010537504, 0.077989615, 0.00530...\n",
       "st06_koelecv3_003  [0.26920924, 0.008189443, 0.08988307, 0.003071...\n",
       "st01_koelecv3_002  [0.25724393, 0.008641748, 0.07160159, 0.008849...\n",
       "st09_koelecv3_000  [0.21455745, 0.016975563, 0.08329793, 0.006038...\n",
       "st02_koelecv3_001  [0.27212387, 0.0058342894, 0.072732136, 0.0003...\n",
       "st05_koelecv3_003  [0.21324852, 0.013310967, 0.0726942, 0.0125930...\n",
       "st09_koelecv3_003  [0.21528363, 0.012954742, 0.077416755, 0.00352...\n",
       "st05_koelecv3_000  [0.19432716, 0.0069801304, 0.07580884, 0.00655..."
      ]
     },
     "execution_count": 434,
     "metadata": {},
     "output_type": "execute_result"
    }
   ],
   "source": [
    "df"
   ]
  },
  {
   "cell_type": "code",
   "execution_count": 435,
   "id": "0445e158-34ea-459c-867f-2c178a42c4b2",
   "metadata": {},
   "outputs": [],
   "source": [
    "index = [f\"fake_model_{i:03}\" for i in range(fake_model_len)]"
   ]
  },
  {
   "cell_type": "code",
   "execution_count": 436,
   "id": "13d53b39-75c9-44ff-90b0-88507c18ee9f",
   "metadata": {},
   "outputs": [
    {
     "data": {
      "text/html": [
       "<div>\n",
       "<style scoped>\n",
       "    .dataframe tbody tr th:only-of-type {\n",
       "        vertical-align: middle;\n",
       "    }\n",
       "\n",
       "    .dataframe tbody tr th {\n",
       "        vertical-align: top;\n",
       "    }\n",
       "\n",
       "    .dataframe thead th {\n",
       "        text-align: right;\n",
       "    }\n",
       "</style>\n",
       "<table border=\"1\" class=\"dataframe\">\n",
       "  <thead>\n",
       "    <tr style=\"text-align: right;\">\n",
       "      <th></th>\n",
       "      <th>model_vectors</th>\n",
       "    </tr>\n",
       "  </thead>\n",
       "  <tbody>\n",
       "    <tr>\n",
       "      <th>fake_model_000</th>\n",
       "      <td>[0.255462250467214, 0.010170440146674849, 0.07...</td>\n",
       "    </tr>\n",
       "    <tr>\n",
       "      <th>fake_model_001</th>\n",
       "      <td>[0.2546471415552612, 0.01309871810157407, 0.07...</td>\n",
       "    </tr>\n",
       "    <tr>\n",
       "      <th>fake_model_002</th>\n",
       "      <td>[0.26209690418108794, 0.010875739478212378, 0....</td>\n",
       "    </tr>\n",
       "    <tr>\n",
       "      <th>fake_model_003</th>\n",
       "      <td>[0.23780909712909656, 0.008214872680239125, 0....</td>\n",
       "    </tr>\n",
       "    <tr>\n",
       "      <th>fake_model_004</th>\n",
       "      <td>[0.2641572176499231, 0.009640898308980336, 0.0...</td>\n",
       "    </tr>\n",
       "    <tr>\n",
       "      <th>...</th>\n",
       "      <td>...</td>\n",
       "    </tr>\n",
       "    <tr>\n",
       "      <th>fake_model_4995</th>\n",
       "      <td>[0.27723086693083693, 0.009409190893441704, 0....</td>\n",
       "    </tr>\n",
       "    <tr>\n",
       "      <th>fake_model_4996</th>\n",
       "      <td>[0.26769197834763386, 0.010520051390340039, 0....</td>\n",
       "    </tr>\n",
       "    <tr>\n",
       "      <th>fake_model_4997</th>\n",
       "      <td>[0.2686795206788685, 0.010002533480927608, 0.0...</td>\n",
       "    </tr>\n",
       "    <tr>\n",
       "      <th>fake_model_4998</th>\n",
       "      <td>[0.23716650349778176, 0.011508565478853441, 0....</td>\n",
       "    </tr>\n",
       "    <tr>\n",
       "      <th>fake_model_4999</th>\n",
       "      <td>[0.2198573086548105, 0.012950810859229257, 0.0...</td>\n",
       "    </tr>\n",
       "  </tbody>\n",
       "</table>\n",
       "<p>5000 rows × 1 columns</p>\n",
       "</div>"
      ],
      "text/plain": [
       "                                                     model_vectors\n",
       "fake_model_000   [0.255462250467214, 0.010170440146674849, 0.07...\n",
       "fake_model_001   [0.2546471415552612, 0.01309871810157407, 0.07...\n",
       "fake_model_002   [0.26209690418108794, 0.010875739478212378, 0....\n",
       "fake_model_003   [0.23780909712909656, 0.008214872680239125, 0....\n",
       "fake_model_004   [0.2641572176499231, 0.009640898308980336, 0.0...\n",
       "...                                                            ...\n",
       "fake_model_4995  [0.27723086693083693, 0.009409190893441704, 0....\n",
       "fake_model_4996  [0.26769197834763386, 0.010520051390340039, 0....\n",
       "fake_model_4997  [0.2686795206788685, 0.010002533480927608, 0.0...\n",
       "fake_model_4998  [0.23716650349778176, 0.011508565478853441, 0....\n",
       "fake_model_4999  [0.2198573086548105, 0.012950810859229257, 0.0...\n",
       "\n",
       "[5000 rows x 1 columns]"
      ]
     },
     "execution_count": 436,
     "metadata": {},
     "output_type": "execute_result"
    }
   ],
   "source": [
    "new_df = pd.DataFrame(zip(fake_vectors), columns=['model_vectors'], index=index)\n",
    "new_df"
   ]
  },
  {
   "cell_type": "code",
   "execution_count": 437,
   "id": "a085f086-925a-45f3-a82d-a6c141dc1ab8",
   "metadata": {},
   "outputs": [],
   "source": [
    "cat_df = pd.concat((df, new_df))"
   ]
  },
  {
   "cell_type": "code",
   "execution_count": 438,
   "id": "2155a6f7-5d5f-43ff-b96e-6d406b1a2539",
   "metadata": {},
   "outputs": [
    {
     "data": {
      "text/html": [
       "<div>\n",
       "<style scoped>\n",
       "    .dataframe tbody tr th:only-of-type {\n",
       "        vertical-align: middle;\n",
       "    }\n",
       "\n",
       "    .dataframe tbody tr th {\n",
       "        vertical-align: top;\n",
       "    }\n",
       "\n",
       "    .dataframe thead th {\n",
       "        text-align: right;\n",
       "    }\n",
       "</style>\n",
       "<table border=\"1\" class=\"dataframe\">\n",
       "  <thead>\n",
       "    <tr style=\"text-align: right;\">\n",
       "      <th></th>\n",
       "      <th>model_vectors</th>\n",
       "    </tr>\n",
       "  </thead>\n",
       "  <tbody>\n",
       "    <tr>\n",
       "      <th>st04_koelecv3_001</th>\n",
       "      <td>[0.2715083, 0.008009417, 0.069552675, 0.001548...</td>\n",
       "    </tr>\n",
       "    <tr>\n",
       "      <th>st04_koelecv3_003</th>\n",
       "      <td>[0.27535617, 0.011491739, 0.07277849, 0.001669...</td>\n",
       "    </tr>\n",
       "    <tr>\n",
       "      <th>st04_koelecv3_000</th>\n",
       "      <td>[0.2403952, 0.010814292, 0.08880568, 0.0050655...</td>\n",
       "    </tr>\n",
       "    <tr>\n",
       "      <th>st05_koelecv3_002</th>\n",
       "      <td>[0.29716086, 0.010048949, 0.062385887, 0.00751...</td>\n",
       "    </tr>\n",
       "    <tr>\n",
       "      <th>st06_koelecv3_000</th>\n",
       "      <td>[0.2929825, 0.007957892, 0.066946596, 0.002177...</td>\n",
       "    </tr>\n",
       "    <tr>\n",
       "      <th>...</th>\n",
       "      <td>...</td>\n",
       "    </tr>\n",
       "    <tr>\n",
       "      <th>fake_model_4995</th>\n",
       "      <td>[0.27723086693083693, 0.009409190893441704, 0....</td>\n",
       "    </tr>\n",
       "    <tr>\n",
       "      <th>fake_model_4996</th>\n",
       "      <td>[0.26769197834763386, 0.010520051390340039, 0....</td>\n",
       "    </tr>\n",
       "    <tr>\n",
       "      <th>fake_model_4997</th>\n",
       "      <td>[0.2686795206788685, 0.010002533480927608, 0.0...</td>\n",
       "    </tr>\n",
       "    <tr>\n",
       "      <th>fake_model_4998</th>\n",
       "      <td>[0.23716650349778176, 0.011508565478853441, 0....</td>\n",
       "    </tr>\n",
       "    <tr>\n",
       "      <th>fake_model_4999</th>\n",
       "      <td>[0.2198573086548105, 0.012950810859229257, 0.0...</td>\n",
       "    </tr>\n",
       "  </tbody>\n",
       "</table>\n",
       "<p>5016 rows × 1 columns</p>\n",
       "</div>"
      ],
      "text/plain": [
       "                                                       model_vectors\n",
       "st04_koelecv3_001  [0.2715083, 0.008009417, 0.069552675, 0.001548...\n",
       "st04_koelecv3_003  [0.27535617, 0.011491739, 0.07277849, 0.001669...\n",
       "st04_koelecv3_000  [0.2403952, 0.010814292, 0.08880568, 0.0050655...\n",
       "st05_koelecv3_002  [0.29716086, 0.010048949, 0.062385887, 0.00751...\n",
       "st06_koelecv3_000  [0.2929825, 0.007957892, 0.066946596, 0.002177...\n",
       "...                                                              ...\n",
       "fake_model_4995    [0.27723086693083693, 0.009409190893441704, 0....\n",
       "fake_model_4996    [0.26769197834763386, 0.010520051390340039, 0....\n",
       "fake_model_4997    [0.2686795206788685, 0.010002533480927608, 0.0...\n",
       "fake_model_4998    [0.23716650349778176, 0.011508565478853441, 0....\n",
       "fake_model_4999    [0.2198573086548105, 0.012950810859229257, 0.0...\n",
       "\n",
       "[5016 rows x 1 columns]"
      ]
     },
     "execution_count": 438,
     "metadata": {},
     "output_type": "execute_result"
    }
   ],
   "source": [
    "cat_df"
   ]
  },
  {
   "cell_type": "code",
   "execution_count": 439,
   "id": "89d96000-f7cd-4b28-b43b-df541978c3d1",
   "metadata": {},
   "outputs": [],
   "source": [
    "def plot_data(X):\n",
    "    plt.plot(X[:, 0], X[:, 1], 'k.', markersize=2)\n",
    "\n",
    "def plot_centroids(centroids, weights=None, circle_color='w', cross_color='k'):\n",
    "    if weights is not None:\n",
    "        centroids = centroids[weights > weights.max() / 10]\n",
    "    plt.scatter(centroids[:, 0], centroids[:, 1],\n",
    "                marker='o', s=35, linewidths=8,\n",
    "                color=circle_color, zorder=10, alpha=0.9)\n",
    "    plt.scatter(centroids[:, 0], centroids[:, 1],\n",
    "                marker='x', s=2, linewidths=12, \n",
    "                color=cross_color, zorder=11, alpha=1)\n",
    "\n",
    "def plot_decision_boundaries(clusterer, X, resolution=1000, show_centroids=True,\n",
    "                             show_xlabels=True, show_ylabels=True):\n",
    "    mins = X.min(axis=0) - 0.1\n",
    "    maxs = X.max(axis=0) + 0.1\n",
    "    xx, yy = np.meshgrid(np.linspace(mins[0], maxs[0], resolution),\n",
    "                         np.linspace(mins[1], maxs[1], resolution))\n",
    "    Z = clusterer.predict(np.c_[xx.ravel(), yy.ravel()])\n",
    "    Z = Z.reshape(xx.shape)\n",
    "\n",
    "    plt.contourf(Z, extent=(mins[0], maxs[0], mins[1], maxs[1]),\n",
    "                cmap=\"Pastel2\")\n",
    "    plt.contour(Z, extent=(mins[0], maxs[0], mins[1], maxs[1]),\n",
    "                linewidths=1, colors='k')\n",
    "    plot_data(X)\n",
    "    if show_centroids:\n",
    "        plot_centroids(clusterer.cluster_centers_)\n",
    "\n",
    "    if show_xlabels:\n",
    "        plt.xlabel(\"$x_1$\", fontsize=14)\n",
    "    else:\n",
    "        plt.tick_params(labelbottom=False)\n",
    "    if show_ylabels:\n",
    "        plt.ylabel(\"$x_2$\", fontsize=14, rotation=0)\n",
    "    else:\n",
    "        plt.tick_params(labelleft=False)"
   ]
  },
  {
   "cell_type": "code",
   "execution_count": 440,
   "id": "1038c795-40b6-4682-a1e0-120a0bc90cc9",
   "metadata": {},
   "outputs": [],
   "source": [
    "from sklearn.cluster import KMeans"
   ]
  },
  {
   "cell_type": "code",
   "execution_count": 441,
   "id": "8029ee5a-5d06-44dc-ab3f-e380755abecf",
   "metadata": {},
   "outputs": [],
   "source": [
    "vector = np.zeros((len(cat_df), 84))"
   ]
  },
  {
   "cell_type": "code",
   "execution_count": 442,
   "id": "d9193ba3-f42f-4577-b0e1-c70efa984b3d",
   "metadata": {},
   "outputs": [
    {
     "data": {
      "text/plain": [
       "(5016, 84)"
      ]
     },
     "execution_count": 442,
     "metadata": {},
     "output_type": "execute_result"
    }
   ],
   "source": [
    "vector.shape"
   ]
  },
  {
   "cell_type": "code",
   "execution_count": 443,
   "id": "0c61d9e5-2a64-4177-a2a9-a2f37a9bdeea",
   "metadata": {},
   "outputs": [
    {
     "data": {
      "text/plain": [
       "array([0., 0., 0., 0., 0., 0., 0., 0., 0., 0., 0., 0., 0., 0., 0., 0., 0.,\n",
       "       0., 0., 0., 0., 0., 0., 0., 0., 0., 0., 0., 0., 0., 0., 0., 0., 0.,\n",
       "       0., 0., 0., 0., 0., 0., 0., 0., 0., 0., 0., 0., 0., 0., 0., 0., 0.,\n",
       "       0., 0., 0., 0., 0., 0., 0., 0., 0., 0., 0., 0., 0., 0., 0., 0., 0.,\n",
       "       0., 0., 0., 0., 0., 0., 0., 0., 0., 0., 0., 0., 0., 0., 0., 0.])"
      ]
     },
     "execution_count": 443,
     "metadata": {},
     "output_type": "execute_result"
    }
   ],
   "source": [
    "vector[1]"
   ]
  },
  {
   "cell_type": "code",
   "execution_count": 444,
   "id": "7c289599-27dd-4860-a5e0-b126eb309897",
   "metadata": {},
   "outputs": [],
   "source": [
    "for i, (_, rows) in enumerate(cat_df.iterrows()):\n",
    "    vector[i] = rows[0]"
   ]
  },
  {
   "cell_type": "code",
   "execution_count": 445,
   "id": "7c28075f-e4af-4b03-b75c-9aa492727e71",
   "metadata": {},
   "outputs": [
    {
     "data": {
      "text/plain": [
       "(5016, 84)"
      ]
     },
     "execution_count": 445,
     "metadata": {},
     "output_type": "execute_result"
    }
   ],
   "source": [
    "vector.shape"
   ]
  },
  {
   "cell_type": "code",
   "execution_count": 446,
   "id": "1bea2628-c3cd-491b-a52c-e491e56a2c3d",
   "metadata": {},
   "outputs": [],
   "source": [
    "new_df['model_vectors'] = new_df['model_vectors'].apply(lambda x: list(x))"
   ]
  },
  {
   "cell_type": "code",
   "execution_count": 462,
   "id": "6a4603a5-ba86-42f7-a028-f26619dd5ba6",
   "metadata": {},
   "outputs": [],
   "source": [
    "k = 16\n",
    "kmeans = KMeans(n_clusters=k, random_state=42)\n",
    "y_pred = kmeans.fit_predict(vector)"
   ]
  },
  {
   "cell_type": "code",
   "execution_count": 463,
   "id": "60ee2d1c-0ab4-4790-acd1-6b99b2af9d15",
   "metadata": {},
   "outputs": [],
   "source": [
    "import matplotlib.pyplot as plt"
   ]
  },
  {
   "cell_type": "code",
   "execution_count": 464,
   "id": "92fa8f01-0898-4c1a-85aa-b7f029d9066b",
   "metadata": {},
   "outputs": [
    {
     "data": {
      "text/plain": [
       "array([[2.71508306e-01, 8.00941698e-03, 6.95526749e-02, ...,\n",
       "        3.71828489e-03, 1.65192410e-04, 1.37930096e-04],\n",
       "       [2.75356174e-01, 1.14917392e-02, 7.27784932e-02, ...,\n",
       "        2.92175543e-02, 2.43848641e-04, 7.75452517e-03],\n",
       "       [2.40395203e-01, 1.08142924e-02, 8.88056830e-02, ...,\n",
       "        4.04141173e-02, 1.51507673e-03, 7.08044041e-04],\n",
       "       ...,\n",
       "       [2.68679521e-01, 1.00025335e-02, 7.36546703e-02, ...,\n",
       "        4.06800828e-02, 1.05585509e-03, 4.14963444e-03],\n",
       "       [2.37166503e-01, 1.15085655e-02, 7.52338225e-02, ...,\n",
       "        3.82650938e-02, 7.96941637e-04, 7.25823915e-03],\n",
       "       [2.19857309e-01, 1.29508109e-02, 7.55170104e-02, ...,\n",
       "        3.31637101e-02, 4.39896508e-04, 1.93860978e-03]])"
      ]
     },
     "execution_count": 464,
     "metadata": {},
     "output_type": "execute_result"
    }
   ],
   "source": [
    "vector"
   ]
  },
  {
   "cell_type": "code",
   "execution_count": 465,
   "id": "8655cae1-898e-4f52-8a5f-add2d0b6059a",
   "metadata": {},
   "outputs": [],
   "source": [
    "import seaborn as sns\n",
    "from sklearn.manifold import TSNE\n",
    "\n",
    "sns.set(style=\"white\")\n",
    "\n",
    "tsne = TSNE(n_components=2, random_state=0, n_iter=2000)\n",
    "v_tsne = tsne.fit_transform(vector)"
   ]
  },
  {
   "cell_type": "code",
   "execution_count": 466,
   "id": "4ffd05e9-5f5e-43eb-9211-8a5b96c768e5",
   "metadata": {},
   "outputs": [],
   "source": [
    "last_df = pd.DataFrame(v_tsne, columns=['x', 'y'], index=cat_df.index)\n",
    "last_df['cluster'] = y_pred"
   ]
  },
  {
   "cell_type": "code",
   "execution_count": 467,
   "id": "ddc88e64-ca40-465a-919c-0c75e948ce55",
   "metadata": {},
   "outputs": [
    {
     "data": {
      "text/html": [
       "<div>\n",
       "<style scoped>\n",
       "    .dataframe tbody tr th:only-of-type {\n",
       "        vertical-align: middle;\n",
       "    }\n",
       "\n",
       "    .dataframe tbody tr th {\n",
       "        vertical-align: top;\n",
       "    }\n",
       "\n",
       "    .dataframe thead th {\n",
       "        text-align: right;\n",
       "    }\n",
       "</style>\n",
       "<table border=\"1\" class=\"dataframe\">\n",
       "  <thead>\n",
       "    <tr style=\"text-align: right;\">\n",
       "      <th></th>\n",
       "      <th>x</th>\n",
       "      <th>y</th>\n",
       "      <th>cluster</th>\n",
       "    </tr>\n",
       "  </thead>\n",
       "  <tbody>\n",
       "    <tr>\n",
       "      <th>st04_koelecv3_001</th>\n",
       "      <td>52.556004</td>\n",
       "      <td>-54.565697</td>\n",
       "      <td>15</td>\n",
       "    </tr>\n",
       "    <tr>\n",
       "      <th>st04_koelecv3_003</th>\n",
       "      <td>-25.021273</td>\n",
       "      <td>-80.499489</td>\n",
       "      <td>4</td>\n",
       "    </tr>\n",
       "    <tr>\n",
       "      <th>st04_koelecv3_000</th>\n",
       "      <td>1.122915</td>\n",
       "      <td>49.338909</td>\n",
       "      <td>8</td>\n",
       "    </tr>\n",
       "    <tr>\n",
       "      <th>st05_koelecv3_002</th>\n",
       "      <td>-79.484779</td>\n",
       "      <td>15.934952</td>\n",
       "      <td>14</td>\n",
       "    </tr>\n",
       "    <tr>\n",
       "      <th>st06_koelecv3_000</th>\n",
       "      <td>-64.499794</td>\n",
       "      <td>-29.952335</td>\n",
       "      <td>0</td>\n",
       "    </tr>\n",
       "  </tbody>\n",
       "</table>\n",
       "</div>"
      ],
      "text/plain": [
       "                           x          y  cluster\n",
       "st04_koelecv3_001  52.556004 -54.565697       15\n",
       "st04_koelecv3_003 -25.021273 -80.499489        4\n",
       "st04_koelecv3_000   1.122915  49.338909        8\n",
       "st05_koelecv3_002 -79.484779  15.934952       14\n",
       "st06_koelecv3_000 -64.499794 -29.952335        0"
      ]
     },
     "execution_count": 467,
     "metadata": {},
     "output_type": "execute_result"
    }
   ],
   "source": [
    "last_df.head()"
   ]
  },
  {
   "cell_type": "code",
   "execution_count": 716,
   "id": "5cbc6ee0-67f5-4cb6-8f51-6faf5f5e63ae",
   "metadata": {},
   "outputs": [
    {
     "data": {
      "text/plain": [
       "<seaborn.axisgrid.FacetGrid at 0x7f06d7214fd0>"
      ]
     },
     "execution_count": 716,
     "metadata": {},
     "output_type": "execute_result"
    },
    {
     "data": {
      "image/png": "[encoded data removed]",
      "text/plain": [
       "<Figure size 413.6x360 with 1 Axes>"
      ]
     },
     "metadata": {},
     "output_type": "display_data"
    }
   ],
   "source": [
    "sns.relplot(x=\"x\", y=\"y\", hue=\"cluster\", data=last_df, palette='Paired', sizes=30, alpha=0.3)"
   ]
  },
  {
   "cell_type": "code",
   "execution_count": 469,
   "id": "fd8e39a4-bf77-413e-bd2b-95f21db50928",
   "metadata": {},
   "outputs": [
    {
     "data": {
      "text/plain": [
       "5.523140361005182"
      ]
     },
     "execution_count": 469,
     "metadata": {},
     "output_type": "execute_result"
    }
   ],
   "source": [
    "kmeans.inertia_"
   ]
  },
  {
   "cell_type": "code",
   "execution_count": 470,
   "id": "97a89d5e-1c03-4b1f-979b-40c73a9e72cc",
   "metadata": {},
   "outputs": [],
   "source": [
    "cat_df['cluster'] = y_pred"
   ]
  },
  {
   "cell_type": "code",
   "execution_count": 471,
   "id": "05f187c8-eadd-4825-88d4-ba6e9b3f3fa7",
   "metadata": {},
   "outputs": [],
   "source": [
    "distance = []\n",
    "\n",
    "for i, rows in cat_df.iterrows():\n",
    "    cluster = kmeans.cluster_centers_[rows[1]]\n",
    "    vec = rows[0]\n",
    "    \n",
    "    dist = np.sum(cluster ** 2 + vec ** 2)\n",
    "    distance.append(dist)"
   ]
  },
  {
   "cell_type": "code",
   "execution_count": 472,
   "id": "89d92332-3edd-4770-ad04-40f82969a4f6",
   "metadata": {},
   "outputs": [],
   "source": [
    "def get_cluster_center(dataframe, cluster_num=20):\n",
    "    names = []\n",
    "    for i in range(cluster_num):\n",
    "        sub_df = dataframe[dataframe.cluster == i]\n",
    "        row = sub_df[sub_df.distance == sub_df.distance.min()]\n",
    "        names.append(row.index[0])\n",
    "    return names"
   ]
  },
  {
   "cell_type": "code",
   "execution_count": 475,
   "id": "3568458d-d324-4aa9-9048-4d0bee600784",
   "metadata": {},
   "outputs": [],
   "source": [
    "cat_df['distance'] = distance"
   ]
  },
  {
   "cell_type": "code",
   "execution_count": 476,
   "id": "161259cc-8c8f-4d32-af6b-6f98540d62cf",
   "metadata": {},
   "outputs": [],
   "source": [
    "names = get_cluster_center(cat_df, cluster_num=16)"
   ]
  },
  {
   "cell_type": "code",
   "execution_count": null,
   "id": "c922b7af-6b7e-4814-a1f0-6b511532d31b",
   "metadata": {},
   "outputs": [],
   "source": [
    "weight_model_names = "
   ]
  },
  {
   "cell_type": "code",
   "execution_count": 480,
   "id": "ffbd5f18-e0c4-42e1-823b-0a6e9d168a8c",
   "metadata": {},
   "outputs": [
    {
     "data": {
      "text/html": [
       "<div>\n",
       "<style scoped>\n",
       "    .dataframe tbody tr th:only-of-type {\n",
       "        vertical-align: middle;\n",
       "    }\n",
       "\n",
       "    .dataframe tbody tr th {\n",
       "        vertical-align: top;\n",
       "    }\n",
       "\n",
       "    .dataframe thead th {\n",
       "        text-align: right;\n",
       "    }\n",
       "</style>\n",
       "<table border=\"1\" class=\"dataframe\">\n",
       "  <thead>\n",
       "    <tr style=\"text-align: right;\">\n",
       "      <th></th>\n",
       "      <th>model_vectors</th>\n",
       "    </tr>\n",
       "  </thead>\n",
       "  <tbody>\n",
       "    <tr>\n",
       "      <th>st04_koelecv3_001</th>\n",
       "      <td>[0.2715083, 0.008009417, 0.069552675, 0.001548...</td>\n",
       "    </tr>\n",
       "    <tr>\n",
       "      <th>st04_koelecv3_003</th>\n",
       "      <td>[0.27535617, 0.011491739, 0.07277849, 0.001669...</td>\n",
       "    </tr>\n",
       "    <tr>\n",
       "      <th>st04_koelecv3_000</th>\n",
       "      <td>[0.2403952, 0.010814292, 0.08880568, 0.0050655...</td>\n",
       "    </tr>\n",
       "  </tbody>\n",
       "</table>\n",
       "</div>"
      ],
      "text/plain": [
       "                                                       model_vectors\n",
       "st04_koelecv3_001  [0.2715083, 0.008009417, 0.069552675, 0.001548...\n",
       "st04_koelecv3_003  [0.27535617, 0.011491739, 0.07277849, 0.001669...\n",
       "st04_koelecv3_000  [0.2403952, 0.010814292, 0.08880568, 0.0050655..."
      ]
     },
     "execution_count": 480,
     "metadata": {},
     "output_type": "execute_result"
    }
   ],
   "source": [
    "df.head(3)"
   ]
  },
  {
   "cell_type": "code",
   "execution_count": 481,
   "id": "ff3c017e-5558-44ab-9d0e-f72ec1d6fc39",
   "metadata": {},
   "outputs": [
    {
     "data": {
      "text/html": [
       "<div>\n",
       "<style scoped>\n",
       "    .dataframe tbody tr th:only-of-type {\n",
       "        vertical-align: middle;\n",
       "    }\n",
       "\n",
       "    .dataframe tbody tr th {\n",
       "        vertical-align: top;\n",
       "    }\n",
       "\n",
       "    .dataframe thead th {\n",
       "        text-align: right;\n",
       "    }\n",
       "</style>\n",
       "<table border=\"1\" class=\"dataframe\">\n",
       "  <thead>\n",
       "    <tr style=\"text-align: right;\">\n",
       "      <th></th>\n",
       "      <th>model_vectors</th>\n",
       "    </tr>\n",
       "  </thead>\n",
       "  <tbody>\n",
       "    <tr>\n",
       "      <th>fake_model_000</th>\n",
       "      <td>[0.255462250467214, 0.010170440146674849, 0.07...</td>\n",
       "    </tr>\n",
       "    <tr>\n",
       "      <th>fake_model_001</th>\n",
       "      <td>[0.2546471415552612, 0.01309871810157407, 0.07...</td>\n",
       "    </tr>\n",
       "  </tbody>\n",
       "</table>\n",
       "</div>"
      ],
      "text/plain": [
       "                                                    model_vectors\n",
       "fake_model_000  [0.255462250467214, 0.010170440146674849, 0.07...\n",
       "fake_model_001  [0.2546471415552612, 0.01309871810157407, 0.07..."
      ]
     },
     "execution_count": 481,
     "metadata": {},
     "output_type": "execute_result"
    }
   ],
   "source": [
    "new_df.head(2)"
   ]
  },
  {
   "cell_type": "code",
   "execution_count": 485,
   "id": "734a7627-70fd-49a3-b58b-baee917e8586",
   "metadata": {},
   "outputs": [
    {
     "data": {
      "text/plain": [
       "(5000, 5000)"
      ]
     },
     "execution_count": 485,
     "metadata": {},
     "output_type": "execute_result"
    }
   ],
   "source": [
    "len(fake_weights), len(new_df)"
   ]
  },
  {
   "cell_type": "code",
   "execution_count": 487,
   "id": "0a7e5ccc-0aa1-41bf-abdc-70eb86a4e674",
   "metadata": {},
   "outputs": [
    {
     "data": {
      "text/plain": [
       "Index(['st04_koelecv3_001', 'st04_koelecv3_003', 'st04_koelecv3_000',\n",
       "       'st05_koelecv3_002', 'st06_koelecv3_000', 'st09_koelecv3_001',\n",
       "       'st05_koelecv3_001', 'st02_koelecv3_000', 'st01_koelecv3_003',\n",
       "       'st06_koelecv3_003', 'st01_koelecv3_002', 'st09_koelecv3_000',\n",
       "       'st02_koelecv3_001', 'st05_koelecv3_003', 'st09_koelecv3_003',\n",
       "       'st05_koelecv3_000'],\n",
       "      dtype='object')"
      ]
     },
     "execution_count": 487,
     "metadata": {},
     "output_type": "execute_result"
    }
   ],
   "source": [
    "df.index"
   ]
  },
  {
   "cell_type": "code",
   "execution_count": 507,
   "id": "b5262a51-00db-4756-992e-31e7e9a8a835",
   "metadata": {},
   "outputs": [],
   "source": [
    "def get_fake_model_weights(fake_name, fake_weights):\n",
    "    fake_idx = int(fake_name.split(\"_\")[-1])\n",
    "    weight = fake_weights[fake_idx]\n",
    "    return weight"
   ]
  },
  {
   "cell_type": "code",
   "execution_count": 512,
   "id": "9a04dc7a-d7eb-4739-839c-c7e9352d447f",
   "metadata": {},
   "outputs": [
    {
     "data": {
      "text/plain": [
       "array([1., 1., 1., 1., 1., 1., 1., 1., 1., 1., 1., 1., 1., 1., 1., 1.])"
      ]
     },
     "execution_count": 512,
     "metadata": {},
     "output_type": "execute_result"
    }
   ],
   "source": [
    "np.zeros(16) + np.ones(16)"
   ]
  },
  {
   "cell_type": "code",
   "execution_count": 542,
   "id": "78df3c65-8d9d-498f-b146-c6534b975bf7",
   "metadata": {},
   "outputs": [],
   "source": [
    "def get_logits_with_fake_models(fake_model_names, origin_model_names, fake_weights):\n",
    "    weights_sum = np.zeros(len(origin_model_names))\n",
    "    \n",
    "    for fake_name in fake_model_names:\n",
    "        weights = get_fake_model_weights(fake_name, fake_weights)\n",
    "        weights_sum += weights.reshape(-1)\n",
    "        \n",
    "    answers = np.zeros((1000, 42))\n",
    "        \n",
    "    for idx, model_name in enumerate(origin_model_names):\n",
    "        strategy, ms_name, s_cnt = model_name.split(\"_\")\n",
    "        model_path = os.path.join(model_dir, model_name + \".pth\")\n",
    "\n",
    "        if not os.path.exists(model_path):\n",
    "            raise\n",
    "\n",
    "        args = get_args()\n",
    "        args = update_args(args, strategy, hp_space.strat)\n",
    "        args = Namespace(**args)\n",
    "\n",
    "        model, tokenizer = load_model_and_tokenizer(args)\n",
    "        test_dataloader = load_test_dataloader(args, tokenizer)\n",
    "\n",
    "        model.load_state_dict(torch.load(model_path))\n",
    "        model.to(args.device)\n",
    "\n",
    "        results = model.evaluate(test_dataloader, return_keys=[\"logits\"])\n",
    "        answers += (weights_sum[idx] * results['logits'])\n",
    "        \n",
    "    return answers\n",
    "\n",
    "def get_logits_with_models(model_names):\n",
    "    answers = np.zeros((1000, 42))\n",
    "        \n",
    "    for idx, model_name in enumerate(model_names):\n",
    "        strategy, ms_name, s_cnt = model_name.split(\"_\")\n",
    "        model_path = os.path.join(model_dir, model_name + \".pth\")\n",
    "\n",
    "        if not os.path.exists(model_path):\n",
    "            raise\n",
    "\n",
    "        args = get_args()\n",
    "        args = update_args(args, strategy, hp_space.strat)\n",
    "        args = Namespace(**args)\n",
    "\n",
    "        model, tokenizer = load_model_and_tokenizer(args)\n",
    "        test_dataloader = load_test_dataloader(args, tokenizer)\n",
    "\n",
    "        model.load_state_dict(torch.load(model_path))\n",
    "        model.to(args.device)\n",
    "\n",
    "        results = model.evaluate(test_dataloader, return_keys=[\"logits\"])\n",
    "        answers += (weights_sum[idx] * results['logits'])\n",
    "        \n",
    "    return answers"
   ]
  },
  {
   "cell_type": "code",
   "execution_count": 540,
   "id": "7ef3fc56-bfa1-45dd-9879-618145a78172",
   "metadata": {},
   "outputs": [
    {
     "data": {
      "text/plain": [
       "['st05_koelecv3_000']"
      ]
     },
     "execution_count": 540,
     "metadata": {},
     "output_type": "execute_result"
    }
   ],
   "source": [
    "model_names"
   ]
  },
  {
   "cell_type": "code",
   "execution_count": null,
   "id": "0dfd5278-07b9-4f54-8b73-f946bd58064b",
   "metadata": {},
   "outputs": [],
   "source": [
    "fake_names = [name for name in names if name.startswith(\"fake\")]\n",
    "model_names = [name for name in names if not name.startswith(\"fake\")]"
   ]
  },
  {
   "cell_type": "code",
   "execution_count": 593,
   "id": "4898b680-0d37-417a-8b92-bd7de2057997",
   "metadata": {},
   "outputs": [
    {
     "data": {
      "text/plain": [
       "(16, 3, 3)"
      ]
     },
     "execution_count": 593,
     "metadata": {},
     "output_type": "execute_result"
    }
   ],
   "source": [
    "len(fake_names + model_names), len(roberta_no_sampling_names), len(roberta_use_sampling_names)"
   ]
  },
  {
   "cell_type": "code",
   "execution_count": 532,
   "id": "a87fd4c1-255e-4b45-9f45-853944b331d6",
   "metadata": {
    "collapsed": true,
    "jupyter": {
     "outputs_hidden": true
    },
    "tags": []
   },
   "outputs": [
    {
     "name": "stderr",
     "output_type": "stream",
     "text": [
      "Some weights of the model checkpoint at monologg/koelectra-base-v3-discriminator were not used when initializing ElectraForSequenceClassification: ['discriminator_predictions.dense.weight', 'discriminator_predictions.dense.bias', 'discriminator_predictions.dense_prediction.weight', 'discriminator_predictions.dense_prediction.bias']\n",
      "- This IS expected if you are initializing ElectraForSequenceClassification from the checkpoint of a model trained on another task or with another architecture (e.g. initializing a BertForSequenceClassification model from a BertForPreTraining model).\n",
      "- This IS NOT expected if you are initializing ElectraForSequenceClassification from the checkpoint of a model that you expect to be exactly identical (initializing a BertForSequenceClassification model from a BertForSequenceClassification model).\n",
      "Some weights of ElectraForSequenceClassification were not initialized from the model checkpoint at monologg/koelectra-base-v3-discriminator and are newly initialized: ['classifier.dense.weight', 'classifier.dense.bias', 'classifier.out_proj.weight', 'classifier.out_proj.bias']\n",
      "You should probably TRAIN this model on a down-stream task to be able to use it for predictions and inference.\n",
      "Some weights of the model checkpoint at monologg/koelectra-base-v3-discriminator were not used when initializing ElectraForSequenceClassification: ['discriminator_predictions.dense.weight', 'discriminator_predictions.dense.bias', 'discriminator_predictions.dense_prediction.weight', 'discriminator_predictions.dense_prediction.bias']\n",
      "- This IS expected if you are initializing ElectraForSequenceClassification from the checkpoint of a model trained on another task or with another architecture (e.g. initializing a BertForSequenceClassification model from a BertForPreTraining model).\n",
      "- This IS NOT expected if you are initializing ElectraForSequenceClassification from the checkpoint of a model that you expect to be exactly identical (initializing a BertForSequenceClassification model from a BertForSequenceClassification model).\n",
      "Some weights of ElectraForSequenceClassification were not initialized from the model checkpoint at monologg/koelectra-base-v3-discriminator and are newly initialized: ['classifier.dense.weight', 'classifier.dense.bias', 'classifier.out_proj.weight', 'classifier.out_proj.bias']\n",
      "You should probably TRAIN this model on a down-stream task to be able to use it for predictions and inference.\n",
      "Some weights of the model checkpoint at monologg/koelectra-base-v3-discriminator were not used when initializing ElectraForSequenceClassification: ['discriminator_predictions.dense.weight', 'discriminator_predictions.dense.bias', 'discriminator_predictions.dense_prediction.weight', 'discriminator_predictions.dense_prediction.bias']\n",
      "- This IS expected if you are initializing ElectraForSequenceClassification from the checkpoint of a model trained on another task or with another architecture (e.g. initializing a BertForSequenceClassification model from a BertForPreTraining model).\n",
      "- This IS NOT expected if you are initializing ElectraForSequenceClassification from the checkpoint of a model that you expect to be exactly identical (initializing a BertForSequenceClassification model from a BertForSequenceClassification model).\n",
      "Some weights of ElectraForSequenceClassification were not initialized from the model checkpoint at monologg/koelectra-base-v3-discriminator and are newly initialized: ['classifier.dense.weight', 'classifier.dense.bias', 'classifier.out_proj.weight', 'classifier.out_proj.bias']\n",
      "You should probably TRAIN this model on a down-stream task to be able to use it for predictions and inference.\n",
      "Some weights of the model checkpoint at monologg/koelectra-base-v3-discriminator were not used when initializing ElectraForSequenceClassification: ['discriminator_predictions.dense.weight', 'discriminator_predictions.dense.bias', 'discriminator_predictions.dense_prediction.weight', 'discriminator_predictions.dense_prediction.bias']\n",
      "- This IS expected if you are initializing ElectraForSequenceClassification from the checkpoint of a model trained on another task or with another architecture (e.g. initializing a BertForSequenceClassification model from a BertForPreTraining model).\n",
      "- This IS NOT expected if you are initializing ElectraForSequenceClassification from the checkpoint of a model that you expect to be exactly identical (initializing a BertForSequenceClassification model from a BertForSequenceClassification model).\n",
      "Some weights of ElectraForSequenceClassification were not initialized from the model checkpoint at monologg/koelectra-base-v3-discriminator and are newly initialized: ['classifier.dense.weight', 'classifier.dense.bias', 'classifier.out_proj.weight', 'classifier.out_proj.bias']\n",
      "You should probably TRAIN this model on a down-stream task to be able to use it for predictions and inference.\n",
      "Some weights of the model checkpoint at monologg/koelectra-base-v3-discriminator were not used when initializing ElectraForSequenceClassification: ['discriminator_predictions.dense.weight', 'discriminator_predictions.dense.bias', 'discriminator_predictions.dense_prediction.weight', 'discriminator_predictions.dense_prediction.bias']\n",
      "- This IS expected if you are initializing ElectraForSequenceClassification from the checkpoint of a model trained on another task or with another architecture (e.g. initializing a BertForSequenceClassification model from a BertForPreTraining model).\n",
      "- This IS NOT expected if you are initializing ElectraForSequenceClassification from the checkpoint of a model that you expect to be exactly identical (initializing a BertForSequenceClassification model from a BertForSequenceClassification model).\n",
      "Some weights of ElectraForSequenceClassification were not initialized from the model checkpoint at monologg/koelectra-base-v3-discriminator and are newly initialized: ['classifier.dense.weight', 'classifier.dense.bias', 'classifier.out_proj.weight', 'classifier.out_proj.bias']\n",
      "You should probably TRAIN this model on a down-stream task to be able to use it for predictions and inference.\n",
      "Some weights of the model checkpoint at monologg/koelectra-base-v3-discriminator were not used when initializing ElectraForSequenceClassification: ['discriminator_predictions.dense.weight', 'discriminator_predictions.dense.bias', 'discriminator_predictions.dense_prediction.weight', 'discriminator_predictions.dense_prediction.bias']\n",
      "- This IS expected if you are initializing ElectraForSequenceClassification from the checkpoint of a model trained on another task or with another architecture (e.g. initializing a BertForSequenceClassification model from a BertForPreTraining model).\n",
      "- This IS NOT expected if you are initializing ElectraForSequenceClassification from the checkpoint of a model that you expect to be exactly identical (initializing a BertForSequenceClassification model from a BertForSequenceClassification model).\n",
      "Some weights of ElectraForSequenceClassification were not initialized from the model checkpoint at monologg/koelectra-base-v3-discriminator and are newly initialized: ['classifier.dense.weight', 'classifier.dense.bias', 'classifier.out_proj.weight', 'classifier.out_proj.bias']\n",
      "You should probably TRAIN this model on a down-stream task to be able to use it for predictions and inference.\n",
      "Some weights of the model checkpoint at monologg/koelectra-base-v3-discriminator were not used when initializing ElectraForSequenceClassification: ['discriminator_predictions.dense.weight', 'discriminator_predictions.dense.bias', 'discriminator_predictions.dense_prediction.weight', 'discriminator_predictions.dense_prediction.bias']\n",
      "- This IS expected if you are initializing ElectraForSequenceClassification from the checkpoint of a model trained on another task or with another architecture (e.g. initializing a BertForSequenceClassification model from a BertForPreTraining model).\n",
      "- This IS NOT expected if you are initializing ElectraForSequenceClassification from the checkpoint of a model that you expect to be exactly identical (initializing a BertForSequenceClassification model from a BertForSequenceClassification model).\n",
      "Some weights of ElectraForSequenceClassification were not initialized from the model checkpoint at monologg/koelectra-base-v3-discriminator and are newly initialized: ['classifier.dense.weight', 'classifier.dense.bias', 'classifier.out_proj.weight', 'classifier.out_proj.bias']\n",
      "You should probably TRAIN this model on a down-stream task to be able to use it for predictions and inference.\n",
      "Some weights of the model checkpoint at monologg/koelectra-base-v3-discriminator were not used when initializing ElectraForSequenceClassification: ['discriminator_predictions.dense.weight', 'discriminator_predictions.dense.bias', 'discriminator_predictions.dense_prediction.weight', 'discriminator_predictions.dense_prediction.bias']\n",
      "- This IS expected if you are initializing ElectraForSequenceClassification from the checkpoint of a model trained on another task or with another architecture (e.g. initializing a BertForSequenceClassification model from a BertForPreTraining model).\n",
      "- This IS NOT expected if you are initializing ElectraForSequenceClassification from the checkpoint of a model that you expect to be exactly identical (initializing a BertForSequenceClassification model from a BertForSequenceClassification model).\n",
      "Some weights of ElectraForSequenceClassification were not initialized from the model checkpoint at monologg/koelectra-base-v3-discriminator and are newly initialized: ['classifier.dense.weight', 'classifier.dense.bias', 'classifier.out_proj.weight', 'classifier.out_proj.bias']\n",
      "You should probably TRAIN this model on a down-stream task to be able to use it for predictions and inference.\n",
      "Some weights of the model checkpoint at monologg/koelectra-base-v3-discriminator were not used when initializing ElectraForSequenceClassification: ['discriminator_predictions.dense.weight', 'discriminator_predictions.dense.bias', 'discriminator_predictions.dense_prediction.weight', 'discriminator_predictions.dense_prediction.bias']\n",
      "- This IS expected if you are initializing ElectraForSequenceClassification from the checkpoint of a model trained on another task or with another architecture (e.g. initializing a BertForSequenceClassification model from a BertForPreTraining model).\n",
      "- This IS NOT expected if you are initializing ElectraForSequenceClassification from the checkpoint of a model that you expect to be exactly identical (initializing a BertForSequenceClassification model from a BertForSequenceClassification model).\n",
      "Some weights of ElectraForSequenceClassification were not initialized from the model checkpoint at monologg/koelectra-base-v3-discriminator and are newly initialized: ['classifier.dense.weight', 'classifier.dense.bias', 'classifier.out_proj.weight', 'classifier.out_proj.bias']\n",
      "You should probably TRAIN this model on a down-stream task to be able to use it for predictions and inference.\n",
      "Some weights of the model checkpoint at monologg/koelectra-base-v3-discriminator were not used when initializing ElectraForSequenceClassification: ['discriminator_predictions.dense.weight', 'discriminator_predictions.dense.bias', 'discriminator_predictions.dense_prediction.weight', 'discriminator_predictions.dense_prediction.bias']\n",
      "- This IS expected if you are initializing ElectraForSequenceClassification from the checkpoint of a model trained on another task or with another architecture (e.g. initializing a BertForSequenceClassification model from a BertForPreTraining model).\n",
      "- This IS NOT expected if you are initializing ElectraForSequenceClassification from the checkpoint of a model that you expect to be exactly identical (initializing a BertForSequenceClassification model from a BertForSequenceClassification model).\n",
      "Some weights of ElectraForSequenceClassification were not initialized from the model checkpoint at monologg/koelectra-base-v3-discriminator and are newly initialized: ['classifier.dense.weight', 'classifier.dense.bias', 'classifier.out_proj.weight', 'classifier.out_proj.bias']\n",
      "You should probably TRAIN this model on a down-stream task to be able to use it for predictions and inference.\n",
      "Some weights of the model checkpoint at monologg/koelectra-base-v3-discriminator were not used when initializing ElectraForSequenceClassification: ['discriminator_predictions.dense.weight', 'discriminator_predictions.dense.bias', 'discriminator_predictions.dense_prediction.weight', 'discriminator_predictions.dense_prediction.bias']\n",
      "- This IS expected if you are initializing ElectraForSequenceClassification from the checkpoint of a model trained on another task or with another architecture (e.g. initializing a BertForSequenceClassification model from a BertForPreTraining model).\n",
      "- This IS NOT expected if you are initializing ElectraForSequenceClassification from the checkpoint of a model that you expect to be exactly identical (initializing a BertForSequenceClassification model from a BertForSequenceClassification model).\n",
      "Some weights of ElectraForSequenceClassification were not initialized from the model checkpoint at monologg/koelectra-base-v3-discriminator and are newly initialized: ['classifier.dense.weight', 'classifier.dense.bias', 'classifier.out_proj.weight', 'classifier.out_proj.bias']\n",
      "You should probably TRAIN this model on a down-stream task to be able to use it for predictions and inference.\n",
      "Some weights of the model checkpoint at monologg/koelectra-base-v3-discriminator were not used when initializing ElectraForSequenceClassification: ['discriminator_predictions.dense.weight', 'discriminator_predictions.dense.bias', 'discriminator_predictions.dense_prediction.weight', 'discriminator_predictions.dense_prediction.bias']\n",
      "- This IS expected if you are initializing ElectraForSequenceClassification from the checkpoint of a model trained on another task or with another architecture (e.g. initializing a BertForSequenceClassification model from a BertForPreTraining model).\n",
      "- This IS NOT expected if you are initializing ElectraForSequenceClassification from the checkpoint of a model that you expect to be exactly identical (initializing a BertForSequenceClassification model from a BertForSequenceClassification model).\n",
      "Some weights of ElectraForSequenceClassification were not initialized from the model checkpoint at monologg/koelectra-base-v3-discriminator and are newly initialized: ['classifier.dense.weight', 'classifier.dense.bias', 'classifier.out_proj.weight', 'classifier.out_proj.bias']\n",
      "You should probably TRAIN this model on a down-stream task to be able to use it for predictions and inference.\n",
      "Some weights of the model checkpoint at monologg/koelectra-base-v3-discriminator were not used when initializing ElectraForSequenceClassification: ['discriminator_predictions.dense.weight', 'discriminator_predictions.dense.bias', 'discriminator_predictions.dense_prediction.weight', 'discriminator_predictions.dense_prediction.bias']\n",
      "- This IS expected if you are initializing ElectraForSequenceClassification from the checkpoint of a model trained on another task or with another architecture (e.g. initializing a BertForSequenceClassification model from a BertForPreTraining model).\n",
      "- This IS NOT expected if you are initializing ElectraForSequenceClassification from the checkpoint of a model that you expect to be exactly identical (initializing a BertForSequenceClassification model from a BertForSequenceClassification model).\n",
      "Some weights of ElectraForSequenceClassification were not initialized from the model checkpoint at monologg/koelectra-base-v3-discriminator and are newly initialized: ['classifier.dense.weight', 'classifier.dense.bias', 'classifier.out_proj.weight', 'classifier.out_proj.bias']\n",
      "You should probably TRAIN this model on a down-stream task to be able to use it for predictions and inference.\n",
      "Some weights of the model checkpoint at monologg/koelectra-base-v3-discriminator were not used when initializing ElectraForSequenceClassification: ['discriminator_predictions.dense.weight', 'discriminator_predictions.dense.bias', 'discriminator_predictions.dense_prediction.weight', 'discriminator_predictions.dense_prediction.bias']\n",
      "- This IS expected if you are initializing ElectraForSequenceClassification from the checkpoint of a model trained on another task or with another architecture (e.g. initializing a BertForSequenceClassification model from a BertForPreTraining model).\n",
      "- This IS NOT expected if you are initializing ElectraForSequenceClassification from the checkpoint of a model that you expect to be exactly identical (initializing a BertForSequenceClassification model from a BertForSequenceClassification model).\n",
      "Some weights of ElectraForSequenceClassification were not initialized from the model checkpoint at monologg/koelectra-base-v3-discriminator and are newly initialized: ['classifier.dense.weight', 'classifier.dense.bias', 'classifier.out_proj.weight', 'classifier.out_proj.bias']\n",
      "You should probably TRAIN this model on a down-stream task to be able to use it for predictions and inference.\n",
      "Some weights of the model checkpoint at monologg/koelectra-base-v3-discriminator were not used when initializing ElectraForSequenceClassification: ['discriminator_predictions.dense.weight', 'discriminator_predictions.dense.bias', 'discriminator_predictions.dense_prediction.weight', 'discriminator_predictions.dense_prediction.bias']\n",
      "- This IS expected if you are initializing ElectraForSequenceClassification from the checkpoint of a model trained on another task or with another architecture (e.g. initializing a BertForSequenceClassification model from a BertForPreTraining model).\n",
      "- This IS NOT expected if you are initializing ElectraForSequenceClassification from the checkpoint of a model that you expect to be exactly identical (initializing a BertForSequenceClassification model from a BertForSequenceClassification model).\n",
      "Some weights of ElectraForSequenceClassification were not initialized from the model checkpoint at monologg/koelectra-base-v3-discriminator and are newly initialized: ['classifier.dense.weight', 'classifier.dense.bias', 'classifier.out_proj.weight', 'classifier.out_proj.bias']\n",
      "You should probably TRAIN this model on a down-stream task to be able to use it for predictions and inference.\n",
      "Some weights of the model checkpoint at monologg/koelectra-base-v3-discriminator were not used when initializing ElectraForSequenceClassification: ['discriminator_predictions.dense.weight', 'discriminator_predictions.dense.bias', 'discriminator_predictions.dense_prediction.weight', 'discriminator_predictions.dense_prediction.bias']\n",
      "- This IS expected if you are initializing ElectraForSequenceClassification from the checkpoint of a model trained on another task or with another architecture (e.g. initializing a BertForSequenceClassification model from a BertForPreTraining model).\n",
      "- This IS NOT expected if you are initializing ElectraForSequenceClassification from the checkpoint of a model that you expect to be exactly identical (initializing a BertForSequenceClassification model from a BertForSequenceClassification model).\n",
      "Some weights of ElectraForSequenceClassification were not initialized from the model checkpoint at monologg/koelectra-base-v3-discriminator and are newly initialized: ['classifier.dense.weight', 'classifier.dense.bias', 'classifier.out_proj.weight', 'classifier.out_proj.bias']\n",
      "You should probably TRAIN this model on a down-stream task to be able to use it for predictions and inference.\n"
     ]
    }
   ],
   "source": [
    "koelecv_ensemble_answers = get_logits_with_fake_models(fake_names, list(df.index), fake_weights)"
   ]
  },
  {
   "cell_type": "code",
   "execution_count": 543,
   "id": "dcb60113-2472-4db9-ba88-92c67d61c7ef",
   "metadata": {
    "collapsed": true,
    "jupyter": {
     "outputs_hidden": true
    },
    "tags": []
   },
   "outputs": [
    {
     "name": "stderr",
     "output_type": "stream",
     "text": [
      "Some weights of the model checkpoint at monologg/koelectra-base-v3-discriminator were not used when initializing ElectraForSequenceClassification: ['discriminator_predictions.dense.weight', 'discriminator_predictions.dense.bias', 'discriminator_predictions.dense_prediction.weight', 'discriminator_predictions.dense_prediction.bias']\n",
      "- This IS expected if you are initializing ElectraForSequenceClassification from the checkpoint of a model trained on another task or with another architecture (e.g. initializing a BertForSequenceClassification model from a BertForPreTraining model).\n",
      "- This IS NOT expected if you are initializing ElectraForSequenceClassification from the checkpoint of a model that you expect to be exactly identical (initializing a BertForSequenceClassification model from a BertForSequenceClassification model).\n",
      "Some weights of ElectraForSequenceClassification were not initialized from the model checkpoint at monologg/koelectra-base-v3-discriminator and are newly initialized: ['classifier.dense.weight', 'classifier.dense.bias', 'classifier.out_proj.weight', 'classifier.out_proj.bias']\n",
      "You should probably TRAIN this model on a down-stream task to be able to use it for predictions and inference.\n"
     ]
    }
   ],
   "source": [
    "koelecv_real_answers = get_logits_with_models(model_names)"
   ]
  },
  {
   "cell_type": "code",
   "execution_count": 548,
   "id": "a3f4b9db-cb3c-46b6-ae80-c34413949909",
   "metadata": {},
   "outputs": [],
   "source": [
    "# koelecv3 with clustering\n",
    "group_logits_one = koelecv_ensemble_answers + koelecv_real_answers"
   ]
  },
  {
   "cell_type": "code",
   "execution_count": 581,
   "id": "3c0d1f2e-6732-447d-8154-a82459c988db",
   "metadata": {
    "collapsed": true,
    "jupyter": {
     "outputs_hidden": true
    },
    "tags": []
   },
   "outputs": [
    {
     "name": "stderr",
     "output_type": "stream",
     "text": [
      "Some weights of the model checkpoint at xlm-roberta-large were not used when initializing XLMRobertaForSequenceClassification: ['lm_head.bias', 'lm_head.dense.weight', 'lm_head.dense.bias', 'lm_head.layer_norm.weight', 'lm_head.layer_norm.bias', 'lm_head.decoder.weight', 'roberta.pooler.dense.weight', 'roberta.pooler.dense.bias']\n",
      "- This IS expected if you are initializing XLMRobertaForSequenceClassification from the checkpoint of a model trained on another task or with another architecture (e.g. initializing a BertForSequenceClassification model from a BertForPreTraining model).\n",
      "- This IS NOT expected if you are initializing XLMRobertaForSequenceClassification from the checkpoint of a model that you expect to be exactly identical (initializing a BertForSequenceClassification model from a BertForSequenceClassification model).\n",
      "Some weights of XLMRobertaForSequenceClassification were not initialized from the model checkpoint at xlm-roberta-large and are newly initialized: ['classifier.dense.weight', 'classifier.dense.bias', 'classifier.out_proj.weight', 'classifier.out_proj.bias']\n",
      "You should probably TRAIN this model on a down-stream task to be able to use it for predictions and inference.\n",
      "Some weights of the model checkpoint at xlm-roberta-large were not used when initializing XLMRobertaForSequenceClassification: ['lm_head.bias', 'lm_head.dense.weight', 'lm_head.dense.bias', 'lm_head.layer_norm.weight', 'lm_head.layer_norm.bias', 'lm_head.decoder.weight', 'roberta.pooler.dense.weight', 'roberta.pooler.dense.bias']\n",
      "- This IS expected if you are initializing XLMRobertaForSequenceClassification from the checkpoint of a model trained on another task or with another architecture (e.g. initializing a BertForSequenceClassification model from a BertForPreTraining model).\n",
      "- This IS NOT expected if you are initializing XLMRobertaForSequenceClassification from the checkpoint of a model that you expect to be exactly identical (initializing a BertForSequenceClassification model from a BertForSequenceClassification model).\n",
      "Some weights of XLMRobertaForSequenceClassification were not initialized from the model checkpoint at xlm-roberta-large and are newly initialized: ['classifier.dense.weight', 'classifier.dense.bias', 'classifier.out_proj.weight', 'classifier.out_proj.bias']\n",
      "You should probably TRAIN this model on a down-stream task to be able to use it for predictions and inference.\n",
      "Some weights of the model checkpoint at xlm-roberta-large were not used when initializing XLMRobertaForSequenceClassification: ['lm_head.bias', 'lm_head.dense.weight', 'lm_head.dense.bias', 'lm_head.layer_norm.weight', 'lm_head.layer_norm.bias', 'lm_head.decoder.weight', 'roberta.pooler.dense.weight', 'roberta.pooler.dense.bias']\n",
      "- This IS expected if you are initializing XLMRobertaForSequenceClassification from the checkpoint of a model trained on another task or with another architecture (e.g. initializing a BertForSequenceClassification model from a BertForPreTraining model).\n",
      "- This IS NOT expected if you are initializing XLMRobertaForSequenceClassification from the checkpoint of a model that you expect to be exactly identical (initializing a BertForSequenceClassification model from a BertForSequenceClassification model).\n",
      "Some weights of XLMRobertaForSequenceClassification were not initialized from the model checkpoint at xlm-roberta-large and are newly initialized: ['classifier.dense.weight', 'classifier.dense.bias', 'classifier.out_proj.weight', 'classifier.out_proj.bias']\n",
      "You should probably TRAIN this model on a down-stream task to be able to use it for predictions and inference.\n"
     ]
    }
   ],
   "source": [
    "# roberta with no sampling, 과대적합 된 모델들\n",
    "group_logits_two = get_logits_with_models(roberta_no_sampling_names)"
   ]
  },
  {
   "cell_type": "code",
   "execution_count": 583,
   "id": "7b9bce63-3fa9-41c6-9722-ac3703ba00e0",
   "metadata": {
    "collapsed": true,
    "jupyter": {
     "outputs_hidden": true
    },
    "tags": []
   },
   "outputs": [
    {
     "name": "stderr",
     "output_type": "stream",
     "text": [
      "Some weights of BertForSequenceClassification were not initialized from the model checkpoint at monologg/kobert and are newly initialized: ['classifier.weight', 'classifier.bias']\n",
      "You should probably TRAIN this model on a down-stream task to be able to use it for predictions and inference.\n",
      "Some weights of the model checkpoint at xlm-roberta-large were not used when initializing XLMRobertaForSequenceClassification: ['lm_head.bias', 'lm_head.dense.weight', 'lm_head.dense.bias', 'lm_head.layer_norm.weight', 'lm_head.layer_norm.bias', 'lm_head.decoder.weight', 'roberta.pooler.dense.weight', 'roberta.pooler.dense.bias']\n",
      "- This IS expected if you are initializing XLMRobertaForSequenceClassification from the checkpoint of a model trained on another task or with another architecture (e.g. initializing a BertForSequenceClassification model from a BertForPreTraining model).\n",
      "- This IS NOT expected if you are initializing XLMRobertaForSequenceClassification from the checkpoint of a model that you expect to be exactly identical (initializing a BertForSequenceClassification model from a BertForSequenceClassification model).\n",
      "Some weights of XLMRobertaForSequenceClassification were not initialized from the model checkpoint at xlm-roberta-large and are newly initialized: ['classifier.dense.weight', 'classifier.dense.bias', 'classifier.out_proj.weight', 'classifier.out_proj.bias']\n",
      "You should probably TRAIN this model on a down-stream task to be able to use it for predictions and inference.\n",
      "Some weights of the model checkpoint at xlm-roberta-large were not used when initializing XLMRobertaForSequenceClassification: ['lm_head.bias', 'lm_head.dense.weight', 'lm_head.dense.bias', 'lm_head.layer_norm.weight', 'lm_head.layer_norm.bias', 'lm_head.decoder.weight', 'roberta.pooler.dense.weight', 'roberta.pooler.dense.bias']\n",
      "- This IS expected if you are initializing XLMRobertaForSequenceClassification from the checkpoint of a model trained on another task or with another architecture (e.g. initializing a BertForSequenceClassification model from a BertForPreTraining model).\n",
      "- This IS NOT expected if you are initializing XLMRobertaForSequenceClassification from the checkpoint of a model that you expect to be exactly identical (initializing a BertForSequenceClassification model from a BertForSequenceClassification model).\n",
      "Some weights of XLMRobertaForSequenceClassification were not initialized from the model checkpoint at xlm-roberta-large and are newly initialized: ['classifier.dense.weight', 'classifier.dense.bias', 'classifier.out_proj.weight', 'classifier.out_proj.bias']\n",
      "You should probably TRAIN this model on a down-stream task to be able to use it for predictions and inference.\n"
     ]
    }
   ],
   "source": [
    "# roberta with sampling, 과대적합 되지 않은 모델들\n",
    "group_logits_three = get_logits_with_models(roberta_use_sampling_names)"
   ]
  },
  {
   "cell_type": "code",
   "execution_count": 584,
   "id": "ed13f407-4a56-493f-8c30-f42a4cb5b9ef",
   "metadata": {},
   "outputs": [
    {
     "data": {
      "text/plain": [
       "((1000, 42), (1000, 42), (1000, 42))"
      ]
     },
     "execution_count": 584,
     "metadata": {},
     "output_type": "execute_result"
    }
   ],
   "source": [
    "group_logits_one.shape, group_logits_two.shape, group_logits_three.shape"
   ]
  },
  {
   "cell_type": "code",
   "execution_count": 590,
   "id": "941eafb9-9cf6-4214-ab7f-f4f51590bf2f",
   "metadata": {},
   "outputs": [
    {
     "data": {
      "text/plain": [
       "array([[ 62.96881974,  18.86459206, 109.33033156, ..., -44.02526227,\n",
       "        -56.84731171, -14.74968454],\n",
       "       [ 53.37328726, -29.89250897,  16.18333934, ...,  -8.18517124,\n",
       "        -52.28045273, -20.60502782],\n",
       "       [ 26.0244427 , 116.26774323,   8.95521519, ..., -32.72353558,\n",
       "        -24.02108377, -28.6464922 ],\n",
       "       ...,\n",
       "       [ 58.41189209, -28.54733424,  19.42656091, ..., -14.62532395,\n",
       "        -59.97117506, -25.06561403],\n",
       "       [ 83.54876342, -15.5130929 ,  18.99730745, ..., -36.59298591,\n",
       "        -73.43642056, -38.8683897 ],\n",
       "       [ 60.68893707, -34.01343247,   1.68934004, ...,   2.48181649,\n",
       "        -46.6479712 , -29.89846449]])"
      ]
     },
     "execution_count": 590,
     "metadata": {},
     "output_type": "execute_result"
    }
   ],
   "source": [
    "group_logits_one"
   ]
  },
  {
   "cell_type": "code",
   "execution_count": 587,
   "id": "f6b45914-ba59-4988-82f2-41fe8e367615",
   "metadata": {},
   "outputs": [
    {
     "data": {
      "text/plain": [
       "array([[11.09335876,  1.4779329 ,  8.4705404 , ..., -1.87900391,\n",
       "        -2.37292004, -1.68216029],\n",
       "       [ 5.46017474, -1.69207603,  1.13421521, ..., -0.11397946,\n",
       "        -1.30895898, -1.24889797],\n",
       "       [ 3.9729836 , 10.35488653, -0.14719018, ..., -1.5314188 ,\n",
       "        -0.90085024, -1.09492879],\n",
       "       ...,\n",
       "       [ 6.65110385, -1.69951811,  0.64543642, ..., -0.92904875,\n",
       "        -1.93243816, -1.53025639],\n",
       "       [12.68028831,  1.66393209,  1.94404224, ..., -2.04475844,\n",
       "        -2.1980575 , -1.78740743],\n",
       "       [11.16522384, -0.5967476 ,  1.21399775, ..., -0.8996858 ,\n",
       "        -2.25137067, -2.03805229]])"
      ]
     },
     "execution_count": 587,
     "metadata": {},
     "output_type": "execute_result"
    }
   ],
   "source": [
    "group_logits_two"
   ]
  },
  {
   "cell_type": "code",
   "execution_count": 588,
   "id": "2ef5fb4d-f5d9-4dd2-b899-5e60c0a21304",
   "metadata": {},
   "outputs": [
    {
     "data": {
      "text/plain": [
       "array([[ 9.87358284, -0.5719151 ,  7.18208051, ..., -2.05645957,\n",
       "        -2.27642733, -1.63405134],\n",
       "       [ 7.75614023, -1.49061057,  1.17484158, ..., -1.99039713,\n",
       "        -1.64269497, -1.71811984],\n",
       "       [ 4.64983532,  5.9015134 ,  0.33477458, ..., -1.99614421,\n",
       "        -1.38436464, -1.18694474],\n",
       "       ...,\n",
       "       [ 7.58726859, -1.45456082,  1.00842065, ..., -2.19924948,\n",
       "        -1.74737287, -1.52341601],\n",
       "       [ 9.33051634,  0.38721505,  0.66494229, ..., -2.51045132,\n",
       "        -1.89149088, -1.53204035],\n",
       "       [ 8.51746774, -1.34461486,  1.02479409, ..., -1.24431109,\n",
       "        -2.7628203 , -1.68183342]])"
      ]
     },
     "execution_count": 588,
     "metadata": {},
     "output_type": "execute_result"
    }
   ],
   "source": [
    "group_logits_three"
   ]
  },
  {
   "cell_type": "markdown",
   "id": "c461425b-c880-46d8-b8ed-e7e3d747ea46",
   "metadata": {},
   "source": [
    "## Group 설명\n",
    "\n",
    "16, 3, 3\n",
    "\n",
    "1. group_logits_one, clustering을 통해서 나온 서로 다른 분포의 Koelectra Model들\n",
    "2. group_logits_two, roberta-large, 다른 데이터 분포 + sampling 하지 않은 모델들\n",
    "3. group_logits_three, roberta-largs, 다른 데이터 분포 + sampling 한 모델들\n",
    "\n",
    "## Ensemble 전략\n",
    "\n",
    "> 5번의 제출 기회..\n",
    "\n",
    "- 가중치 없이 제출 \n",
    "    - g1 + g2 + g3\n",
    "- 그룹별 동일한 가중치로 제출\n",
    "    - g1 / 16 + g2 / 3 + g3 / 3\n",
    "- 샘플링 안 한 모델들한테 가중치 폭탄\n",
    "    - 0.1 * ga1 + 0.8 * ga2 + 0.1 *ga3 \n",
    "- 큰 모델들한테 가중치 많이 주기\n",
    "    - 0.2 * ga1 + 0.4 * ga2 + 0.4 * ga3\n",
    "- 로또 가중치"
   ]
  },
  {
   "cell_type": "code",
   "execution_count": 594,
   "id": "3c8dd86d-de65-4a5b-97de-69c3f7b30a83",
   "metadata": {},
   "outputs": [],
   "source": [
    "g1 = group_logits_one\n",
    "g2 = group_logits_two\n",
    "g3 = group_logits_three\n",
    "ga1 = group_logits_one / 16\n",
    "ga2 = group_logits_two / 3\n",
    "ga3 = group_logits_three / 3"
   ]
  },
  {
   "cell_type": "code",
   "execution_count": 646,
   "id": "52f9a5fa-48c4-4e14-a857-290bf7a5fbbf",
   "metadata": {},
   "outputs": [],
   "source": [
    "def make_ensemble_csv(preds, filename=\"\", save=True):\n",
    "    preds = np.array(preds.argmax(-1)).reshape(-1)\n",
    "    print(len(preds), preds.shape, preds[:25])\n",
    "    if save:\n",
    "        output = pd.DataFrame(preds, columns=['pred'])\n",
    "        output.to_csv(filename, index=False)"
   ]
  },
  {
   "cell_type": "code",
   "execution_count": 647,
   "id": "ff8f19f1-a301-4a10-81ef-76c89f1282bf",
   "metadata": {},
   "outputs": [
    {
     "name": "stdout",
     "output_type": "stream",
     "text": [
      "1000 (1000,) [ 2 10  1 17  0 33  7 28  4 20 15  5  0 21  5  0  0 21  0 10 15  5  9 27\n",
      "  4]\n"
     ]
    }
   ],
   "source": [
    "make_ensemble_csv(g1 + g2 + g3, filename=\"ensemble1.csv\")"
   ]
  },
  {
   "cell_type": "code",
   "execution_count": 648,
   "id": "13cdbb3c-6509-4e07-aa06-a2b91161f837",
   "metadata": {},
   "outputs": [
    {
     "name": "stdout",
     "output_type": "stream",
     "text": [
      "1000 (1000,) [ 2 10  1  0  0 33  7  0  4 20  0  5  0  8  0  0  0  7  0 10 15  5  0 27\n",
      "  4]\n"
     ]
    }
   ],
   "source": [
    "make_ensemble_csv(ga1 + ga2 + ga3, filename=\"ensemble2.csv\")"
   ]
  },
  {
   "cell_type": "code",
   "execution_count": 653,
   "id": "a6c1f7fa-9d82-46a5-aa71-a4971db8d7f7",
   "metadata": {},
   "outputs": [
    {
     "name": "stdout",
     "output_type": "stream",
     "text": [
      "1000 (1000,) [ 0 10  1  0  0 33  7  0  4 20  0  0  0  8  0  0  0  7  0 10 15  5  0 27\n",
      "  4]\n"
     ]
    }
   ],
   "source": [
    "make_ensemble_csv(0.1 * ga1 + 0.8 * ga2 + 0.1 * ga3, filename=\"ensemble3.csv\")"
   ]
  },
  {
   "cell_type": "code",
   "execution_count": 656,
   "id": "44c3da46-b8c1-4015-9a28-c52cceef5068",
   "metadata": {},
   "outputs": [
    {
     "name": "stdout",
     "output_type": "stream",
     "text": [
      "1000 (1000,) [ 0 10  1  0  0 33  7  0  4 20  0  5  0  8  0  0  0  7  0 10 15  5  0 27\n",
      "  4]\n"
     ]
    }
   ],
   "source": [
    "make_ensemble_csv(0.2 * ga1 + 0.4 * ga2 + 0.4 * ga3, filename=\"ensemble4.csv\")"
   ]
  },
  {
   "cell_type": "code",
   "execution_count": 651,
   "id": "86d97748-152d-49d5-8965-b14e2db0d04c",
   "metadata": {},
   "outputs": [
    {
     "name": "stdout",
     "output_type": "stream",
     "text": [
      "1000 (1000,) [ 0 10  1  0  0 33  7  0  4 20  0  0  0  8  0  0  0  7  0 10 15  5  0 27\n",
      "  4]\n"
     ]
    }
   ],
   "source": [
    "w1, w2, w3 = [np.random.uniform() for _ in range(3)]\n",
    "make_ensemble_csv(w1 * ga1 + w2 * ga2 + w3 * ga3, filename=\"ensemble5.csv\")"
   ]
  },
  {
   "cell_type": "code",
   "execution_count": 680,
   "id": "7b984631-93ae-470e-b550-02742682f8cf",
   "metadata": {},
   "outputs": [
    {
     "data": {
      "text/plain": [
       "(0.04527839889342622, 0.8756228879860936, 0.3919615483338257)"
      ]
     },
     "execution_count": 680,
     "metadata": {},
     "output_type": "execute_result"
    }
   ],
   "source": [
    "w1, w2, w3"
   ]
  },
  {
   "cell_type": "code",
   "execution_count": 655,
   "id": "8282a00f-6599-4e32-9dc8-1de8608ed654",
   "metadata": {},
   "outputs": [
    {
     "name": "stdout",
     "output_type": "stream",
     "text": [
      "1000 (1000,) [ 0 10  1  0  0  0  7  0  4 20  0  0  0  8  0  0  0  7  0 10 15  5  0 27\n",
      "  4]\n"
     ]
    }
   ],
   "source": [
    "make_ensemble_csv(ga2, filename=\"ensemble6.csv\")"
   ]
  },
  {
   "cell_type": "code",
   "execution_count": 645,
   "id": "f695828e-acc7-49fe-ae93-54a418a92c96",
   "metadata": {},
   "outputs": [
    {
     "data": {
      "text/plain": [
       "'/opt/ml/P-Stage/2-STAGE/notebook'"
      ]
     },
     "execution_count": 645,
     "metadata": {},
     "output_type": "execute_result"
    }
   ],
   "source": [
    "pwd"
   ]
  },
  {
   "cell_type": "code",
   "execution_count": 660,
   "id": "bb9e4a25-0268-4781-a425-3399ca7fe9a5",
   "metadata": {},
   "outputs": [],
   "source": [
    "from collections import Counter"
   ]
  },
  {
   "cell_type": "code",
   "execution_count": 695,
   "id": "0af13a42-91e9-450f-bdee-c2f6e4126d79",
   "metadata": {},
   "outputs": [],
   "source": [
    "a = Counter(ga2.argmax(-1))"
   ]
  },
  {
   "cell_type": "code",
   "execution_count": 696,
   "id": "6c344880-aac8-4808-bc8f-ca2f25cb8149",
   "metadata": {},
   "outputs": [
    {
     "data": {
      "text/plain": [
       "Counter({0: 492,\n",
       "         10: 103,\n",
       "         1: 6,\n",
       "         7: 24,\n",
       "         4: 79,\n",
       "         20: 21,\n",
       "         8: 29,\n",
       "         15: 33,\n",
       "         5: 27,\n",
       "         27: 5,\n",
       "         12: 6,\n",
       "         21: 20,\n",
       "         22: 8,\n",
       "         17: 18,\n",
       "         2: 63,\n",
       "         9: 16,\n",
       "         39: 4,\n",
       "         33: 9,\n",
       "         24: 8,\n",
       "         14: 4,\n",
       "         6: 19,\n",
       "         19: 2,\n",
       "         32: 1,\n",
       "         3: 1,\n",
       "         23: 1,\n",
       "         38: 1})"
      ]
     },
     "execution_count": 696,
     "metadata": {},
     "output_type": "execute_result"
    }
   ],
   "source": [
    "a"
   ]
  },
  {
   "cell_type": "code",
   "execution_count": 697,
   "id": "611aa562-87f9-4efb-9756-526579b80183",
   "metadata": {},
   "outputs": [],
   "source": [
    "ga2_preds = np.array(ga2.argmax(-1)).reshape(-1)\n",
    "ga3_preds = np.array(ga3.argmax(-1)).reshape(-1)"
   ]
  },
  {
   "cell_type": "code",
   "execution_count": 698,
   "id": "48be0c5a-a7c1-490e-ba98-03bdbb6cdce6",
   "metadata": {},
   "outputs": [],
   "source": [
    "for k, v in a.items():\n",
    "    a[k] = v / 1000"
   ]
  },
  {
   "cell_type": "code",
   "execution_count": 699,
   "id": "320010ff-9d5b-495a-afb3-7f2eda0149ed",
   "metadata": {},
   "outputs": [
    {
     "data": {
      "text/plain": [
       "1.0000000000000002"
      ]
     },
     "execution_count": 699,
     "metadata": {},
     "output_type": "execute_result"
    }
   ],
   "source": [
    "sum(a.values())"
   ]
  },
  {
   "cell_type": "code",
   "execution_count": 700,
   "id": "92d8c377-1a7c-4e7e-8c8b-5fea2a4434fb",
   "metadata": {},
   "outputs": [],
   "source": [
    "total = 0.0\n",
    "limits = 0.8\n",
    "change_idx = []\n",
    "\n",
    "for k, v in a.items():\n",
    "    total += v\n",
    "    \n",
    "    if total > limits:\n",
    "        change_idx.append(k)"
   ]
  },
  {
   "cell_type": "code",
   "execution_count": 701,
   "id": "48360264-a232-4741-81ba-11dfd13e6aa8",
   "metadata": {},
   "outputs": [
    {
     "data": {
      "text/plain": [
       "[5, 27, 12, 21, 22, 17, 2, 9, 39, 33, 24, 14, 6, 19, 32, 3, 23, 38]"
      ]
     },
     "execution_count": 701,
     "metadata": {},
     "output_type": "execute_result"
    }
   ],
   "source": [
    "change_idx"
   ]
  },
  {
   "cell_type": "code",
   "execution_count": 707,
   "id": "1d176792-6dc1-4b62-8d71-690b659d8631",
   "metadata": {},
   "outputs": [
    {
     "name": "stdout",
     "output_type": "stream",
     "text": [
      "전체 길이: 27 같은 값:27\n",
      "전체 길이: 5 같은 값:5\n",
      "전체 길이: 6 같은 값:6\n",
      "전체 길이: 20 같은 값:20\n",
      "전체 길이: 8 같은 값:8\n",
      "전체 길이: 18 같은 값:18\n",
      "전체 길이: 63 같은 값:63\n",
      "전체 길이: 16 같은 값:16\n",
      "전체 길이: 4 같은 값:4\n",
      "전체 길이: 9 같은 값:9\n",
      "전체 길이: 9 같은 값:9\n",
      "전체 길이: 4 같은 값:4\n",
      "전체 길이: 19 같은 값:19\n",
      "전체 길이: 2 같은 값:2\n",
      "전체 길이: 1 같은 값:1\n",
      "전체 길이: 1 같은 값:1\n",
      "전체 길이: 1 같은 값:1\n",
      "전체 길이: 1 같은 값:1\n"
     ]
    }
   ],
   "source": [
    "for cidx in change_idx:\n",
    "    fancy_idx = np.where(ga2_preds == cidx)\n",
    "    \n",
    "    ga2_preds[fancy_idx] = ga3_preds[fancy_idx]\n",
    "    \n",
    "    print(\"전체 길이:\", len(fancy_idx[0]), \"같은 값:\", end='')\n",
    "    print(sum(ga2_preds[fancy_idx] == ga3_preds[fancy_idx]))"
   ]
  },
  {
   "cell_type": "code",
   "execution_count": 712,
   "id": "772e05ea-82ff-44a8-93de-cd528f6c601f",
   "metadata": {},
   "outputs": [
    {
     "data": {
      "text/plain": [
       "1000"
      ]
     },
     "execution_count": 712,
     "metadata": {},
     "output_type": "execute_result"
    }
   ],
   "source": [
    "len(ga2_preds)"
   ]
  },
  {
   "cell_type": "code",
   "execution_count": 711,
   "id": "22674f98-58aa-4cd1-88c6-d2efe4b605c5",
   "metadata": {},
   "outputs": [],
   "source": [
    "output = pd.DataFrame(ga2_preds, columns=['pred'])\n",
    "output.to_csv(\"ensemble7.csv\", index=False)"
   ]
  },
  {
   "cell_type": "code",
   "execution_count": 703,
   "id": "25c95621-b82c-4313-a528-507184c092d3",
   "metadata": {},
   "outputs": [
    {
     "data": {
      "text/plain": [
       "34"
      ]
     },
     "execution_count": 703,
     "metadata": {},
     "output_type": "execute_result"
    }
   ],
   "source": [
    "1 + 2 + 1 + 1 + 1 + 11 + 2 + 9 + 6"
   ]
  },
  {
   "cell_type": "code",
   "execution_count": 704,
   "id": "65935ffd-2012-4ebc-9633-0d364fb7b676",
   "metadata": {},
   "outputs": [
    {
     "data": {
      "text/plain": [
       "0.034"
      ]
     },
     "execution_count": 704,
     "metadata": {},
     "output_type": "execute_result"
    }
   ],
   "source": [
    "34 / 1000"
   ]
  },
  {
   "cell_type": "code",
   "execution_count": 705,
   "id": "4ef463be-e307-4c90-9abc-c538a6b1f69b",
   "metadata": {},
   "outputs": [
    {
     "data": {
      "text/plain": [
       "3.4"
      ]
     },
     "execution_count": 705,
     "metadata": {},
     "output_type": "execute_result"
    }
   ],
   "source": [
    "3.4"
   ]
  },
  {
   "cell_type": "code",
   "execution_count": null,
   "id": "ec753d53-831d-438d-a411-d241ec19c2fe",
   "metadata": {},
   "outputs": [],
   "source": []
  }
 ],
 "metadata": {
  "kernelspec": {
   "display_name": "Python 3",
   "language": "python",
   "name": "python3"
  },
  "language_info": {
   "codemirror_mode": {
    "name": "ipython",
    "version": 3
   },
   "file_extension": ".py",
   "mimetype": "text/x-python",
   "name": "python",
   "nbconvert_exporter": "python",
   "pygments_lexer": "ipython3",
   "version": "3.7.7"
  }
 },
 "nbformat": 4,
 "nbformat_minor": 5
}
