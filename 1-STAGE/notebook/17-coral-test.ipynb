{
 "cells": [
  {
   "cell_type": "code",
   "execution_count": 2,
   "id": "passing-healing",
   "metadata": {},
   "outputs": [],
   "source": [
    "import os\n",
    "\n",
    "os.chdir('/opt/ml/P-Stage/1-STAGE/')\n",
    "\n",
    "from PIL import Image\n",
    "\n",
    "import wandb\n",
    "import torch\n",
    "import pandas as pd\n",
    "import torch\n",
    "import torch.nn as nn\n",
    "import torch.nn.functional as F\n",
    "\n",
    "import matplotlib.pyplot as plt\n",
    "from sklearn.metrics import (\n",
    "    f1_score,\n",
    "    recall_score,\n",
    "    accuracy_score,\n",
    "    precision_score,\n",
    "    confusion_matrix,\n",
    "\n",
    ")\n",
    "\n",
    "from config import get_args\n",
    "from prepare import get_dataloader, get_transforms, get_classes\n",
    "from predict import load_models\n",
    "from metrics import (\n",
    "    FocalLoss,\n",
    "    change_2d_to_1d,\n",
    "    calulate_18class,\n",
    "    tensor_to_numpy,\n",
    "    tensor_images_to_numpy_images,\n",
    ")\n",
    "\n",
    "args = get_args()\n",
    "args.device = \"cuda:0\" if torch.cuda.is_available() else \"cpu\"\n",
    "args.test = True\n",
    "args.train_key = \"age-coral\"\n",
    "\n",
    "train_dataloader, valid_dataloader = get_dataloader(args)"
   ]
  },
  {
   "cell_type": "code",
   "execution_count": 3,
   "id": "loaded-discussion",
   "metadata": {},
   "outputs": [],
   "source": [
    "images, labels = next(iter(train_dataloader))"
   ]
  },
  {
   "cell_type": "code",
   "execution_count": 5,
   "id": "metallic-trash",
   "metadata": {},
   "outputs": [
    {
     "data": {
      "text/plain": [
       "tensor([39, 26, 34,  6,  0,  6, 34, 38, 41,  4, 38, 38, 26, 34,  1,  4, 26, 34,\n",
       "        41,  1, 34,  4, 40,  1, 41,  0, 38, 34, 34, 40,  6, 34, 39, 16, 26, 40,\n",
       "        39, 16,  6, 41, 40, 39, 41,  0,  6,  4,  1,  1,  0, 34, 38, 38,  6, 41,\n",
       "        34, 41, 40, 34, 26,  0, 39, 39,  6, 16])"
      ]
     },
     "execution_count": 5,
     "metadata": {},
     "output_type": "execute_result"
    }
   ],
   "source": [
    "labels"
   ]
  }
 ],
 "metadata": {
  "kernelspec": {
   "display_name": "Python 3",
   "language": "python",
   "name": "python3"
  },
  "language_info": {
   "codemirror_mode": {
    "name": "ipython",
    "version": 3
   },
   "file_extension": ".py",
   "mimetype": "text/x-python",
   "name": "python",
   "nbconvert_exporter": "python",
   "pygments_lexer": "ipython3",
   "version": "3.7.7"
  }
 },
 "nbformat": 4,
 "nbformat_minor": 5
}
