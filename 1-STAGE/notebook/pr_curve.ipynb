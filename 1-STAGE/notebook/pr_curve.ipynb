{
 "cells": [
  {
   "cell_type": "code",
   "execution_count": 1,
   "id": "formed-amsterdam",
   "metadata": {},
   "outputs": [],
   "source": [
    "import os\n",
    "\n",
    "os.chdir('/opt/ml/P-Stage/1-STAGE/')\n",
    "\n",
    "from PIL import Image\n",
    "\n",
    "import wandb\n",
    "import torch\n",
    "import pandas as pd\n",
    "import torch.nn as nn\n",
    "\n",
    "import matplotlib.pyplot as plt\n",
    "from sklearn.metrics import (\n",
    "    f1_score,\n",
    "    recall_score,\n",
    "    accuracy_score,\n",
    "    precision_score,\n",
    "    confusion_matrix,\n",
    "\n",
    ")\n",
    "\n",
    "from config import get_args\n",
    "from prepare import get_dataloader, get_transforms, get_classes\n",
    "from metrics import (\n",
    "    FocalLoss,\n",
    "    change_2d_to_1d,\n",
    "    calulate_18class,\n",
    "    tensor_to_numpy,\n",
    "    tensor_images_to_numpy_images,\n",
    ")\n",
    "\n",
    "from log_helper import log_f1_and_acc_scores, log_confusion_matrix, log_confusion_matrix_by_images\n",
    "\n",
    "\n",
    "def get_lossfn(args):\n",
    "    # loss_fn = nn.CrossEntropyLoss()\n",
    "    loss_fn = FocalLoss(gamma=2).to(args.device)\n",
    "    return loss_fn\n",
    "\n",
    "def get_all_datas(args, model, dataloader, get_image=True, argmax=True):\n",
    "    model.eval()\n",
    "\n",
    "    all_images = torch.tensor([]).to(args.device)\n",
    "    all_labels = torch.tensor([]).to(args.device)\n",
    "    all_preds = torch.tensor([]).to(args.device)\n",
    "\n",
    "    with torch.no_grad():\n",
    "        for idx, (images, labels) in enumerate(dataloader):\n",
    "            images, labels = images.to(args.device), labels.to(args.device)\n",
    "\n",
    "            preds = model(images)\n",
    "            if argmax:\n",
    "                preds = torch.argmax(preds, dim=1)\n",
    "                preds = change_2d_to_1d(preds)\n",
    "            if get_image:\n",
    "                all_images = torch.cat((all_images, images))\n",
    "            all_labels = torch.cat((all_labels, labels))\n",
    "            all_preds = torch.cat((all_preds, preds))\n",
    "\n",
    "    return all_images, all_labels, all_preds\n",
    "\n",
    "\n",
    "def predict_and_logs_by_class_with_all_models(args, keys, models):\n",
    "    \"\"\" loss_fn: use same model \"\"\"\n",
    "\n",
    "    final_zip_labels, final_zip_preds = [], []\n",
    "    loss_fn = get_lossfn(args).to(args.device)\n",
    "\n",
    "    summary_tables = pd.DataFrame([])\n",
    "    cf_images = []\n",
    "\n",
    "    for model, key in zip(models, keys):\n",
    "        # mask, age, gender\n",
    "        args.train_key = key\n",
    "        _, valid_dataloader = get_dataloader(args)\n",
    "\n",
    "        all_images, all_labels, all_preds = get_all_datas(args, model, valid_dataloader)\n",
    "\n",
    "        #  all_images = tensor_images_to_numpy_images(all_images)\n",
    "        all_labels = tensor_to_numpy(all_labels)\n",
    "        all_preds = tensor_to_numpy(all_preds)\n",
    "\n",
    "        summary_table = log_f1_and_acc_scores(args, all_labels, all_preds)\n",
    "        summary_tables = summary_tables.append(summary_table)\n",
    "\n",
    "        fig1 = log_confusion_matrix(args, all_labels, all_preds)\n",
    "        # model for gradcam\n",
    "        fig2 = log_confusion_matrix_by_images(args, model, all_images, all_labels, all_preds)\n",
    "\n",
    "        cf_images.append(wandb.Image(fig1))\n",
    "        cf_images.append(wandb.Image(fig2))\n",
    "        \n",
    "        print(\"cf_images:\", cf_images)\n",
    "        wandb.log({f\"{key} Confusion Matrix\": cf_images })\n",
    "\n",
    "        final_zip_labels.append(all_labels)\n",
    "        final_zip_preds.append(all_preds)\n",
    "\n",
    "        cf_images = []\n",
    "\n",
    "    summary_tables.fillna(0, inplace=True)\n",
    "    summary_tables = summary_tables.applymap(lambda x: \"{:,.1f}%\".format(x*100))\n",
    "\n",
    "    return summary_tables, final_zip_labels, final_zip_preds\n",
    "\n",
    "\n",
    "def load_models(args):\n",
    "    try:\n",
    "        age_model = torch.load(args.age_model).to(args.device)\n",
    "        gender_model = torch.load(args.gender_model).to(args.device)\n",
    "        mask_model = torch.load(args.mask_model).to(args.device)\n",
    "\n",
    "        age_model.eval()\n",
    "        gender_model.eval()\n",
    "        mask_model.eval()\n",
    "    except Exception as e:\n",
    "        raise e\n",
    "\n",
    "    return [mask_model, gender_model, age_model]  # 순서 중요\n",
    "\n",
    "\n",
    "def main(args):\n",
    "    wandb.init(project=\"p-stage-1\", reinit=True)\n",
    "    wandb.config.update(args)\n",
    "    wandb.run.name = f\"predict-{wandb.run.name}\"\n",
    "\n",
    "    print(\n",
    "        \"\".join([f\"{k:<15} : {v}\\n\" for k, v in sorted(wandb.config.items(), key=len)])\n",
    "    )\n",
    "\n",
    "    models = load_models(args)\n",
    "    keys = [\"mask\", \"gender\", \"age\"]\n",
    "\n",
    "    # mga: mask, gender, age (sequence)\n",
    "    summary_tables, mga_label_lists, mga_output_lists = predict_and_logs_by_class_with_all_models(\n",
    "        args, keys, models\n",
    "    )\n",
    "\n",
    "    labels, preds = [], []\n",
    "\n",
    "    for (mi, gi, ai) in zip(*mga_label_lists):\n",
    "        labels.append(calulate_18class(mi, gi, ai))\n",
    "\n",
    "    for (mi, gi, ai) in zip(*mga_output_lists):\n",
    "        preds.append(calulate_18class(mi, gi, ai))\n",
    "\n",
    "    ac_sco = accuracy_score(labels, preds)\n",
    "    f1_sco = f1_score(labels, preds, average=\"macro\")\n",
    "    re_sco = recall_score(labels, preds, average=\"macro\")\n",
    "    pr_sco = precision_score(labels, preds, average=\"macro\")\n",
    "\n",
    "    table = wandb.Table(data=summary_tables.to_numpy(), rows=keys, columns=list(summary_tables))\n",
    "\n",
    "    wandb.log({\n",
    "        \"predict_suumary_table(mask, gender, age)\": table, \n",
    "        \"total_valid_accuracy\": ac_sco,\n",
    "        \"total_valid_f1_score\": f1_sco,\n",
    "        \"total_valid_pr_score\": pr_sco,\n",
    "        \"total_valid_re_score\": re_sco\n",
    "        })"
   ]
  },
  {
   "cell_type": "code",
   "execution_count": 3,
   "id": "suburban-specific",
   "metadata": {},
   "outputs": [],
   "source": [
    "args = get_args()\n",
    "args.device = \"cuda:0\" if torch.cuda.is_available() else \"cpu\"\n",
    "\n",
    "models = load_models(args)\n",
    "keys = ['mask', 'gender', 'age']\n",
    "\n",
    "args.test = False\n",
    "args.train_key = \"mask\"\n",
    "\n",
    "_, dataloader = get_dataloader(args)"
   ]
  },
  {
   "cell_type": "code",
   "execution_count": 17,
   "id": "downtown-clock",
   "metadata": {},
   "outputs": [],
   "source": [
    "images, labels = next(iter(dataloader))\n",
    "images, labels = images.to(args.device), labels.to(args.device)"
   ]
  },
  {
   "cell_type": "code",
   "execution_count": 18,
   "id": "other-drove",
   "metadata": {},
   "outputs": [
    {
     "data": {
      "text/plain": [
       "(torch.Size([64, 3, 224, 224]), torch.Size([64]))"
      ]
     },
     "execution_count": 18,
     "metadata": {},
     "output_type": "execute_result"
    }
   ],
   "source": [
    "images.shape, labels.shape"
   ]
  },
  {
   "cell_type": "code",
   "execution_count": 19,
   "id": "undefined-engagement",
   "metadata": {},
   "outputs": [],
   "source": [
    "preds = models[0](images)"
   ]
  },
  {
   "cell_type": "code",
   "execution_count": 25,
   "id": "premier-natural",
   "metadata": {},
   "outputs": [],
   "source": [
    "preds, labels = preds.detach().cpu().numpy(), labels.detach().cpu().numpy()"
   ]
  },
  {
   "cell_type": "code",
   "execution_count": 26,
   "id": "accepted-thong",
   "metadata": {},
   "outputs": [
    {
     "data": {
      "text/plain": [
       "(array([[ 2.0238953 ,  0.7825736 , -3.3459544 ],\n",
       "        [-0.4166462 , -0.8648597 ,  0.7973489 ],\n",
       "        [ 2.440179  , -0.9016821 , -2.135751  ],\n",
       "        [ 1.489993  ,  0.4481557 , -2.3935106 ],\n",
       "        [-0.44544092, -0.3931895 ,  0.42671025],\n",
       "        [ 1.3627998 ,  1.0154812 , -2.819764  ],\n",
       "        [ 2.7166758 , -1.2961473 , -2.0784535 ],\n",
       "        [ 3.0620372 , -2.4313626 , -1.4962453 ],\n",
       "        [ 0.25222605, -0.89138   ,  0.19517237],\n",
       "        [ 2.8600836 , -2.048237  , -1.5942814 ],\n",
       "        [ 1.4686671 , -0.42661947, -1.513471  ],\n",
       "        [ 0.24337456, -0.44961065, -0.17910928],\n",
       "        [ 2.09161   , -0.3385707 , -2.2714071 ],\n",
       "        [ 2.300428  , -1.0564231 , -1.8332713 ],\n",
       "        [ 1.6158311 , -1.2266415 , -0.95674807],\n",
       "        [-0.5896504 , -1.2635953 ,  1.327046  ],\n",
       "        [ 1.7365493 , -1.4945219 , -0.8601102 ],\n",
       "        [ 0.36609027,  0.13336228, -0.94636446],\n",
       "        [-0.5149692 ,  0.36147767, -0.24629259],\n",
       "        [ 2.2422817 , -1.4421103 , -1.4439975 ],\n",
       "        [ 1.1416079 , -0.7017736 , -0.96344393],\n",
       "        [-0.61097157, -1.6872282 ,  1.7063332 ],\n",
       "        [ 2.429637  , -1.6637359 , -1.4590526 ],\n",
       "        [ 1.915662  , -1.0258484 , -1.448067  ],\n",
       "        [ 1.6156167 ,  1.0444505 , -3.1808352 ],\n",
       "        [ 1.8269007 , -1.4520707 , -0.9490455 ],\n",
       "        [ 1.990992  , -0.761862  , -1.7625828 ],\n",
       "        [ 2.387256  , -1.4913725 , -1.5536343 ],\n",
       "        [ 0.8767735 , -1.18771   , -0.19482622],\n",
       "        [-0.76238894, -1.2168434 ,  1.4360774 ],\n",
       "        [ 2.5536397 , -1.4582202 , -1.7623899 ],\n",
       "        [ 1.0228128 , -0.94336677, -0.5856469 ],\n",
       "        [-0.10330321,  0.48790628, -0.756513  ],\n",
       "        [ 0.49073735, -0.94430023,  0.02115658],\n",
       "        [ 0.782665  , -1.06148   , -0.20623916],\n",
       "        [ 2.3469315 , -1.9217808 , -1.1290548 ],\n",
       "        [ 0.3562629 , -1.0130564 ,  0.2142506 ],\n",
       "        [ 2.6933875 , -1.7119851 , -1.6823978 ],\n",
       "        [ 2.1132305 , -1.5597242 , -1.180233  ],\n",
       "        [ 0.38871816, -0.46401137, -0.32389426],\n",
       "        [ 0.8865626 , -0.41076487, -0.88602155],\n",
       "        [ 1.8004769 , -0.22853987, -2.0641239 ],\n",
       "        [ 2.2293406 , -1.0699508 , -1.740772  ],\n",
       "        [ 1.7206589 , -1.0168104 , -1.2225773 ],\n",
       "        [ 2.1533065 , -0.00443948, -2.7090204 ],\n",
       "        [ 1.5759442 ,  0.58449394, -2.6596074 ],\n",
       "        [ 2.1997695 ,  0.7403798 , -3.4785047 ],\n",
       "        [ 1.6034583 ,  0.9227704 , -2.9979038 ],\n",
       "        [ 0.94463694, -0.0057932 , -1.354605  ],\n",
       "        [ 2.934176  , -1.8295016 , -1.8507049 ],\n",
       "        [-1.2273144 , -1.5928644 ,  2.177594  ],\n",
       "        [ 3.11476   , -1.9005815 , -1.9981301 ],\n",
       "        [ 2.546708  , -1.5674186 , -1.6604662 ],\n",
       "        [ 0.281929  ,  1.2676579 , -2.001384  ],\n",
       "        [ 2.0634696 , -1.594623  , -1.1024622 ],\n",
       "        [ 2.563874  , -1.6997762 , -1.5633051 ],\n",
       "        [ 2.3413548 , -1.8244917 , -1.19329   ],\n",
       "        [-0.12472102, -1.3278172 ,  0.9648396 ],\n",
       "        [ 1.0448109 , -1.0131776 , -0.51321465],\n",
       "        [ 1.5557271 , -1.3396401 , -0.7364246 ],\n",
       "        [ 1.5738267 , -0.8523492 , -1.2556913 ],\n",
       "        [ 1.0606631 , -0.9438496 , -0.5748053 ],\n",
       "        [ 0.8651606 , -0.92068285, -0.3846935 ],\n",
       "        [ 2.426461  , -1.2821378 , -1.7760254 ]], dtype=float32),\n",
       " array([0, 2, 0, 0, 1, 0, 0, 0, 2, 0, 0, 1, 0, 0, 0, 2, 0, 0, 1, 0, 0, 2,\n",
       "        0, 0, 1, 0, 0, 0, 0, 2, 0, 0, 1, 0, 0, 0, 2, 0, 0, 1, 0, 0, 0, 2,\n",
       "        0, 0, 1, 0, 0, 0, 2, 0, 0, 1, 0, 0, 0, 2, 0, 0, 1, 0, 0, 0]))"
      ]
     },
     "execution_count": 26,
     "metadata": {},
     "output_type": "execute_result"
    }
   ],
   "source": [
    "preds, labels"
   ]
  },
  {
   "cell_type": "code",
   "execution_count": 27,
   "id": "dental-penetration",
   "metadata": {},
   "outputs": [],
   "source": [
    "from sklearn.metrics import precision_recall_curve"
   ]
  },
  {
   "cell_type": "code",
   "execution_count": 48,
   "id": "postal-bahrain",
   "metadata": {},
   "outputs": [
    {
     "data": {
      "text/plain": [
       "array([0.36609027, 0.38871816, 0.49073735, 0.782665  , 0.8651606 ,\n",
       "       0.8767735 , 0.8865626 , 0.94463694, 1.0228128 , 1.0448109 ,\n",
       "       1.0606631 , 1.1416079 , 1.3627998 , 1.4686671 , 1.489993  ,\n",
       "       1.5557271 , 1.5738267 , 1.5759442 , 1.6034583 , 1.6156167 ,\n",
       "       1.6158311 , 1.7206589 , 1.7365493 , 1.8004769 , 1.8269007 ,\n",
       "       1.915662  , 1.990992  , 2.0238953 , 2.0634696 , 2.09161   ,\n",
       "       2.1132305 , 2.1533065 , 2.1997695 , 2.2293406 , 2.2422817 ,\n",
       "       2.300428  , 2.3413548 , 2.3469315 , 2.387256  , 2.426461  ,\n",
       "       2.429637  , 2.440179  , 2.546708  , 2.5536397 , 2.563874  ,\n",
       "       2.6933875 , 2.7166758 , 2.8600836 , 2.934176  , 3.0620372 ,\n",
       "       3.11476   ], dtype=float32)"
      ]
     },
     "execution_count": 48,
     "metadata": {},
     "output_type": "execute_result"
    }
   ],
   "source": [
    "thresholds"
   ]
  },
  {
   "cell_type": "code",
   "execution_count": 46,
   "id": "tender-enforcement",
   "metadata": {},
   "outputs": [
    {
     "data": {
      "text/plain": [
       "array([ 2.0238953 , -0.4166462 ,  2.440179  ,  1.489993  , -0.44544092,\n",
       "        1.3627998 ,  2.7166758 ,  3.0620372 ,  0.25222605,  2.8600836 ],\n",
       "      dtype=float32)"
      ]
     },
     "execution_count": 46,
     "metadata": {},
     "output_type": "execute_result"
    }
   ],
   "source": [
    "preds[:, 0][:10]"
   ]
  },
  {
   "cell_type": "code",
   "execution_count": 44,
   "id": "individual-killer",
   "metadata": {},
   "outputs": [
    {
     "data": {
      "text/plain": [
       "array([0, 2, 0, 0, 1, 0, 0, 0, 2, 0, 0, 1, 0, 0, 0, 2, 0, 0, 1, 0, 0, 2,\n",
       "       0, 0, 1, 0, 0, 0, 0, 2, 0, 0, 1, 0, 0, 0, 2, 0, 0, 1, 0, 0, 0, 2,\n",
       "       0, 0, 1, 0, 0, 0, 2, 0, 0, 1, 0, 0, 0, 2, 0, 0, 1, 0, 0, 0])"
      ]
     },
     "execution_count": 44,
     "metadata": {},
     "output_type": "execute_result"
    }
   ],
   "source": [
    "labels"
   ]
  },
  {
   "cell_type": "code",
   "execution_count": 31,
   "id": "linear-tender",
   "metadata": {},
   "outputs": [
    {
     "data": {
      "text/plain": [
       "array([ True, False,  True,  True, False,  True,  True,  True, False,\n",
       "        True,  True, False,  True,  True,  True, False,  True,  True,\n",
       "       False,  True,  True, False,  True,  True, False,  True,  True,\n",
       "        True,  True, False,  True,  True, False,  True,  True,  True,\n",
       "       False,  True,  True, False,  True,  True,  True, False,  True,\n",
       "        True, False,  True,  True,  True, False,  True,  True, False,\n",
       "        True,  True,  True, False,  True,  True, False,  True,  True,\n",
       "        True])"
      ]
     },
     "execution_count": 31,
     "metadata": {},
     "output_type": "execute_result"
    }
   ],
   "source": [
    "labels == class_idx"
   ]
  },
  {
   "cell_type": "code",
   "execution_count": 93,
   "id": "ecological-strip",
   "metadata": {},
   "outputs": [],
   "source": [
    "class_idx = 1\n",
    "\n",
    "precisions, recalls, thresholds = precision_recall_curve(labels == class_idx, preds[:, class_idx])"
   ]
  },
  {
   "cell_type": "code",
   "execution_count": 91,
   "id": "adaptive-granny",
   "metadata": {},
   "outputs": [],
   "source": [
    "def plot_precision_recall_vs_threshold(precisions, recalls, thresholds):\n",
    "    plt.plot(thresholds, precisions[:-1], \"b--\", label=\"Precision\", linewidth=2)\n",
    "    plt.plot(thresholds, recalls[:-1], \"g-\", label=\"Recall\", linewidth=2)\n",
    "    plt.legend(loc=\"center right\", fontsize=16) # Not shown in the book\n",
    "    plt.xlabel(\"Threshold\", fontsize=16)        # Not shown\n",
    "    plt.grid(True)                              # Not shown\n",
    "    # plt.axis([-3, 3, 0, 1])             # Not show"
   ]
  },
  {
   "cell_type": "code",
   "execution_count": 94,
   "id": "mature-forwarding",
   "metadata": {},
   "outputs": [
    {
     "data": {
      "image/png": "[encoded data removed]",
      "text/plain": [
       "<Figure size 432x288 with 1 Axes>"
      ]
     },
     "metadata": {
      "needs_background": "light"
     },
     "output_type": "display_data"
    }
   ],
   "source": [
    "plot_precision_recall_vs_threshold(precisions, recalls, thresholds)"
   ]
  },
  {
   "cell_type": "code",
   "execution_count": 89,
   "id": "entertaining-university",
   "metadata": {},
   "outputs": [
    {
     "data": {
      "text/plain": [
       "{0: 0.73135847, 1: 1.3547943, 2: 0.7880771}"
      ]
     },
     "execution_count": 89,
     "metadata": {},
     "output_type": "execute_result"
    }
   ],
   "source": [
    "from sklearn.metrics import precision_recall_curve, precision_recall_fscore_support\n",
    "class_thres = dict()\n",
    "\n",
    "for class_idx in [0, 1, 2]:\n",
    "    precisions, recalls, thresholds = precision_recall_curve(labels == class_idx, preds[:, class_idx])\n",
    "    f1scores = 2 * (precisions * recalls) / (precisions + recalls)\n",
    "    thres = thresholds[np.argmax(f1scores)]\n",
    "    class_thres[class_idx] = thres\n",
    "class_thres"
   ]
  },
  {
   "cell_type": "code",
   "execution_count": 79,
   "id": "radio-photograph",
   "metadata": {},
   "outputs": [],
   "source": [
    "f1scores = 2 * (precisions * recalls) / (precisions + recalls)"
   ]
  },
  {
   "cell_type": "code",
   "execution_count": 80,
   "id": "casual-recipient",
   "metadata": {},
   "outputs": [
    {
     "data": {
      "image/png": "[encoded data removed]",
      "text/plain": [
       "<Figure size 432x288 with 1 Axes>"
      ]
     },
     "metadata": {
      "needs_background": "light"
     },
     "output_type": "display_data"
    }
   ],
   "source": [
    "plt.plot(thresholds, f1scores[:-1])\n",
    "plt.show()"
   ]
  },
  {
   "cell_type": "code",
   "execution_count": 81,
   "id": "described-mattress",
   "metadata": {},
   "outputs": [],
   "source": [
    "class_idx = 0"
   ]
  },
  {
   "cell_type": "code",
   "execution_count": 4,
   "id": "divided-section",
   "metadata": {},
   "outputs": [],
   "source": [
    "import numpy as np"
   ]
  },
  {
   "cell_type": "code",
   "execution_count": 83,
   "id": "continuous-publication",
   "metadata": {},
   "outputs": [
    {
     "data": {
      "text/plain": [
       "0.36609027"
      ]
     },
     "execution_count": 83,
     "metadata": {},
     "output_type": "execute_result"
    }
   ],
   "source": [
    "thres = thresholds[np.argmax(f1scores)]\n",
    "thres"
   ]
  },
  {
   "cell_type": "code",
   "execution_count": 84,
   "id": "uniform-sunglasses",
   "metadata": {},
   "outputs": [
    {
     "data": {
      "text/plain": [
       "array([0, 2, 0, 0, 1, 0, 0, 0, 2, 0, 0, 1, 0, 0, 0, 2, 0, 0, 1, 0, 0, 2,\n",
       "       0, 0, 1, 0, 0, 0, 0, 2, 0, 0, 1, 0, 0, 0, 2, 0, 0, 1, 0, 0, 0, 2,\n",
       "       0, 0, 1, 0, 0, 0, 2, 0, 0, 1, 0, 0, 0, 2, 0, 0, 1, 0, 0, 0])"
      ]
     },
     "execution_count": 84,
     "metadata": {},
     "output_type": "execute_result"
    }
   ],
   "source": [
    "labels"
   ]
  },
  {
   "cell_type": "code",
   "execution_count": 85,
   "id": "sealed-senior",
   "metadata": {},
   "outputs": [
    {
     "data": {
      "text/plain": [
       "array([ True, False,  True,  True, False,  True,  True,  True, False,\n",
       "        True,  True, False,  True,  True,  True, False,  True, False,\n",
       "       False,  True,  True, False,  True,  True,  True,  True,  True,\n",
       "        True,  True, False,  True,  True, False,  True,  True,  True,\n",
       "       False,  True,  True,  True,  True,  True,  True,  True,  True,\n",
       "        True,  True,  True,  True,  True, False,  True,  True, False,\n",
       "        True,  True,  True, False,  True,  True,  True,  True,  True,\n",
       "        True])"
      ]
     },
     "execution_count": 85,
     "metadata": {},
     "output_type": "execute_result"
    }
   ],
   "source": [
    "preds[:, 0] > thres"
   ]
  },
  {
   "cell_type": "code",
   "execution_count": 86,
   "id": "communist-interim",
   "metadata": {},
   "outputs": [],
   "source": [
    "fancy_idx = np.where(labels == class_idx)"
   ]
  },
  {
   "cell_type": "code",
   "execution_count": 87,
   "id": "juvenile-liquid",
   "metadata": {},
   "outputs": [],
   "source": [
    "temp_labels = preds[:, 0] > thres"
   ]
  },
  {
   "cell_type": "code",
   "execution_count": 92,
   "id": "becoming-celebration",
   "metadata": {},
   "outputs": [],
   "source": [
    "temp_labels = temp_labels != True"
   ]
  },
  {
   "cell_type": "code",
   "execution_count": 89,
   "id": "upset-involvement",
   "metadata": {},
   "outputs": [
    {
     "data": {
      "text/plain": [
       "(array([ 0,  2,  3,  5,  6,  7,  9, 10, 12, 13, 14, 16, 17, 19, 20, 22, 23,\n",
       "        25, 26, 27, 28, 30, 31, 33, 34, 35, 37, 38, 40, 41, 42, 44, 45, 47,\n",
       "        48, 49, 51, 52, 54, 55, 56, 58, 59, 61, 62, 63]),)"
      ]
     },
     "execution_count": 89,
     "metadata": {},
     "output_type": "execute_result"
    }
   ],
   "source": [
    "fancy_idx"
   ]
  },
  {
   "cell_type": "code",
   "execution_count": 93,
   "id": "technological-savannah",
   "metadata": {},
   "outputs": [
    {
     "data": {
      "text/plain": [
       "array([ True,  True,  True,  True,  True,  True,  True,  True,  True,\n",
       "        True,  True,  True, False,  True,  True,  True,  True,  True,\n",
       "        True,  True,  True,  True,  True,  True,  True,  True,  True,\n",
       "        True,  True,  True,  True,  True,  True,  True,  True,  True,\n",
       "        True,  True,  True,  True,  True,  True,  True,  True,  True,\n",
       "        True])"
      ]
     },
     "execution_count": 93,
     "metadata": {},
     "output_type": "execute_result"
    }
   ],
   "source": [
    "temp_labels[fancy_idx] == labels[fancy_idx]"
   ]
  },
  {
   "cell_type": "markdown",
   "id": "athletic-assembly",
   "metadata": {},
   "source": [
    "# Original Score"
   ]
  },
  {
   "cell_type": "code",
   "execution_count": 49,
   "id": "dressed-replication",
   "metadata": {},
   "outputs": [],
   "source": [
    "images, labels, preds = get_all_datas(args, models[0], dataloader, get_image = False, argmax=False)"
   ]
  },
  {
   "cell_type": "code",
   "execution_count": 50,
   "id": "balanced-tragedy",
   "metadata": {},
   "outputs": [
    {
     "data": {
      "text/plain": [
       "9450"
      ]
     },
     "execution_count": 50,
     "metadata": {},
     "output_type": "execute_result"
    }
   ],
   "source": [
    "labels, preds = tensor_to_numpy(labels), tensor_to_numpy(preds)\n",
    "len(preds)"
   ]
  },
  {
   "cell_type": "code",
   "execution_count": 7,
   "id": "caring-celebration",
   "metadata": {},
   "outputs": [],
   "source": [
    "from predict import log_f1_and_acc_scores"
   ]
  },
  {
   "cell_type": "code",
   "execution_count": 8,
   "id": "located-walter",
   "metadata": {},
   "outputs": [
    {
     "data": {
      "text/plain": [
       "'mask'"
      ]
     },
     "execution_count": 8,
     "metadata": {},
     "output_type": "execute_result"
    }
   ],
   "source": [
    "args.train_key"
   ]
  },
  {
   "cell_type": "code",
   "execution_count": 32,
   "id": "quick-reporter",
   "metadata": {},
   "outputs": [
    {
     "name": "stderr",
     "output_type": "stream",
     "text": [
      "/opt/conda/lib/python3.7/site-packages/sklearn/metrics/_classification.py:1245: UndefinedMetricWarning: Recall is ill-defined and being set to 0.0 in labels with no true samples. Use `zero_division` parameter to control this behavior.\n",
      "  _warn_prf(average, modifier, msg_start, len(result))\n",
      "/opt/conda/lib/python3.7/site-packages/sklearn/metrics/_classification.py:1245: UndefinedMetricWarning: Recall is ill-defined and being set to 0.0 in labels with no true samples. Use `zero_division` parameter to control this behavior.\n",
      "  _warn_prf(average, modifier, msg_start, len(result))\n",
      "/opt/conda/lib/python3.7/site-packages/sklearn/metrics/_classification.py:1245: UndefinedMetricWarning: Recall is ill-defined and being set to 0.0 in labels with no true samples. Use `zero_division` parameter to control this behavior.\n",
      "  _warn_prf(average, modifier, msg_start, len(result))\n"
     ]
    },
    {
     "data": {
      "text/html": [
       "<div>\n",
       "<style scoped>\n",
       "    .dataframe tbody tr th:only-of-type {\n",
       "        vertical-align: middle;\n",
       "    }\n",
       "\n",
       "    .dataframe tbody tr th {\n",
       "        vertical-align: top;\n",
       "    }\n",
       "\n",
       "    .dataframe thead th {\n",
       "        text-align: right;\n",
       "    }\n",
       "</style>\n",
       "<table border=\"1\" class=\"dataframe\">\n",
       "  <thead>\n",
       "    <tr style=\"text-align: right;\">\n",
       "      <th></th>\n",
       "      <th>0 f1</th>\n",
       "      <th>0 pr</th>\n",
       "      <th>0 re</th>\n",
       "      <th>0 acc</th>\n",
       "      <th>1 f1</th>\n",
       "      <th>1 pr</th>\n",
       "      <th>1 re</th>\n",
       "      <th>1 acc</th>\n",
       "      <th>2 f1</th>\n",
       "      <th>2 pr</th>\n",
       "      <th>2 re</th>\n",
       "      <th>2 acc</th>\n",
       "    </tr>\n",
       "  </thead>\n",
       "  <tbody>\n",
       "    <tr>\n",
       "      <th>mask</th>\n",
       "      <td>0.332641</td>\n",
       "      <td>0.333333</td>\n",
       "      <td>0.331951</td>\n",
       "      <td>0.995852</td>\n",
       "      <td>0.324721</td>\n",
       "      <td>0.333333</td>\n",
       "      <td>0.316543</td>\n",
       "      <td>0.94963</td>\n",
       "      <td>0.332963</td>\n",
       "      <td>0.333333</td>\n",
       "      <td>0.332593</td>\n",
       "      <td>0.997778</td>\n",
       "    </tr>\n",
       "  </tbody>\n",
       "</table>\n",
       "</div>"
      ],
      "text/plain": [
       "          0 f1      0 pr      0 re     0 acc      1 f1      1 pr      1 re  \\\n",
       "mask  0.332641  0.333333  0.331951  0.995852  0.324721  0.333333  0.316543   \n",
       "\n",
       "        1 acc      2 f1      2 pr      2 re     2 acc  \n",
       "mask  0.94963  0.332963  0.333333  0.332593  0.997778  "
      ]
     },
     "execution_count": 32,
     "metadata": {},
     "output_type": "execute_result"
    }
   ],
   "source": [
    "log_f1_and_acc_scores(args, labels, np.argmax(preds, axis=1))"
   ]
  },
  {
   "cell_type": "code",
   "execution_count": 10,
   "id": "peripheral-lending",
   "metadata": {},
   "outputs": [
    {
     "data": {
      "text/plain": [
       "array([[ 2.0470128 ,  1.2380224 , -3.3770578 ],\n",
       "       [-2.6095326 , -1.1919639 ,  2.963771  ],\n",
       "       [ 2.3047693 , -0.1404494 , -2.475694  ],\n",
       "       ...,\n",
       "       [-0.4275375 ,  1.588988  , -1.2678562 ],\n",
       "       [ 1.6881462 , -0.8642797 , -1.2331277 ],\n",
       "       [ 2.0608785 ,  0.42043477, -2.696843  ]], dtype=float32)"
      ]
     },
     "execution_count": 10,
     "metadata": {},
     "output_type": "execute_result"
    }
   ],
   "source": [
    "preds"
   ]
  },
  {
   "cell_type": "code",
   "execution_count": 86,
   "id": "passive-panic",
   "metadata": {},
   "outputs": [],
   "source": [
    "from sklearn.metrics import precision_recall_curve, precision_recall_fscore_support\n",
    "class_thres = dict()\n",
    "\n",
    "for class_idx in [0, 1, 2]:\n",
    "    precisions, recalls, thresholds = precision_recall_curve(labels == class_idx, preds[:, class_idx])\n",
    "    f1scores = 2 * (precisions * recalls) / (precisions + recalls)\n",
    "\n",
    "    thres = thresholds[np.argmax(f1scores)]\n",
    "    class_thres[class_idx] = thres"
   ]
  },
  {
   "cell_type": "code",
   "execution_count": 87,
   "id": "closed-afghanistan",
   "metadata": {},
   "outputs": [
    {
     "data": {
      "text/plain": [
       "{0: 0.73135847, 1: 1.3547943, 2: 0.7880771}"
      ]
     },
     "execution_count": 87,
     "metadata": {},
     "output_type": "execute_result"
    }
   ],
   "source": [
    "class_thres"
   ]
  },
  {
   "cell_type": "code",
   "execution_count": 19,
   "id": "closed-finland",
   "metadata": {},
   "outputs": [
    {
     "data": {
      "text/plain": [
       "0"
      ]
     },
     "execution_count": 19,
     "metadata": {},
     "output_type": "execute_result"
    }
   ],
   "source": [
    "np.argmax([1, 0])"
   ]
  },
  {
   "cell_type": "code",
   "execution_count": 63,
   "id": "greek-kingdom",
   "metadata": {},
   "outputs": [
    {
     "data": {
      "text/plain": [
       "9450"
      ]
     },
     "execution_count": 63,
     "metadata": {},
     "output_type": "execute_result"
    }
   ],
   "source": [
    "images, labels, preds = get_all_datas(args, models[0], dataloader, get_image = False, argmax=False)\n",
    "labels, preds = tensor_to_numpy(labels), tensor_to_numpy(preds)\n",
    "len(preds)"
   ]
  },
  {
   "cell_type": "code",
   "execution_count": null,
   "id": "capable-accident",
   "metadata": {},
   "outputs": [],
   "source": [
    "for pred, arg_idx in zip(preds, np.argmax(preds, axis=1)):\n",
    "    if pred[arg_idx] < class_thres[arg_idx]:\n",
    "        pred[arg_idx] = 0\n",
    "        outs.append()"
   ]
  },
  {
   "cell_type": "code",
   "execution_count": 105,
   "id": "sufficient-romance",
   "metadata": {},
   "outputs": [
    {
     "data": {
      "text/plain": [
       "array([ 1.32952  , -0.9343595, -3.48492  ], dtype=float32)"
      ]
     },
     "execution_count": 105,
     "metadata": {},
     "output_type": "execute_result"
    }
   ],
   "source": [
    "pred - ct"
   ]
  },
  {
   "cell_type": "code",
   "execution_count": 102,
   "id": "funded-clerk",
   "metadata": {},
   "outputs": [
    {
     "data": {
      "text/plain": [
       "array([0.73135847, 1.3547943 , 0.7880771 ], dtype=float32)"
      ]
     },
     "execution_count": 102,
     "metadata": {},
     "output_type": "execute_result"
    }
   ],
   "source": [
    "ct = np.array([cv for cv in class_thres.values()])\n",
    "ct"
   ]
  },
  {
   "cell_type": "code",
   "execution_count": 107,
   "id": "urban-ethics",
   "metadata": {},
   "outputs": [],
   "source": [
    "outs = []\n",
    "\n",
    "for pred, label in zip(preds.copy(), labels):\n",
    "    arg_index = np.argmax(pred)\n",
    "    new_arg_index = np.argmax(pred - ct)\n",
    "    new_arg_idx = arg_index\n",
    "    if pred[arg_index] >= class_thres[arg_index]:\n",
    "        outs.append(arg_index)\n",
    "    else:\n",
    "#         print(pred)\n",
    "        pred[arg_index] = -5\n",
    "        new_arg_idx = np.argmax(pred)\n",
    "        outs.append(new_arg_idx)\n",
    "#     if new_arg_idx != arg_index:\n",
    "#         print(f\"o: {arg_index} c: {new_arg_idx} {new_arg_idx == label}\")"
   ]
  },
  {
   "cell_type": "code",
   "execution_count": 108,
   "id": "interstate-school",
   "metadata": {},
   "outputs": [
    {
     "data": {
      "text/plain": [
       "array([[ 2.0470128 ,  1.2380224 , -3.3770578 ],\n",
       "       [-2.6095326 , -1.1919639 ,  2.963771  ],\n",
       "       [ 2.3047693 , -0.1404494 , -2.475694  ],\n",
       "       ...,\n",
       "       [-0.4275375 ,  1.588988  , -1.2678562 ],\n",
       "       [ 1.6881462 , -0.8642797 , -1.2331277 ],\n",
       "       [ 2.0608785 ,  0.42043477, -2.696843  ]], dtype=float32)"
      ]
     },
     "execution_count": 108,
     "metadata": {},
     "output_type": "execute_result"
    }
   ],
   "source": [
    "preds"
   ]
  },
  {
   "cell_type": "code",
   "execution_count": 66,
   "id": "small-conjunction",
   "metadata": {},
   "outputs": [],
   "source": [
    "org_pred = np.argmax(preds, axis=1)"
   ]
  },
  {
   "cell_type": "code",
   "execution_count": 67,
   "id": "worst-poetry",
   "metadata": {},
   "outputs": [
    {
     "data": {
      "text/plain": [
       "99"
      ]
     },
     "execution_count": 67,
     "metadata": {},
     "output_type": "execute_result"
    }
   ],
   "source": [
    "(np.array(outs) != org_pred).sum()"
   ]
  },
  {
   "cell_type": "code",
   "execution_count": 54,
   "id": "popular-process",
   "metadata": {},
   "outputs": [
    {
     "data": {
      "text/plain": [
       "9450"
      ]
     },
     "execution_count": 54,
     "metadata": {},
     "output_type": "execute_result"
    }
   ],
   "source": [
    "len(preds)"
   ]
  },
  {
   "cell_type": "code",
   "execution_count": 55,
   "id": "subtle-stress",
   "metadata": {},
   "outputs": [
    {
     "data": {
      "text/plain": [
       "9450"
      ]
     },
     "execution_count": 55,
     "metadata": {},
     "output_type": "execute_result"
    }
   ],
   "source": [
    "len(outs)"
   ]
  },
  {
   "cell_type": "code",
   "execution_count": 68,
   "id": "reverse-liabilities",
   "metadata": {},
   "outputs": [
    {
     "name": "stderr",
     "output_type": "stream",
     "text": [
      "/opt/conda/lib/python3.7/site-packages/sklearn/metrics/_classification.py:1245: UndefinedMetricWarning: Recall is ill-defined and being set to 0.0 in labels with no true samples. Use `zero_division` parameter to control this behavior.\n",
      "  _warn_prf(average, modifier, msg_start, len(result))\n",
      "/opt/conda/lib/python3.7/site-packages/sklearn/metrics/_classification.py:1245: UndefinedMetricWarning: Recall is ill-defined and being set to 0.0 in labels with no true samples. Use `zero_division` parameter to control this behavior.\n",
      "  _warn_prf(average, modifier, msg_start, len(result))\n",
      "/opt/conda/lib/python3.7/site-packages/sklearn/metrics/_classification.py:1245: UndefinedMetricWarning: Recall is ill-defined and being set to 0.0 in labels with no true samples. Use `zero_division` parameter to control this behavior.\n",
      "  _warn_prf(average, modifier, msg_start, len(result))\n"
     ]
    },
    {
     "data": {
      "text/html": [
       "<div>\n",
       "<style scoped>\n",
       "    .dataframe tbody tr th:only-of-type {\n",
       "        vertical-align: middle;\n",
       "    }\n",
       "\n",
       "    .dataframe tbody tr th {\n",
       "        vertical-align: top;\n",
       "    }\n",
       "\n",
       "    .dataframe thead th {\n",
       "        text-align: right;\n",
       "    }\n",
       "</style>\n",
       "<table border=\"1\" class=\"dataframe\">\n",
       "  <thead>\n",
       "    <tr style=\"text-align: right;\">\n",
       "      <th></th>\n",
       "      <th>0 f1</th>\n",
       "      <th>0 pr</th>\n",
       "      <th>0 re</th>\n",
       "      <th>0 acc</th>\n",
       "      <th>1 f1</th>\n",
       "      <th>1 pr</th>\n",
       "      <th>1 re</th>\n",
       "      <th>1 acc</th>\n",
       "      <th>2 f1</th>\n",
       "      <th>2 pr</th>\n",
       "      <th>2 re</th>\n",
       "      <th>2 acc</th>\n",
       "    </tr>\n",
       "  </thead>\n",
       "  <tbody>\n",
       "    <tr>\n",
       "      <th>mask</th>\n",
       "      <td>0.332641</td>\n",
       "      <td>0.333333</td>\n",
       "      <td>0.331951</td>\n",
       "      <td>0.995852</td>\n",
       "      <td>0.319444</td>\n",
       "      <td>0.333333</td>\n",
       "      <td>0.306667</td>\n",
       "      <td>0.92</td>\n",
       "      <td>0.332591</td>\n",
       "      <td>0.333333</td>\n",
       "      <td>0.331852</td>\n",
       "      <td>0.995556</td>\n",
       "    </tr>\n",
       "  </tbody>\n",
       "</table>\n",
       "</div>"
      ],
      "text/plain": [
       "          0 f1      0 pr      0 re     0 acc      1 f1      1 pr      1 re  \\\n",
       "mask  0.332641  0.333333  0.331951  0.995852  0.319444  0.333333  0.306667   \n",
       "\n",
       "      1 acc      2 f1      2 pr      2 re     2 acc  \n",
       "mask   0.92  0.332591  0.333333  0.331852  0.995556  "
      ]
     },
     "execution_count": 68,
     "metadata": {},
     "output_type": "execute_result"
    }
   ],
   "source": [
    "log_f1_and_acc_scores(args, labels, np.array(outs))"
   ]
  },
  {
   "cell_type": "code",
   "execution_count": 69,
   "id": "tested-denmark",
   "metadata": {},
   "outputs": [
    {
     "name": "stderr",
     "output_type": "stream",
     "text": [
      "/opt/conda/lib/python3.7/site-packages/sklearn/metrics/_classification.py:1245: UndefinedMetricWarning: Recall is ill-defined and being set to 0.0 in labels with no true samples. Use `zero_division` parameter to control this behavior.\n",
      "  _warn_prf(average, modifier, msg_start, len(result))\n",
      "/opt/conda/lib/python3.7/site-packages/sklearn/metrics/_classification.py:1245: UndefinedMetricWarning: Recall is ill-defined and being set to 0.0 in labels with no true samples. Use `zero_division` parameter to control this behavior.\n",
      "  _warn_prf(average, modifier, msg_start, len(result))\n",
      "/opt/conda/lib/python3.7/site-packages/sklearn/metrics/_classification.py:1245: UndefinedMetricWarning: Recall is ill-defined and being set to 0.0 in labels with no true samples. Use `zero_division` parameter to control this behavior.\n",
      "  _warn_prf(average, modifier, msg_start, len(result))\n"
     ]
    },
    {
     "data": {
      "text/html": [
       "<div>\n",
       "<style scoped>\n",
       "    .dataframe tbody tr th:only-of-type {\n",
       "        vertical-align: middle;\n",
       "    }\n",
       "\n",
       "    .dataframe tbody tr th {\n",
       "        vertical-align: top;\n",
       "    }\n",
       "\n",
       "    .dataframe thead th {\n",
       "        text-align: right;\n",
       "    }\n",
       "</style>\n",
       "<table border=\"1\" class=\"dataframe\">\n",
       "  <thead>\n",
       "    <tr style=\"text-align: right;\">\n",
       "      <th></th>\n",
       "      <th>0 f1</th>\n",
       "      <th>0 pr</th>\n",
       "      <th>0 re</th>\n",
       "      <th>0 acc</th>\n",
       "      <th>1 f1</th>\n",
       "      <th>1 pr</th>\n",
       "      <th>1 re</th>\n",
       "      <th>1 acc</th>\n",
       "      <th>2 f1</th>\n",
       "      <th>2 pr</th>\n",
       "      <th>2 re</th>\n",
       "      <th>2 acc</th>\n",
       "    </tr>\n",
       "  </thead>\n",
       "  <tbody>\n",
       "    <tr>\n",
       "      <th>mask</th>\n",
       "      <td>0.332467</td>\n",
       "      <td>0.333333</td>\n",
       "      <td>0.331605</td>\n",
       "      <td>0.994815</td>\n",
       "      <td>0.327684</td>\n",
       "      <td>0.333333</td>\n",
       "      <td>0.322222</td>\n",
       "      <td>0.966667</td>\n",
       "      <td>0.332963</td>\n",
       "      <td>0.333333</td>\n",
       "      <td>0.332593</td>\n",
       "      <td>0.997778</td>\n",
       "    </tr>\n",
       "  </tbody>\n",
       "</table>\n",
       "</div>"
      ],
      "text/plain": [
       "          0 f1      0 pr      0 re     0 acc      1 f1      1 pr      1 re  \\\n",
       "mask  0.332467  0.333333  0.331605  0.994815  0.327684  0.333333  0.322222   \n",
       "\n",
       "         1 acc      2 f1      2 pr      2 re     2 acc  \n",
       "mask  0.966667  0.332963  0.333333  0.332593  0.997778  "
      ]
     },
     "execution_count": 69,
     "metadata": {},
     "output_type": "execute_result"
    }
   ],
   "source": [
    "log_f1_and_acc_scores(args, labels, np.argmax(preds, axis=1))"
   ]
  },
  {
   "cell_type": "code",
   "execution_count": null,
   "id": "trained-ordinance",
   "metadata": {},
   "outputs": [],
   "source": []
  }
 ],
 "metadata": {
  "kernelspec": {
   "display_name": "Python 3",
   "language": "python",
   "name": "python3"
  },
  "language_info": {
   "codemirror_mode": {
    "name": "ipython",
    "version": 3
   },
   "file_extension": ".py",
   "mimetype": "text/x-python",
   "name": "python",
   "nbconvert_exporter": "python",
   "pygments_lexer": "ipython3",
   "version": "3.7.7"
  }
 },
 "nbformat": 4,
 "nbformat_minor": 5
}
