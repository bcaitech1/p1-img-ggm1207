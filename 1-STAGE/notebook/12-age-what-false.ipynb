{
 "cells": [
  {
   "cell_type": "code",
   "execution_count": 1,
   "id": "shared-group",
   "metadata": {},
   "outputs": [],
   "source": [
    "import os\n",
    "\n",
    "os.chdir('/opt/ml/P-Stage/1-STAGE/')\n",
    "\n",
    "from PIL import Image\n",
    "\n",
    "import wandb\n",
    "import torch\n",
    "import pandas as pd\n",
    "import torch.nn as nn\n",
    "\n",
    "import matplotlib.pyplot as plt\n",
    "from sklearn.metrics import (\n",
    "    f1_score,\n",
    "    recall_score,\n",
    "    accuracy_score,\n",
    "    precision_score,\n",
    "    confusion_matrix,\n",
    "\n",
    ")\n",
    "\n",
    "from config import get_args\n",
    "from prepare import get_dataloader, get_transforms, get_classes\n",
    "from predict import load_models\n",
    "from metrics import (\n",
    "    FocalLoss,\n",
    "    change_2d_to_1d,\n",
    "    calulate_18class,\n",
    "    tensor_to_numpy,\n",
    "    tensor_images_to_numpy_images,\n",
    ")\n",
    "\n",
    "args = get_args()\n",
    "args.device = \"cuda:0\" if torch.cuda.is_available() else \"cpu\"\n",
    "\n",
    "models = load_models(args)\n",
    "keys = ['mask', 'gender', 'age']\n",
    "\n",
    "args.test = False\n",
    "args.train_key = \"age\"\n",
    "\n",
    "_, dataloader = get_dataloader(args)"
   ]
  },
  {
   "cell_type": "code",
   "execution_count": 26,
   "id": "adopted-laundry",
   "metadata": {},
   "outputs": [],
   "source": [
    "import numpy as np\n",
    "import seaborn as sns\n",
    "from predict import get_all_datas"
   ]
  },
  {
   "cell_type": "code",
   "execution_count": 3,
   "id": "robust-communist",
   "metadata": {},
   "outputs": [],
   "source": [
    "model = models[2]\n",
    "_, labels, preds = get_all_datas(args, models[2], dataloader, argmax=True)"
   ]
  },
  {
   "cell_type": "code",
   "execution_count": 13,
   "id": "successful-month",
   "metadata": {},
   "outputs": [],
   "source": [
    "labels, preds = tensor_to_numpy(labels), tensor_to_numpy(preds)"
   ]
  },
  {
   "cell_type": "code",
   "execution_count": 14,
   "id": "devoted-anxiety",
   "metadata": {},
   "outputs": [
    {
     "data": {
      "text/plain": [
       "9450"
      ]
     },
     "execution_count": 14,
     "metadata": {},
     "output_type": "execute_result"
    }
   ],
   "source": [
    "len(preds)"
   ]
  },
  {
   "cell_type": "code",
   "execution_count": 5,
   "id": "universal-consortium",
   "metadata": {},
   "outputs": [
    {
     "data": {
      "text/plain": [
       "tensor(5639., device='cuda:0')"
      ]
     },
     "execution_count": 5,
     "metadata": {},
     "output_type": "execute_result"
    }
   ],
   "source": [
    "preds.sum()"
   ]
  },
  {
   "cell_type": "code",
   "execution_count": 22,
   "id": "opposite-dragon",
   "metadata": {},
   "outputs": [
    {
     "data": {
      "text/plain": [
       "1201"
      ]
     },
     "execution_count": 22,
     "metadata": {},
     "output_type": "execute_result"
    }
   ],
   "source": [
    "len(np.where(labels != preds)[0])"
   ]
  },
  {
   "cell_type": "code",
   "execution_count": 24,
   "id": "narrow-bridges",
   "metadata": {},
   "outputs": [
    {
     "data": {
      "text/plain": [
       "1201"
      ]
     },
     "execution_count": 24,
     "metadata": {},
     "output_type": "execute_result"
    }
   ],
   "source": [
    "len(labels[np.where(labels != preds)])"
   ]
  },
  {
   "cell_type": "code",
   "execution_count": 25,
   "id": "moved-depression",
   "metadata": {},
   "outputs": [],
   "source": [
    "# ['gender', 'age', 'mask']\n",
    "\n",
    "fancy_idx = np.where(labels != preds)[0]\n",
    "mask_outs = []\n",
    "\n",
    "dataloader.dataset.label_idx = 2\n",
    "for false_idx in fancy_idx:\n",
    "    mask_outs.append(dataloader.dataset._get_label(false_idx))"
   ]
  },
  {
   "cell_type": "code",
   "execution_count": 31,
   "id": "capable-depth",
   "metadata": {},
   "outputs": [
    {
     "data": {
      "text/plain": [
       "<matplotlib.axes._subplots.AxesSubplot at 0x7f713c72b1d0>"
      ]
     },
     "execution_count": 31,
     "metadata": {},
     "output_type": "execute_result"
    },
    {
     "data": {
      "image/png": "[encoded data removed]",
      "text/plain": [
       "<Figure size 432x288 with 1 Axes>"
      ]
     },
     "metadata": {
      "needs_background": "light"
     },
     "output_type": "display_data"
    }
   ],
   "source": [
    "plt.xticks([0, 1, 2])\n",
    "sns.histplot(mask_outs)"
   ]
  },
  {
   "cell_type": "code",
   "execution_count": null,
   "id": "informed-degree",
   "metadata": {},
   "outputs": [],
   "source": []
  }
 ],
 "metadata": {
  "kernelspec": {
   "display_name": "Python 3",
   "language": "python",
   "name": "python3"
  },
  "language_info": {
   "codemirror_mode": {
    "name": "ipython",
    "version": 3
   },
   "file_extension": ".py",
   "mimetype": "text/x-python",
   "name": "python",
   "nbconvert_exporter": "python",
   "pygments_lexer": "ipython3",
   "version": "3.7.7"
  }
 },
 "nbformat": 4,
 "nbformat_minor": 5
}
