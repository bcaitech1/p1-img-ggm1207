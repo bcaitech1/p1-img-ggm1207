{
 "cells": [
  {
   "cell_type": "code",
   "execution_count": 15,
   "id": "hawaiian-governor",
   "metadata": {},
   "outputs": [],
   "source": [
    "import os\n",
    "\n",
    "os.chdir('/opt/ml/P-Stage/1-STAGE/')\n",
    "\n",
    "from PIL import Image\n",
    "\n",
    "import wandb\n",
    "import torch\n",
    "import pandas as pd\n",
    "import torch.nn as nn\n",
    "\n",
    "import matplotlib.pyplot as plt\n",
    "from sklearn.metrics import (\n",
    "    f1_score,\n",
    "    recall_score,\n",
    "    accuracy_score,\n",
    "    precision_score,\n",
    "    confusion_matrix,\n",
    "\n",
    ")\n",
    "\n",
    "from config import get_args\n",
    "from prepare import get_dataloader, get_transforms, get_classes\n",
    "from predict import load_models\n",
    "from metrics import (\n",
    "    FocalLoss,\n",
    "    change_2d_to_1d,\n",
    "    calulate_18class,\n",
    "    tensor_to_numpy,\n",
    "    tensor_images_to_numpy_images,\n",
    ")\n",
    "\n",
    "args = get_args()\n",
    "args.device = \"cuda:0\" if torch.cuda.is_available() else \"cpu\"\n",
    "args.test = False\n",
    "args.use_only_mask = True\n",
    "args.train_key = \"mask\"\n",
    "\n",
    "train_dataloader, valid_dataloader = get_dataloader(args)"
   ]
  },
  {
   "cell_type": "code",
   "execution_count": 16,
   "id": "opening-princess",
   "metadata": {},
   "outputs": [],
   "source": [
    "images, labels = next(iter(train_dataloader))"
   ]
  },
  {
   "cell_type": "code",
   "execution_count": 17,
   "id": "indie-watershed",
   "metadata": {},
   "outputs": [
    {
     "data": {
      "text/plain": [
       "tensor([0, 0, 1])"
      ]
     },
     "execution_count": 17,
     "metadata": {},
     "output_type": "execute_result"
    }
   ],
   "source": [
    "labels[:3]"
   ]
  },
  {
   "cell_type": "code",
   "execution_count": 18,
   "id": "enclosed-meter",
   "metadata": {},
   "outputs": [
    {
     "data": {
      "text/plain": [
       "2"
      ]
     },
     "execution_count": 18,
     "metadata": {},
     "output_type": "execute_result"
    }
   ],
   "source": [
    "train_dataloader.dataset.label_idx"
   ]
  },
  {
   "cell_type": "code",
   "execution_count": 19,
   "id": "recent-parade",
   "metadata": {},
   "outputs": [
    {
     "data": {
      "text/plain": [
       "{0, 1}"
      ]
     },
     "execution_count": 19,
     "metadata": {},
     "output_type": "execute_result"
    }
   ],
   "source": [
    "a = set(labels.detach().cpu().numpy())\n",
    "a"
   ]
  },
  {
   "cell_type": "code",
   "execution_count": 20,
   "id": "organic-sauce",
   "metadata": {},
   "outputs": [],
   "source": [
    "mask_index = set()\n",
    "\n",
    "for images, labels in train_dataloader:\n",
    "    mask_index.update(labels.detach().cpu().numpy())\n",
    "    \n",
    "for images, labels in valid_dataloader:\n",
    "    mask_index.update(labels.detach().cpu().numpy())"
   ]
  },
  {
   "cell_type": "code",
   "execution_count": 21,
   "id": "cultural-native",
   "metadata": {},
   "outputs": [
    {
     "data": {
      "text/plain": [
       "{0, 1}"
      ]
     },
     "execution_count": 21,
     "metadata": {},
     "output_type": "execute_result"
    }
   ],
   "source": [
    "mask_index  # wear, incorrect only"
   ]
  }
 ],
 "metadata": {
  "kernelspec": {
   "display_name": "Python 3",
   "language": "python",
   "name": "python3"
  },
  "language_info": {
   "codemirror_mode": {
    "name": "ipython",
    "version": 3
   },
   "file_extension": ".py",
   "mimetype": "text/x-python",
   "name": "python",
   "nbconvert_exporter": "python",
   "pygments_lexer": "ipython3",
   "version": "3.7.7"
  }
 },
 "nbformat": 4,
 "nbformat_minor": 5
}
