{
 "cells": [
  {
   "cell_type": "code",
   "execution_count": 133,
   "id": "administrative-catholic",
   "metadata": {},
   "outputs": [],
   "source": [
    "import os\n",
    "\n",
    "os.chdir('/opt/ml/P-Stage/1-STAGE/')\n",
    "\n",
    "from PIL import Image\n",
    "\n",
    "import wandb\n",
    "import torch\n",
    "import numpy as np\n",
    "import pandas as pd\n",
    "import torch.nn as nn\n",
    "\n",
    "import matplotlib.pyplot as plt\n",
    "from sklearn.metrics import (\n",
    "    f1_score,\n",
    "    recall_score,\n",
    "    accuracy_score,\n",
    "    precision_score,\n",
    "    confusion_matrix,\n",
    ")\n",
    "\n",
    "from config import get_args\n",
    "from prepare import get_dataloader, get_classes, get_album_transforms\n",
    "from metrics import (\n",
    "    change_2d_to_1d,\n",
    "    tensor_to_numpy,\n",
    "    calculate_18class,\n",
    "    tensor_images_to_numpy_images,\n",
    ")\n",
    "\n",
    "\n",
    "from log_helper import (\n",
    "    log_f1_and_acc_scores,\n",
    "    log_confusion_matrix,\n",
    "    log_confusion_matrix_by_images,\n",
    ")\n",
    "\n",
    "def validation_test(models, dataloader, num_class=3):\n",
    "    labels = np.zeros((len(dataloader.dataset)))\n",
    "    ensemble_results = np.zeros((len(dataloader.dataset), num_class))\n",
    "    \n",
    "    for model in models:\n",
    "        model = torch.load(model)\n",
    "    \n",
    "        for idx, (image, label) in enumerate(dataloader):\n",
    "            image, label = image.cuda(), label.cuda()\n",
    "            bs = image.shape[0]\n",
    "        \n",
    "            preds = model(image)\n",
    "            \n",
    "            labels[idx*bs:(idx+1)*bs] = tensor_to_numpy(label)\n",
    "            ensemble_results[idx*bs:(idx+1)*bs] += tensor_to_numpy(torch.softmax(preds, dim=1))\n",
    "            \n",
    "            print(idx, end=\"\\r\")\n",
    "    \n",
    "    return ensemble_results, labels"
   ]
  },
  {
   "cell_type": "code",
   "execution_count": 134,
   "id": "specified-angola",
   "metadata": {},
   "outputs": [
    {
     "data": {
      "text/plain": [
       "Namespace(age_model='/opt/ml/weights/age.pt', aug_keys='CJ,FancyPCA', batch_size=64, data_dir='/opt/ml/input/data/train', epochs=25, eval=True, gender_model='/opt/ml/weights/gender.pt', image_size=224, inf_filename='valid', loss_metric='f1_loss', lr=0.001, mask_model='/opt/ml/weights/mask.pt', model_path='/opt/ml/weights/', model_save=True, optimizer='adam', seed=42, test=True, train_key='mask', use_only_mask=False, valid_size=0.5, workers=2)"
      ]
     },
     "execution_count": 134,
     "metadata": {},
     "output_type": "execute_result"
    }
   ],
   "source": [
    "args = get_args()\n",
    "args"
   ]
  },
  {
   "cell_type": "markdown",
   "id": "published-radius",
   "metadata": {},
   "source": [
    "## Age Ensemble Test"
   ]
  },
  {
   "cell_type": "code",
   "execution_count": 135,
   "id": "geological-assistant",
   "metadata": {},
   "outputs": [
    {
     "data": {
      "text/plain": [
       "['/opt/ml/weights/age-04070152-easy-sweep-6.pt',\n",
       " '/opt/ml/weights/age-04070047-driven-sweep-5.pt',\n",
       " '/opt/ml/weights/age-04062341-magic-sweep-4.pt',\n",
       " '/opt/ml/weights/age-04062055-still-sweep-1.pt']"
      ]
     },
     "execution_count": 135,
     "metadata": {},
     "output_type": "execute_result"
    }
   ],
   "source": [
    "age_models = [\n",
    "    'age-04070152-easy-sweep-6',\n",
    "    'age-04070047-driven-sweep-5',\n",
    "    'age-04062341-magic-sweep-4',\n",
    "    'age-04062055-still-sweep-1'\n",
    "]\n",
    "\n",
    "age_models = list(map(lambda x: os.path.join('/opt/ml/weights/', x) + \".pt\", age_models))\n",
    "age_models"
   ]
  },
  {
   "cell_type": "code",
   "execution_count": 174,
   "id": "comprehensive-technique",
   "metadata": {},
   "outputs": [
    {
     "name": "stdout",
     "output_type": "stream",
     "text": [
      "2835\n"
     ]
    }
   ],
   "source": [
    "args.train_key = \"age\"\n",
    "args.valid_size = 0.15\n",
    "args.test = False\n",
    "\n",
    "_, dataloader = get_dataloader(args)\n",
    "print(len(dataloader.dataset))"
   ]
  },
  {
   "cell_type": "code",
   "execution_count": 138,
   "id": "inclusive-lease",
   "metadata": {},
   "outputs": [
    {
     "name": "stdout",
     "output_type": "stream",
     "text": [
      "44\r"
     ]
    },
    {
     "data": {
      "text/html": [
       "<div>\n",
       "<style scoped>\n",
       "    .dataframe tbody tr th:only-of-type {\n",
       "        vertical-align: middle;\n",
       "    }\n",
       "\n",
       "    .dataframe tbody tr th {\n",
       "        vertical-align: top;\n",
       "    }\n",
       "\n",
       "    .dataframe thead th {\n",
       "        text-align: right;\n",
       "    }\n",
       "</style>\n",
       "<table border=\"1\" class=\"dataframe\">\n",
       "  <thead>\n",
       "    <tr style=\"text-align: right;\">\n",
       "      <th></th>\n",
       "      <th>0 f1</th>\n",
       "      <th>0 pr</th>\n",
       "      <th>0 re</th>\n",
       "      <th>0 acc</th>\n",
       "      <th>1 f1</th>\n",
       "      <th>1 pr</th>\n",
       "      <th>1 re</th>\n",
       "      <th>1 acc</th>\n",
       "      <th>2 f1</th>\n",
       "      <th>2 pr</th>\n",
       "      <th>2 re</th>\n",
       "      <th>2 acc</th>\n",
       "    </tr>\n",
       "  </thead>\n",
       "  <tbody>\n",
       "    <tr>\n",
       "      <th>age</th>\n",
       "      <td>0.973034</td>\n",
       "      <td>1.0</td>\n",
       "      <td>0.947484</td>\n",
       "      <td>0.947484</td>\n",
       "      <td>0.947009</td>\n",
       "      <td>1.0</td>\n",
       "      <td>0.899351</td>\n",
       "      <td>0.899351</td>\n",
       "      <td>0.689266</td>\n",
       "      <td>1.0</td>\n",
       "      <td>0.525862</td>\n",
       "      <td>0.525862</td>\n",
       "    </tr>\n",
       "  </tbody>\n",
       "</table>\n",
       "</div>"
      ],
      "text/plain": [
       "         0 f1  0 pr      0 re     0 acc      1 f1  1 pr      1 re     1 acc  \\\n",
       "age  0.973034   1.0  0.947484  0.947484  0.947009   1.0  0.899351  0.899351   \n",
       "\n",
       "         2 f1  2 pr      2 re     2 acc  \n",
       "age  0.689266   1.0  0.525862  0.525862  "
      ]
     },
     "execution_count": 138,
     "metadata": {},
     "output_type": "execute_result"
    }
   ],
   "source": [
    "preds, labels = validation_test(age_models[:1], dataloader, 3)\n",
    "log_f1_and_acc_scores(args, np.argmax(preds, axis=1), labels)"
   ]
  },
  {
   "cell_type": "code",
   "execution_count": 139,
   "id": "compound-assumption",
   "metadata": {},
   "outputs": [
    {
     "name": "stdout",
     "output_type": "stream",
     "text": [
      "44\r"
     ]
    },
    {
     "data": {
      "text/html": [
       "<div>\n",
       "<style scoped>\n",
       "    .dataframe tbody tr th:only-of-type {\n",
       "        vertical-align: middle;\n",
       "    }\n",
       "\n",
       "    .dataframe tbody tr th {\n",
       "        vertical-align: top;\n",
       "    }\n",
       "\n",
       "    .dataframe thead th {\n",
       "        text-align: right;\n",
       "    }\n",
       "</style>\n",
       "<table border=\"1\" class=\"dataframe\">\n",
       "  <thead>\n",
       "    <tr style=\"text-align: right;\">\n",
       "      <th></th>\n",
       "      <th>0 f1</th>\n",
       "      <th>0 pr</th>\n",
       "      <th>0 re</th>\n",
       "      <th>0 acc</th>\n",
       "      <th>1 f1</th>\n",
       "      <th>1 pr</th>\n",
       "      <th>1 re</th>\n",
       "      <th>1 acc</th>\n",
       "      <th>2 f1</th>\n",
       "      <th>2 pr</th>\n",
       "      <th>2 re</th>\n",
       "      <th>2 acc</th>\n",
       "    </tr>\n",
       "  </thead>\n",
       "  <tbody>\n",
       "    <tr>\n",
       "      <th>age</th>\n",
       "      <td>0.967864</td>\n",
       "      <td>1.0</td>\n",
       "      <td>0.937729</td>\n",
       "      <td>0.937729</td>\n",
       "      <td>0.936816</td>\n",
       "      <td>1.0</td>\n",
       "      <td>0.881141</td>\n",
       "      <td>0.881141</td>\n",
       "      <td>0.716049</td>\n",
       "      <td>1.0</td>\n",
       "      <td>0.557692</td>\n",
       "      <td>0.557692</td>\n",
       "    </tr>\n",
       "  </tbody>\n",
       "</table>\n",
       "</div>"
      ],
      "text/plain": [
       "         0 f1  0 pr      0 re     0 acc      1 f1  1 pr      1 re     1 acc  \\\n",
       "age  0.967864   1.0  0.937729  0.937729  0.936816   1.0  0.881141  0.881141   \n",
       "\n",
       "         2 f1  2 pr      2 re     2 acc  \n",
       "age  0.716049   1.0  0.557692  0.557692  "
      ]
     },
     "execution_count": 139,
     "metadata": {},
     "output_type": "execute_result"
    }
   ],
   "source": [
    "preds, labels = validation_test(age_models[1:2], dataloader, 3)\n",
    "log_f1_and_acc_scores(args, np.argmax(preds, axis=1), labels)"
   ]
  },
  {
   "cell_type": "code",
   "execution_count": 140,
   "id": "elder-consequence",
   "metadata": {},
   "outputs": [
    {
     "name": "stdout",
     "output_type": "stream",
     "text": [
      "44\r"
     ]
    },
    {
     "data": {
      "text/html": [
       "<div>\n",
       "<style scoped>\n",
       "    .dataframe tbody tr th:only-of-type {\n",
       "        vertical-align: middle;\n",
       "    }\n",
       "\n",
       "    .dataframe tbody tr th {\n",
       "        vertical-align: top;\n",
       "    }\n",
       "\n",
       "    .dataframe thead th {\n",
       "        text-align: right;\n",
       "    }\n",
       "</style>\n",
       "<table border=\"1\" class=\"dataframe\">\n",
       "  <thead>\n",
       "    <tr style=\"text-align: right;\">\n",
       "      <th></th>\n",
       "      <th>0 f1</th>\n",
       "      <th>0 pr</th>\n",
       "      <th>0 re</th>\n",
       "      <th>0 acc</th>\n",
       "      <th>1 f1</th>\n",
       "      <th>1 pr</th>\n",
       "      <th>1 re</th>\n",
       "      <th>1 acc</th>\n",
       "      <th>2 f1</th>\n",
       "      <th>2 pr</th>\n",
       "      <th>2 re</th>\n",
       "      <th>2 acc</th>\n",
       "    </tr>\n",
       "  </thead>\n",
       "  <tbody>\n",
       "    <tr>\n",
       "      <th>age</th>\n",
       "      <td>0.975086</td>\n",
       "      <td>1.0</td>\n",
       "      <td>0.951384</td>\n",
       "      <td>0.951384</td>\n",
       "      <td>0.934735</td>\n",
       "      <td>1.0</td>\n",
       "      <td>0.877467</td>\n",
       "      <td>0.877467</td>\n",
       "      <td>0.59</td>\n",
       "      <td>1.0</td>\n",
       "      <td>0.41844</td>\n",
       "      <td>0.41844</td>\n",
       "    </tr>\n",
       "  </tbody>\n",
       "</table>\n",
       "</div>"
      ],
      "text/plain": [
       "         0 f1  0 pr      0 re     0 acc      1 f1  1 pr      1 re     1 acc  \\\n",
       "age  0.975086   1.0  0.951384  0.951384  0.934735   1.0  0.877467  0.877467   \n",
       "\n",
       "     2 f1  2 pr     2 re    2 acc  \n",
       "age  0.59   1.0  0.41844  0.41844  "
      ]
     },
     "execution_count": 140,
     "metadata": {},
     "output_type": "execute_result"
    }
   ],
   "source": [
    "preds, labels = validation_test(age_models[2:3], dataloader, 3)\n",
    "log_f1_and_acc_scores(args, np.argmax(preds, axis=1), labels)"
   ]
  },
  {
   "cell_type": "code",
   "execution_count": 141,
   "id": "front-cleveland",
   "metadata": {},
   "outputs": [
    {
     "name": "stdout",
     "output_type": "stream",
     "text": [
      "44\r"
     ]
    },
    {
     "data": {
      "text/html": [
       "<div>\n",
       "<style scoped>\n",
       "    .dataframe tbody tr th:only-of-type {\n",
       "        vertical-align: middle;\n",
       "    }\n",
       "\n",
       "    .dataframe tbody tr th {\n",
       "        vertical-align: top;\n",
       "    }\n",
       "\n",
       "    .dataframe thead th {\n",
       "        text-align: right;\n",
       "    }\n",
       "</style>\n",
       "<table border=\"1\" class=\"dataframe\">\n",
       "  <thead>\n",
       "    <tr style=\"text-align: right;\">\n",
       "      <th></th>\n",
       "      <th>0 f1</th>\n",
       "      <th>0 pr</th>\n",
       "      <th>0 re</th>\n",
       "      <th>0 acc</th>\n",
       "      <th>1 f1</th>\n",
       "      <th>1 pr</th>\n",
       "      <th>1 re</th>\n",
       "      <th>1 acc</th>\n",
       "      <th>2 f1</th>\n",
       "      <th>2 pr</th>\n",
       "      <th>2 re</th>\n",
       "      <th>2 acc</th>\n",
       "    </tr>\n",
       "  </thead>\n",
       "  <tbody>\n",
       "    <tr>\n",
       "      <th>age</th>\n",
       "      <td>0.978186</td>\n",
       "      <td>1.0</td>\n",
       "      <td>0.957303</td>\n",
       "      <td>0.957303</td>\n",
       "      <td>0.94266</td>\n",
       "      <td>1.0</td>\n",
       "      <td>0.891538</td>\n",
       "      <td>0.891538</td>\n",
       "      <td>0.765432</td>\n",
       "      <td>1.0</td>\n",
       "      <td>0.62</td>\n",
       "      <td>0.62</td>\n",
       "    </tr>\n",
       "  </tbody>\n",
       "</table>\n",
       "</div>"
      ],
      "text/plain": [
       "         0 f1  0 pr      0 re     0 acc     1 f1  1 pr      1 re     1 acc  \\\n",
       "age  0.978186   1.0  0.957303  0.957303  0.94266   1.0  0.891538  0.891538   \n",
       "\n",
       "         2 f1  2 pr  2 re  2 acc  \n",
       "age  0.765432   1.0  0.62   0.62  "
      ]
     },
     "execution_count": 141,
     "metadata": {},
     "output_type": "execute_result"
    }
   ],
   "source": [
    "preds, labels = validation_test(age_models[3:4], dataloader, 3)\n",
    "log_f1_and_acc_scores(args, np.argmax(preds, axis=1), labels)"
   ]
  },
  {
   "cell_type": "code",
   "execution_count": 171,
   "id": "derived-modern",
   "metadata": {},
   "outputs": [
    {
     "name": "stdout",
     "output_type": "stream",
     "text": [
      "59\r"
     ]
    }
   ],
   "source": [
    "preds, labels = validation_test(age_models, dataloader, 3)\n",
    "labels = labels.astype(np.int)"
   ]
  },
  {
   "cell_type": "code",
   "execution_count": 143,
   "id": "respected-tourism",
   "metadata": {},
   "outputs": [
    {
     "data": {
      "text/html": [
       "<div>\n",
       "<style scoped>\n",
       "    .dataframe tbody tr th:only-of-type {\n",
       "        vertical-align: middle;\n",
       "    }\n",
       "\n",
       "    .dataframe tbody tr th {\n",
       "        vertical-align: top;\n",
       "    }\n",
       "\n",
       "    .dataframe thead th {\n",
       "        text-align: right;\n",
       "    }\n",
       "</style>\n",
       "<table border=\"1\" class=\"dataframe\">\n",
       "  <thead>\n",
       "    <tr style=\"text-align: right;\">\n",
       "      <th></th>\n",
       "      <th>0 f1</th>\n",
       "      <th>0 pr</th>\n",
       "      <th>0 re</th>\n",
       "      <th>0 acc</th>\n",
       "      <th>1 f1</th>\n",
       "      <th>1 pr</th>\n",
       "      <th>1 re</th>\n",
       "      <th>1 acc</th>\n",
       "      <th>2 f1</th>\n",
       "      <th>2 pr</th>\n",
       "      <th>2 re</th>\n",
       "      <th>2 acc</th>\n",
       "    </tr>\n",
       "  </thead>\n",
       "  <tbody>\n",
       "    <tr>\n",
       "      <th>age</th>\n",
       "      <td>0.979886</td>\n",
       "      <td>1.0</td>\n",
       "      <td>0.960565</td>\n",
       "      <td>0.960565</td>\n",
       "      <td>0.945028</td>\n",
       "      <td>1.0</td>\n",
       "      <td>0.895785</td>\n",
       "      <td>0.895785</td>\n",
       "      <td>0.784314</td>\n",
       "      <td>1.0</td>\n",
       "      <td>0.645161</td>\n",
       "      <td>0.645161</td>\n",
       "    </tr>\n",
       "  </tbody>\n",
       "</table>\n",
       "</div>"
      ],
      "text/plain": [
       "         0 f1  0 pr      0 re     0 acc      1 f1  1 pr      1 re     1 acc  \\\n",
       "age  0.979886   1.0  0.960565  0.960565  0.945028   1.0  0.895785  0.895785   \n",
       "\n",
       "         2 f1  2 pr      2 re     2 acc  \n",
       "age  0.784314   1.0  0.645161  0.645161  "
      ]
     },
     "execution_count": 143,
     "metadata": {},
     "output_type": "execute_result"
    }
   ],
   "source": [
    "# age_model 다 한거, 0.645161\n",
    "log_f1_and_acc_scores(args, np.argmax(preds, axis=1), labels)"
   ]
  },
  {
   "cell_type": "code",
   "execution_count": 176,
   "id": "medium-polls",
   "metadata": {},
   "outputs": [
    {
     "name": "stdout",
     "output_type": "stream",
     "text": [
      "44\r"
     ]
    }
   ],
   "source": [
    "preds, labels = validation_test(age_models[:2] + age_models[3:], dataloader, 3)\n",
    "labels = labels.astype(np.int)"
   ]
  },
  {
   "cell_type": "code",
   "execution_count": 177,
   "id": "ancient-difficulty",
   "metadata": {},
   "outputs": [
    {
     "data": {
      "text/html": [
       "<div>\n",
       "<style scoped>\n",
       "    .dataframe tbody tr th:only-of-type {\n",
       "        vertical-align: middle;\n",
       "    }\n",
       "\n",
       "    .dataframe tbody tr th {\n",
       "        vertical-align: top;\n",
       "    }\n",
       "\n",
       "    .dataframe thead th {\n",
       "        text-align: right;\n",
       "    }\n",
       "</style>\n",
       "<table border=\"1\" class=\"dataframe\">\n",
       "  <thead>\n",
       "    <tr style=\"text-align: right;\">\n",
       "      <th></th>\n",
       "      <th>0 f1</th>\n",
       "      <th>0 pr</th>\n",
       "      <th>0 re</th>\n",
       "      <th>0 acc</th>\n",
       "      <th>1 f1</th>\n",
       "      <th>1 pr</th>\n",
       "      <th>1 re</th>\n",
       "      <th>1 acc</th>\n",
       "      <th>2 f1</th>\n",
       "      <th>2 pr</th>\n",
       "      <th>2 re</th>\n",
       "      <th>2 acc</th>\n",
       "    </tr>\n",
       "  </thead>\n",
       "  <tbody>\n",
       "    <tr>\n",
       "      <th>age</th>\n",
       "      <td>0.978804</td>\n",
       "      <td>1.0</td>\n",
       "      <td>0.958488</td>\n",
       "      <td>0.958488</td>\n",
       "      <td>0.946429</td>\n",
       "      <td>1.0</td>\n",
       "      <td>0.898305</td>\n",
       "      <td>0.898305</td>\n",
       "      <td>0.787097</td>\n",
       "      <td>1.0</td>\n",
       "      <td>0.648936</td>\n",
       "      <td>0.648936</td>\n",
       "    </tr>\n",
       "  </tbody>\n",
       "</table>\n",
       "</div>"
      ],
      "text/plain": [
       "         0 f1  0 pr      0 re     0 acc      1 f1  1 pr      1 re     1 acc  \\\n",
       "age  0.978804   1.0  0.958488  0.958488  0.946429   1.0  0.898305  0.898305   \n",
       "\n",
       "         2 f1  2 pr      2 re     2 acc  \n",
       "age  0.787097   1.0  0.648936  0.648936  "
      ]
     },
     "execution_count": 177,
     "metadata": {},
     "output_type": "execute_result"
    }
   ],
   "source": [
    "# age_model 중에서 recall 점수 낮은 거 뺀거\n",
    "log_f1_and_acc_scores(args, np.argmax(preds, axis=1), labels)"
   ]
  },
  {
   "cell_type": "code",
   "execution_count": 178,
   "id": "respected-hungarian",
   "metadata": {},
   "outputs": [
    {
     "data": {
      "text/plain": [
       "0.8286956965030856"
      ]
     },
     "execution_count": 178,
     "metadata": {},
     "output_type": "execute_result"
    }
   ],
   "source": [
    "f1_score(np.argmax(preds, axis=1), labels, average='macro')"
   ]
  },
  {
   "cell_type": "markdown",
   "id": "federal-veteran",
   "metadata": {},
   "source": [
    "### 첫 번째 Age Ensemble"
   ]
  },
  {
   "attachments": {
    "de6fb230-d5d9-438b-b5e2-dc9d44052127.png": {
     "image/png": "[encoded data removed]"
    }
   },
   "cell_type": "markdown",
   "id": "shaped-disease",
   "metadata": {},
   "source": [
    "![image.png](attachment:de6fb230-d5d9-438b-b5e2-dc9d44052127.png)"
   ]
  },
  {
   "cell_type": "markdown",
   "id": "diagnostic-shuttle",
   "metadata": {},
   "source": [
    "## Mask Ensemble Test"
   ]
  },
  {
   "cell_type": "code",
   "execution_count": 145,
   "id": "detected-filing",
   "metadata": {},
   "outputs": [
    {
     "data": {
      "text/plain": [
       "['/opt/ml/weights/mask-04050759-absurd-sweep-4.pt',\n",
       " '/opt/ml/weights/mask-04050847-devout-sweep-5.pt',\n",
       " '/opt/ml/weights/mask-04051102-copper-sweep-9.pt',\n",
       " '/opt/ml/weights/mask-04051658-rich-sweep-17.pt']"
      ]
     },
     "execution_count": 145,
     "metadata": {},
     "output_type": "execute_result"
    }
   ],
   "source": [
    "mask_models = [\n",
    "    'mask-04050759-absurd-sweep-4', # 7\n",
    "    'mask-04050847-devout-sweep-5', # 8\n",
    "    'mask-04051102-copper-sweep-9', # 8\n",
    "    'mask-04051658-rich-sweep-17', # 8\n",
    "]\n",
    "\n",
    "mask_models = list(map(lambda x: os.path.join('/opt/ml/weights/', x) + \".pt\", mask_models))\n",
    "mask_models"
   ]
  },
  {
   "cell_type": "code",
   "execution_count": 146,
   "id": "arctic-budget",
   "metadata": {},
   "outputs": [
    {
     "name": "stdout",
     "output_type": "stream",
     "text": [
      "3780\n"
     ]
    }
   ],
   "source": [
    "args.train_key = \"mask\"\n",
    "args.valid_size = 0.2\n",
    "args.test = False\n",
    "\n",
    "_, dataloader = get_dataloader(args)\n",
    "print(len(dataloader.dataset))"
   ]
  },
  {
   "cell_type": "code",
   "execution_count": 147,
   "id": "common-nightmare",
   "metadata": {},
   "outputs": [
    {
     "name": "stdout",
     "output_type": "stream",
     "text": [
      "59\r"
     ]
    },
    {
     "data": {
      "text/html": [
       "<div>\n",
       "<style scoped>\n",
       "    .dataframe tbody tr th:only-of-type {\n",
       "        vertical-align: middle;\n",
       "    }\n",
       "\n",
       "    .dataframe tbody tr th {\n",
       "        vertical-align: top;\n",
       "    }\n",
       "\n",
       "    .dataframe thead th {\n",
       "        text-align: right;\n",
       "    }\n",
       "</style>\n",
       "<table border=\"1\" class=\"dataframe\">\n",
       "  <thead>\n",
       "    <tr style=\"text-align: right;\">\n",
       "      <th></th>\n",
       "      <th>0 f1</th>\n",
       "      <th>0 pr</th>\n",
       "      <th>0 re</th>\n",
       "      <th>0 acc</th>\n",
       "      <th>1 f1</th>\n",
       "      <th>1 pr</th>\n",
       "      <th>1 re</th>\n",
       "      <th>1 acc</th>\n",
       "      <th>2 f1</th>\n",
       "      <th>2 pr</th>\n",
       "      <th>2 re</th>\n",
       "      <th>2 acc</th>\n",
       "    </tr>\n",
       "  </thead>\n",
       "  <tbody>\n",
       "    <tr>\n",
       "      <th>mask</th>\n",
       "      <td>0.998517</td>\n",
       "      <td>1.0</td>\n",
       "      <td>0.997038</td>\n",
       "      <td>0.997038</td>\n",
       "      <td>0.992509</td>\n",
       "      <td>1.0</td>\n",
       "      <td>0.98513</td>\n",
       "      <td>0.98513</td>\n",
       "      <td>0.99722</td>\n",
       "      <td>1.0</td>\n",
       "      <td>0.994455</td>\n",
       "      <td>0.994455</td>\n",
       "    </tr>\n",
       "  </tbody>\n",
       "</table>\n",
       "</div>"
      ],
      "text/plain": [
       "          0 f1  0 pr      0 re     0 acc      1 f1  1 pr     1 re    1 acc  \\\n",
       "mask  0.998517   1.0  0.997038  0.997038  0.992509   1.0  0.98513  0.98513   \n",
       "\n",
       "         2 f1  2 pr      2 re     2 acc  \n",
       "mask  0.99722   1.0  0.994455  0.994455  "
      ]
     },
     "execution_count": 147,
     "metadata": {},
     "output_type": "execute_result"
    }
   ],
   "source": [
    "preds, labels = validation_test(mask_models[0:1], dataloader, 3)\n",
    "labels = labels.astype(np.int)\n",
    "log_f1_and_acc_scores(args, np.argmax(preds, axis=1), labels)"
   ]
  },
  {
   "cell_type": "code",
   "execution_count": 148,
   "id": "impaired-collins",
   "metadata": {},
   "outputs": [
    {
     "name": "stdout",
     "output_type": "stream",
     "text": [
      "59\r"
     ]
    },
    {
     "data": {
      "text/html": [
       "<div>\n",
       "<style scoped>\n",
       "    .dataframe tbody tr th:only-of-type {\n",
       "        vertical-align: middle;\n",
       "    }\n",
       "\n",
       "    .dataframe tbody tr th {\n",
       "        vertical-align: top;\n",
       "    }\n",
       "\n",
       "    .dataframe thead th {\n",
       "        text-align: right;\n",
       "    }\n",
       "</style>\n",
       "<table border=\"1\" class=\"dataframe\">\n",
       "  <thead>\n",
       "    <tr style=\"text-align: right;\">\n",
       "      <th></th>\n",
       "      <th>0 f1</th>\n",
       "      <th>0 pr</th>\n",
       "      <th>0 re</th>\n",
       "      <th>0 acc</th>\n",
       "      <th>1 f1</th>\n",
       "      <th>1 pr</th>\n",
       "      <th>1 re</th>\n",
       "      <th>1 acc</th>\n",
       "      <th>2 f1</th>\n",
       "      <th>2 pr</th>\n",
       "      <th>2 re</th>\n",
       "      <th>2 acc</th>\n",
       "    </tr>\n",
       "  </thead>\n",
       "  <tbody>\n",
       "    <tr>\n",
       "      <th>mask</th>\n",
       "      <td>0.998514</td>\n",
       "      <td>1.0</td>\n",
       "      <td>0.997033</td>\n",
       "      <td>0.997033</td>\n",
       "      <td>0.98694</td>\n",
       "      <td>1.0</td>\n",
       "      <td>0.974217</td>\n",
       "      <td>0.974217</td>\n",
       "      <td>0.995357</td>\n",
       "      <td>1.0</td>\n",
       "      <td>0.990758</td>\n",
       "      <td>0.990758</td>\n",
       "    </tr>\n",
       "  </tbody>\n",
       "</table>\n",
       "</div>"
      ],
      "text/plain": [
       "          0 f1  0 pr      0 re     0 acc     1 f1  1 pr      1 re     1 acc  \\\n",
       "mask  0.998514   1.0  0.997033  0.997033  0.98694   1.0  0.974217  0.974217   \n",
       "\n",
       "          2 f1  2 pr      2 re     2 acc  \n",
       "mask  0.995357   1.0  0.990758  0.990758  "
      ]
     },
     "execution_count": 148,
     "metadata": {},
     "output_type": "execute_result"
    }
   ],
   "source": [
    "preds, labels = validation_test(mask_models[1:2], dataloader, 3)\n",
    "labels = labels.astype(np.int)\n",
    "log_f1_and_acc_scores(args, np.argmax(preds, axis=1), labels)"
   ]
  },
  {
   "cell_type": "code",
   "execution_count": 149,
   "id": "combined-round",
   "metadata": {},
   "outputs": [
    {
     "name": "stdout",
     "output_type": "stream",
     "text": [
      "59\r"
     ]
    },
    {
     "data": {
      "text/html": [
       "<div>\n",
       "<style scoped>\n",
       "    .dataframe tbody tr th:only-of-type {\n",
       "        vertical-align: middle;\n",
       "    }\n",
       "\n",
       "    .dataframe tbody tr th {\n",
       "        vertical-align: top;\n",
       "    }\n",
       "\n",
       "    .dataframe thead th {\n",
       "        text-align: right;\n",
       "    }\n",
       "</style>\n",
       "<table border=\"1\" class=\"dataframe\">\n",
       "  <thead>\n",
       "    <tr style=\"text-align: right;\">\n",
       "      <th></th>\n",
       "      <th>0 f1</th>\n",
       "      <th>0 pr</th>\n",
       "      <th>0 re</th>\n",
       "      <th>0 acc</th>\n",
       "      <th>1 f1</th>\n",
       "      <th>1 pr</th>\n",
       "      <th>1 re</th>\n",
       "      <th>1 acc</th>\n",
       "      <th>2 f1</th>\n",
       "      <th>2 pr</th>\n",
       "      <th>2 re</th>\n",
       "      <th>2 acc</th>\n",
       "    </tr>\n",
       "  </thead>\n",
       "  <tbody>\n",
       "    <tr>\n",
       "      <th>mask</th>\n",
       "      <td>0.998517</td>\n",
       "      <td>1.0</td>\n",
       "      <td>0.997038</td>\n",
       "      <td>0.997038</td>\n",
       "      <td>0.993427</td>\n",
       "      <td>1.0</td>\n",
       "      <td>0.98694</td>\n",
       "      <td>0.98694</td>\n",
       "      <td>0.995375</td>\n",
       "      <td>1.0</td>\n",
       "      <td>0.990792</td>\n",
       "      <td>0.990792</td>\n",
       "    </tr>\n",
       "  </tbody>\n",
       "</table>\n",
       "</div>"
      ],
      "text/plain": [
       "          0 f1  0 pr      0 re     0 acc      1 f1  1 pr     1 re    1 acc  \\\n",
       "mask  0.998517   1.0  0.997038  0.997038  0.993427   1.0  0.98694  0.98694   \n",
       "\n",
       "          2 f1  2 pr      2 re     2 acc  \n",
       "mask  0.995375   1.0  0.990792  0.990792  "
      ]
     },
     "execution_count": 149,
     "metadata": {},
     "output_type": "execute_result"
    }
   ],
   "source": [
    "preds, labels = validation_test(mask_models[2:3], dataloader, 3)\n",
    "labels = labels.astype(np.int)\n",
    "log_f1_and_acc_scores(args, np.argmax(preds, axis=1), labels)"
   ]
  },
  {
   "cell_type": "code",
   "execution_count": 150,
   "id": "apart-individual",
   "metadata": {},
   "outputs": [
    {
     "name": "stdout",
     "output_type": "stream",
     "text": [
      "59\r"
     ]
    },
    {
     "data": {
      "text/html": [
       "<div>\n",
       "<style scoped>\n",
       "    .dataframe tbody tr th:only-of-type {\n",
       "        vertical-align: middle;\n",
       "    }\n",
       "\n",
       "    .dataframe tbody tr th {\n",
       "        vertical-align: top;\n",
       "    }\n",
       "\n",
       "    .dataframe thead th {\n",
       "        text-align: right;\n",
       "    }\n",
       "</style>\n",
       "<table border=\"1\" class=\"dataframe\">\n",
       "  <thead>\n",
       "    <tr style=\"text-align: right;\">\n",
       "      <th></th>\n",
       "      <th>0 f1</th>\n",
       "      <th>0 pr</th>\n",
       "      <th>0 re</th>\n",
       "      <th>0 acc</th>\n",
       "      <th>1 f1</th>\n",
       "      <th>1 pr</th>\n",
       "      <th>1 re</th>\n",
       "      <th>1 acc</th>\n",
       "      <th>2 f1</th>\n",
       "      <th>2 pr</th>\n",
       "      <th>2 re</th>\n",
       "      <th>2 acc</th>\n",
       "    </tr>\n",
       "  </thead>\n",
       "  <tbody>\n",
       "    <tr>\n",
       "      <th>mask</th>\n",
       "      <td>0.9987</td>\n",
       "      <td>1.0</td>\n",
       "      <td>0.997404</td>\n",
       "      <td>0.997404</td>\n",
       "      <td>0.987884</td>\n",
       "      <td>1.0</td>\n",
       "      <td>0.976059</td>\n",
       "      <td>0.976059</td>\n",
       "      <td>0.996289</td>\n",
       "      <td>1.0</td>\n",
       "      <td>0.992606</td>\n",
       "      <td>0.992606</td>\n",
       "    </tr>\n",
       "  </tbody>\n",
       "</table>\n",
       "</div>"
      ],
      "text/plain": [
       "        0 f1  0 pr      0 re     0 acc      1 f1  1 pr      1 re     1 acc  \\\n",
       "mask  0.9987   1.0  0.997404  0.997404  0.987884   1.0  0.976059  0.976059   \n",
       "\n",
       "          2 f1  2 pr      2 re     2 acc  \n",
       "mask  0.996289   1.0  0.992606  0.992606  "
      ]
     },
     "execution_count": 150,
     "metadata": {},
     "output_type": "execute_result"
    }
   ],
   "source": [
    "preds, labels = validation_test(mask_models[3:4], dataloader, 3)\n",
    "labels = labels.astype(np.int)\n",
    "log_f1_and_acc_scores(args, np.argmax(preds, axis=1), labels)"
   ]
  },
  {
   "cell_type": "code",
   "execution_count": 151,
   "id": "quarterly-tradition",
   "metadata": {},
   "outputs": [
    {
     "name": "stdout",
     "output_type": "stream",
     "text": [
      "59\r"
     ]
    },
    {
     "data": {
      "text/html": [
       "<div>\n",
       "<style scoped>\n",
       "    .dataframe tbody tr th:only-of-type {\n",
       "        vertical-align: middle;\n",
       "    }\n",
       "\n",
       "    .dataframe tbody tr th {\n",
       "        vertical-align: top;\n",
       "    }\n",
       "\n",
       "    .dataframe thead th {\n",
       "        text-align: right;\n",
       "    }\n",
       "</style>\n",
       "<table border=\"1\" class=\"dataframe\">\n",
       "  <thead>\n",
       "    <tr style=\"text-align: right;\">\n",
       "      <th></th>\n",
       "      <th>0 f1</th>\n",
       "      <th>0 pr</th>\n",
       "      <th>0 re</th>\n",
       "      <th>0 acc</th>\n",
       "      <th>1 f1</th>\n",
       "      <th>1 pr</th>\n",
       "      <th>1 re</th>\n",
       "      <th>1 acc</th>\n",
       "      <th>2 f1</th>\n",
       "      <th>2 pr</th>\n",
       "      <th>2 re</th>\n",
       "      <th>2 acc</th>\n",
       "    </tr>\n",
       "  </thead>\n",
       "  <tbody>\n",
       "    <tr>\n",
       "      <th>mask</th>\n",
       "      <td>0.998889</td>\n",
       "      <td>1.0</td>\n",
       "      <td>0.99778</td>\n",
       "      <td>0.99778</td>\n",
       "      <td>0.996248</td>\n",
       "      <td>1.0</td>\n",
       "      <td>0.992523</td>\n",
       "      <td>0.992523</td>\n",
       "      <td>0.996296</td>\n",
       "      <td>1.0</td>\n",
       "      <td>0.99262</td>\n",
       "      <td>0.99262</td>\n",
       "    </tr>\n",
       "  </tbody>\n",
       "</table>\n",
       "</div>"
      ],
      "text/plain": [
       "          0 f1  0 pr     0 re    0 acc      1 f1  1 pr      1 re     1 acc  \\\n",
       "mask  0.998889   1.0  0.99778  0.99778  0.996248   1.0  0.992523  0.992523   \n",
       "\n",
       "          2 f1  2 pr     2 re    2 acc  \n",
       "mask  0.996296   1.0  0.99262  0.99262  "
      ]
     },
     "execution_count": 151,
     "metadata": {},
     "output_type": "execute_result"
    }
   ],
   "source": [
    "preds, labels = validation_test(mask_models, dataloader, 3)\n",
    "labels = labels.astype(np.int)\n",
    "log_f1_and_acc_scores(args, np.argmax(preds, axis=1), labels)"
   ]
  },
  {
   "cell_type": "code",
   "execution_count": 153,
   "id": "conservative-opera",
   "metadata": {},
   "outputs": [
    {
     "data": {
      "text/plain": [
       "0.9938103829060253"
      ]
     },
     "execution_count": 153,
     "metadata": {},
     "output_type": "execute_result"
    }
   ],
   "source": [
    "f1_score(np.argmax(preds, axis=1), labels, average='macro')"
   ]
  },
  {
   "attachments": {
    "d5cb581d-573e-4d66-81b7-022ac7c4f7ae.png": {
     "image/png": "[encoded data removed]"
    }
   },
   "cell_type": "markdown",
   "id": "careful-puppy",
   "metadata": {},
   "source": [
    "![image.png](attachment:d5cb581d-573e-4d66-81b7-022ac7c4f7ae.png)"
   ]
  },
  {
   "cell_type": "markdown",
   "id": "fluid-queue",
   "metadata": {},
   "source": [
    "## 첫 번째 Mask Ensemble"
   ]
  },
  {
   "cell_type": "code",
   "execution_count": 35,
   "id": "demonstrated-provincial",
   "metadata": {},
   "outputs": [
    {
     "name": "stdout",
     "output_type": "stream",
     "text": [
      "['/opt/ml/weights/mask-04050759-absurd-sweep-4.pt', '/opt/ml/weights/mask-04050847-devout-sweep-5.pt', '/opt/ml/weights/mask-04051102-copper-sweep-9.pt', '/opt/ml/weights/mask-04051658-rich-sweep-17.pt']\n"
     ]
    }
   ],
   "source": [
    "print(mask_models)"
   ]
  },
  {
   "cell_type": "code",
   "execution_count": 36,
   "id": "measured-drill",
   "metadata": {},
   "outputs": [
    {
     "data": {
      "text/html": [
       "<div>\n",
       "<style scoped>\n",
       "    .dataframe tbody tr th:only-of-type {\n",
       "        vertical-align: middle;\n",
       "    }\n",
       "\n",
       "    .dataframe tbody tr th {\n",
       "        vertical-align: top;\n",
       "    }\n",
       "\n",
       "    .dataframe thead th {\n",
       "        text-align: right;\n",
       "    }\n",
       "</style>\n",
       "<table border=\"1\" class=\"dataframe\">\n",
       "  <thead>\n",
       "    <tr style=\"text-align: right;\">\n",
       "      <th></th>\n",
       "      <th>0 f1</th>\n",
       "      <th>0 pr</th>\n",
       "      <th>0 re</th>\n",
       "      <th>0 acc</th>\n",
       "      <th>1 f1</th>\n",
       "      <th>1 pr</th>\n",
       "      <th>1 re</th>\n",
       "      <th>1 acc</th>\n",
       "      <th>2 f1</th>\n",
       "      <th>2 pr</th>\n",
       "      <th>2 re</th>\n",
       "      <th>2 acc</th>\n",
       "    </tr>\n",
       "  </thead>\n",
       "  <tbody>\n",
       "    <tr>\n",
       "      <th>mask</th>\n",
       "      <td>0.998889</td>\n",
       "      <td>1.0</td>\n",
       "      <td>0.99778</td>\n",
       "      <td>0.99778</td>\n",
       "      <td>0.996248</td>\n",
       "      <td>1.0</td>\n",
       "      <td>0.992523</td>\n",
       "      <td>0.992523</td>\n",
       "      <td>0.996296</td>\n",
       "      <td>1.0</td>\n",
       "      <td>0.99262</td>\n",
       "      <td>0.99262</td>\n",
       "    </tr>\n",
       "  </tbody>\n",
       "</table>\n",
       "</div>"
      ],
      "text/plain": [
       "          0 f1  0 pr     0 re    0 acc      1 f1  1 pr      1 re     1 acc  \\\n",
       "mask  0.998889   1.0  0.99778  0.99778  0.996248   1.0  0.992523  0.992523   \n",
       "\n",
       "          2 f1  2 pr     2 re    2 acc  \n",
       "mask  0.996296   1.0  0.99262  0.99262  "
      ]
     },
     "execution_count": 36,
     "metadata": {},
     "output_type": "execute_result"
    }
   ],
   "source": [
    "log_f1_and_acc_scores(args, np.argmax(preds, axis=1), labels)"
   ]
  },
  {
   "cell_type": "code",
   "execution_count": 37,
   "id": "false-ideal",
   "metadata": {},
   "outputs": [
    {
     "data": {
      "text/plain": [
       "0.9938103829060253"
      ]
     },
     "execution_count": 37,
     "metadata": {},
     "output_type": "execute_result"
    }
   ],
   "source": [
    "f1_score(np.argmax(preds, axis=1), labels, average='macro')"
   ]
  },
  {
   "cell_type": "markdown",
   "id": "modified-representation",
   "metadata": {},
   "source": [
    "## Gender Ensemble Test"
   ]
  },
  {
   "cell_type": "code",
   "execution_count": 154,
   "id": "economic-rolling",
   "metadata": {},
   "outputs": [
    {
     "data": {
      "text/plain": [
       "['/opt/ml/weights/gender-04052055-still-sweep-14.pt']"
      ]
     },
     "execution_count": 154,
     "metadata": {},
     "output_type": "execute_result"
    }
   ],
   "source": [
    "gender_models = [\n",
    "    'gender-04052055-still-sweep-14', # 38\n",
    "]\n",
    "\n",
    "gender_models = list(map(lambda x: os.path.join('/opt/ml/weights/', x) + \".pt\", gender_models))\n",
    "gender_models"
   ]
  },
  {
   "cell_type": "code",
   "execution_count": 155,
   "id": "artificial-connecticut",
   "metadata": {},
   "outputs": [
    {
     "name": "stdout",
     "output_type": "stream",
     "text": [
      "3780\n"
     ]
    }
   ],
   "source": [
    "args.train_key = \"gender\"\n",
    "args.valid_size = 0.2\n",
    "args.test = False\n",
    "\n",
    "_, dataloader = get_dataloader(args)\n",
    "print(len(dataloader.dataset))"
   ]
  },
  {
   "cell_type": "code",
   "execution_count": 156,
   "id": "optimum-basic",
   "metadata": {},
   "outputs": [
    {
     "name": "stdout",
     "output_type": "stream",
     "text": [
      "59\r"
     ]
    }
   ],
   "source": [
    "preds, labels = validation_test(gender_models, dataloader, 2)\n",
    "labels = labels.astype(np.int)"
   ]
  },
  {
   "attachments": {
    "4f13264a-619a-488a-aa55-c27df24a3752.png": {
     "image/png": "[encoded data removed]"
    }
   },
   "cell_type": "markdown",
   "id": "minute-microphone",
   "metadata": {},
   "source": [
    "![image.png](attachment:4f13264a-619a-488a-aa55-c27df24a3752.png)"
   ]
  },
  {
   "cell_type": "markdown",
   "id": "labeled-cooperative",
   "metadata": {},
   "source": [
    "## 첫 번째 Gender Ensemble"
   ]
  },
  {
   "cell_type": "code",
   "execution_count": 49,
   "id": "typical-reality",
   "metadata": {},
   "outputs": [
    {
     "name": "stdout",
     "output_type": "stream",
     "text": [
      "['/opt/ml/weights/gender-04052055-still-sweep-14.pt']\n"
     ]
    }
   ],
   "source": [
    "print(gender_models)"
   ]
  },
  {
   "cell_type": "code",
   "execution_count": 50,
   "id": "unsigned-gamma",
   "metadata": {},
   "outputs": [
    {
     "data": {
      "text/html": [
       "<div>\n",
       "<style scoped>\n",
       "    .dataframe tbody tr th:only-of-type {\n",
       "        vertical-align: middle;\n",
       "    }\n",
       "\n",
       "    .dataframe tbody tr th {\n",
       "        vertical-align: top;\n",
       "    }\n",
       "\n",
       "    .dataframe thead th {\n",
       "        text-align: right;\n",
       "    }\n",
       "</style>\n",
       "<table border=\"1\" class=\"dataframe\">\n",
       "  <thead>\n",
       "    <tr style=\"text-align: right;\">\n",
       "      <th></th>\n",
       "      <th>0 f1</th>\n",
       "      <th>0 pr</th>\n",
       "      <th>0 re</th>\n",
       "      <th>0 acc</th>\n",
       "      <th>1 f1</th>\n",
       "      <th>1 pr</th>\n",
       "      <th>1 re</th>\n",
       "      <th>1 acc</th>\n",
       "    </tr>\n",
       "  </thead>\n",
       "  <tbody>\n",
       "    <tr>\n",
       "      <th>gender</th>\n",
       "      <td>0.976936</td>\n",
       "      <td>1.0</td>\n",
       "      <td>0.954913</td>\n",
       "      <td>0.954913</td>\n",
       "      <td>0.99187</td>\n",
       "      <td>1.0</td>\n",
       "      <td>0.983871</td>\n",
       "      <td>0.983871</td>\n",
       "    </tr>\n",
       "  </tbody>\n",
       "</table>\n",
       "</div>"
      ],
      "text/plain": [
       "            0 f1  0 pr      0 re     0 acc     1 f1  1 pr      1 re     1 acc\n",
       "gender  0.976936   1.0  0.954913  0.954913  0.99187   1.0  0.983871  0.983871"
      ]
     },
     "execution_count": 50,
     "metadata": {},
     "output_type": "execute_result"
    }
   ],
   "source": [
    "log_f1_and_acc_scores(args, np.argmax(preds, axis=1), labels)"
   ]
  },
  {
   "cell_type": "code",
   "execution_count": 51,
   "id": "other-calgary",
   "metadata": {},
   "outputs": [
    {
     "data": {
      "text/plain": [
       "0.971064663176251"
      ]
     },
     "execution_count": 51,
     "metadata": {},
     "output_type": "execute_result"
    }
   ],
   "source": [
    "f1_score(np.argmax(preds, axis=1), labels, average='macro')"
   ]
  },
  {
   "cell_type": "markdown",
   "id": "danish-painting",
   "metadata": {},
   "source": [
    "## Ensemble EVAL"
   ]
  },
  {
   "cell_type": "code",
   "execution_count": 87,
   "id": "binding-buffer",
   "metadata": {},
   "outputs": [
    {
     "ename": "SyntaxError",
     "evalue": "EOL while scanning string literal (<ipython-input-87-0d01f24d8a45>, line 1)",
     "output_type": "error",
     "traceback": [
      "\u001b[0;36m  File \u001b[0;32m\"<ipython-input-87-0d01f24d8a45>\"\u001b[0;36m, line \u001b[0;32m1\u001b[0m\n\u001b[0;31m    train_df = pd.read_csv('/opt/ml/inp)\u001b[0m\n\u001b[0m                                        ^\u001b[0m\n\u001b[0;31mSyntaxError\u001b[0m\u001b[0;31m:\u001b[0m EOL while scanning string literal\n"
     ]
    }
   ],
   "source": [
    "train_df = pd.read_csv('/opt/ml/inp)"
   ]
  },
  {
   "cell_type": "code",
   "execution_count": 157,
   "id": "spiritual-joining",
   "metadata": {},
   "outputs": [],
   "source": [
    "test_df = pd.read_csv('/opt/ml/input/data/eval/info.csv')\n",
    "image_path = test_df[\"ImageID\"].apply(lambda x: os.path.join(\"/opt/ml/input/data/eval/images/\", x))"
   ]
  },
  {
   "cell_type": "code",
   "execution_count": 158,
   "id": "smooth-difficulty",
   "metadata": {},
   "outputs": [
    {
     "data": {
      "text/html": [
       "<div>\n",
       "<style scoped>\n",
       "    .dataframe tbody tr th:only-of-type {\n",
       "        vertical-align: middle;\n",
       "    }\n",
       "\n",
       "    .dataframe tbody tr th {\n",
       "        vertical-align: top;\n",
       "    }\n",
       "\n",
       "    .dataframe thead th {\n",
       "        text-align: right;\n",
       "    }\n",
       "</style>\n",
       "<table border=\"1\" class=\"dataframe\">\n",
       "  <thead>\n",
       "    <tr style=\"text-align: right;\">\n",
       "      <th></th>\n",
       "      <th>ImageID</th>\n",
       "      <th>ans</th>\n",
       "    </tr>\n",
       "  </thead>\n",
       "  <tbody>\n",
       "    <tr>\n",
       "      <th>0</th>\n",
       "      <td>cbc5c6e168e63498590db46022617123f1fe1268.jpg</td>\n",
       "      <td>0</td>\n",
       "    </tr>\n",
       "    <tr>\n",
       "      <th>1</th>\n",
       "      <td>0e72482bf56b3581c081f7da2a6180b8792c7089.jpg</td>\n",
       "      <td>0</td>\n",
       "    </tr>\n",
       "    <tr>\n",
       "      <th>2</th>\n",
       "      <td>b549040c49190cedc41327748aeb197c1670f14d.jpg</td>\n",
       "      <td>0</td>\n",
       "    </tr>\n",
       "    <tr>\n",
       "      <th>3</th>\n",
       "      <td>4f9cb2a045c6d5b9e50ad3459ea7b791eb6e18bc.jpg</td>\n",
       "      <td>0</td>\n",
       "    </tr>\n",
       "    <tr>\n",
       "      <th>4</th>\n",
       "      <td>248428d9a4a5b6229a7081c32851b90cb8d38d0c.jpg</td>\n",
       "      <td>0</td>\n",
       "    </tr>\n",
       "  </tbody>\n",
       "</table>\n",
       "</div>"
      ],
      "text/plain": [
       "                                        ImageID  ans\n",
       "0  cbc5c6e168e63498590db46022617123f1fe1268.jpg    0\n",
       "1  0e72482bf56b3581c081f7da2a6180b8792c7089.jpg    0\n",
       "2  b549040c49190cedc41327748aeb197c1670f14d.jpg    0\n",
       "3  4f9cb2a045c6d5b9e50ad3459ea7b791eb6e18bc.jpg    0\n",
       "4  248428d9a4a5b6229a7081c32851b90cb8d38d0c.jpg    0"
      ]
     },
     "execution_count": 158,
     "metadata": {},
     "output_type": "execute_result"
    }
   ],
   "source": [
    "test_df.head()"
   ]
  },
  {
   "cell_type": "code",
   "execution_count": 161,
   "id": "formal-silicon",
   "metadata": {},
   "outputs": [],
   "source": [
    "def ensemble_results(models, transform, num_class=3):\n",
    "    test_df = pd.read_csv('/opt/ml/input/data/eval/info.csv')\n",
    "    image_pathes = test_df[\"ImageID\"].apply(lambda x: os.path.join(\"/opt/ml/input/data/eval/images/\", x))\n",
    "    \n",
    "    # print(len(test_df), len(image_pathes))\n",
    "    \n",
    "    ensemble_results = np.zeros((len(test_df), num_class))\n",
    "    \n",
    "    for model in models:\n",
    "        model = torch.load(model)\n",
    "        \n",
    "        for idx, image_full_path in enumerate(image_pathes):\n",
    "        \n",
    "            image = np.array(Image.open(image_full_path))\n",
    "            image = transform(image=image)['image']\n",
    "            image = np.transpose(image, axes=(2, 0, 1))\n",
    "            image = torch.tensor(image).cuda().unsqueeze(0)\n",
    "            \n",
    "            preds = model(image)\n",
    "            ensemble_results[idx] += tensor_to_numpy(torch.softmax(preds[0], dim=0))\n",
    "            \n",
    "            print(idx, end='\\r')\n",
    "    \n",
    "    return ensemble_results"
   ]
  },
  {
   "cell_type": "code",
   "execution_count": 162,
   "id": "distinguished-lying",
   "metadata": {},
   "outputs": [
    {
     "name": "stdout",
     "output_type": "stream",
     "text": [
      "12599\r"
     ]
    }
   ],
   "source": [
    "results = dict()\n",
    "\n",
    "for key, models in zip([\"age\", \"mask\", \"gender\"], [age_models, mask_models, gender_models]):\n",
    "    args.train_key = key\n",
    "    num_class = len(get_classes(args))\n",
    "    _, transform = get_album_transforms(args)\n",
    "    \n",
    "    e_results = ensemble_results(models, transform, num_class)\n",
    "    results[key] = e_results"
   ]
  },
  {
   "cell_type": "code",
   "execution_count": 163,
   "id": "static-mathematics",
   "metadata": {},
   "outputs": [
    {
     "data": {
      "text/plain": [
       "dict_keys(['age', 'mask', 'gender'])"
      ]
     },
     "execution_count": 163,
     "metadata": {},
     "output_type": "execute_result"
    }
   ],
   "source": [
    "results.keys()"
   ]
  },
  {
   "cell_type": "code",
   "execution_count": 164,
   "id": "weekly-prisoner",
   "metadata": {},
   "outputs": [
    {
     "data": {
      "text/plain": [
       "array([[2.40769233e-02, 2.38698074e+00, 1.58894224e+00],\n",
       "       [7.42887736e-04, 1.72548079e+00, 2.27377629e+00],\n",
       "       [1.07504429e-02, 1.87998065e+00, 2.10926884e+00],\n",
       "       ...,\n",
       "       [3.90758890e+00, 9.24026179e-02, 8.53714772e-06],\n",
       "       [2.87383316e-02, 3.95292193e+00, 1.83398458e-02],\n",
       "       [4.91724099e-03, 1.03729321e+00, 2.95778960e+00]])"
      ]
     },
     "execution_count": 164,
     "metadata": {},
     "output_type": "execute_result"
    }
   ],
   "source": [
    "results[\"age\"]"
   ]
  },
  {
   "cell_type": "code",
   "execution_count": 165,
   "id": "normal-possession",
   "metadata": {},
   "outputs": [
    {
     "data": {
      "text/plain": [
       "array([1, 2, 2, ..., 0, 1, 2])"
      ]
     },
     "execution_count": 165,
     "metadata": {},
     "output_type": "execute_result"
    }
   ],
   "source": [
    "np.argmax(results[\"age\"], axis=1)"
   ]
  },
  {
   "cell_type": "code",
   "execution_count": 166,
   "id": "seventh-tolerance",
   "metadata": {},
   "outputs": [],
   "source": [
    "results[\"age\"] = np.argmax(results[\"age\"], axis=1)\n",
    "results[\"mask\"] = np.argmax(results[\"mask\"], axis=1)\n",
    "results[\"gender\"] = np.argmax(results[\"gender\"], axis=1)"
   ]
  },
  {
   "cell_type": "code",
   "execution_count": 167,
   "id": "devoted-receiver",
   "metadata": {},
   "outputs": [
    {
     "data": {
      "text/plain": [
       "{'age': array([1, 2, 2, ..., 0, 1, 2]),\n",
       " 'mask': array([2, 0, 2, ..., 1, 0, 1]),\n",
       " 'gender': array([1, 0, 1, ..., 1, 0, 0])}"
      ]
     },
     "execution_count": 167,
     "metadata": {},
     "output_type": "execute_result"
    }
   ],
   "source": [
    "results"
   ]
  },
  {
   "cell_type": "markdown",
   "id": "brave-ministry",
   "metadata": {},
   "source": [
    "## Final Result..\n",
    "\n",
    "하.. 의미 없다"
   ]
  },
  {
   "cell_type": "code",
   "execution_count": 168,
   "id": "monthly-earthquake",
   "metadata": {},
   "outputs": [],
   "source": [
    "test_df = pd.read_csv('/opt/ml/input/data/eval/info.csv')\n",
    "\n",
    "age_results = results[\"age\"]\n",
    "mask_results = results[\"mask\"]\n",
    "gender_results = results[\"gender\"]\n",
    "\n",
    "for idx, (mi, gi, ai) in enumerate(zip(mask_results, gender_results, age_results)):\n",
    "    res = calculate_18class(mi, gi, ai)\n",
    "    test_df.iloc[idx, 1] = res"
   ]
  },
  {
   "cell_type": "code",
   "execution_count": 169,
   "id": "anticipated-demand",
   "metadata": {},
   "outputs": [
    {
     "data": {
      "text/html": [
       "<div>\n",
       "<style scoped>\n",
       "    .dataframe tbody tr th:only-of-type {\n",
       "        vertical-align: middle;\n",
       "    }\n",
       "\n",
       "    .dataframe tbody tr th {\n",
       "        vertical-align: top;\n",
       "    }\n",
       "\n",
       "    .dataframe thead th {\n",
       "        text-align: right;\n",
       "    }\n",
       "</style>\n",
       "<table border=\"1\" class=\"dataframe\">\n",
       "  <thead>\n",
       "    <tr style=\"text-align: right;\">\n",
       "      <th></th>\n",
       "      <th>ImageID</th>\n",
       "      <th>ans</th>\n",
       "    </tr>\n",
       "  </thead>\n",
       "  <tbody>\n",
       "    <tr>\n",
       "      <th>0</th>\n",
       "      <td>cbc5c6e168e63498590db46022617123f1fe1268.jpg</td>\n",
       "      <td>16</td>\n",
       "    </tr>\n",
       "    <tr>\n",
       "      <th>1</th>\n",
       "      <td>0e72482bf56b3581c081f7da2a6180b8792c7089.jpg</td>\n",
       "      <td>2</td>\n",
       "    </tr>\n",
       "    <tr>\n",
       "      <th>2</th>\n",
       "      <td>b549040c49190cedc41327748aeb197c1670f14d.jpg</td>\n",
       "      <td>17</td>\n",
       "    </tr>\n",
       "    <tr>\n",
       "      <th>3</th>\n",
       "      <td>4f9cb2a045c6d5b9e50ad3459ea7b791eb6e18bc.jpg</td>\n",
       "      <td>13</td>\n",
       "    </tr>\n",
       "    <tr>\n",
       "      <th>4</th>\n",
       "      <td>248428d9a4a5b6229a7081c32851b90cb8d38d0c.jpg</td>\n",
       "      <td>12</td>\n",
       "    </tr>\n",
       "  </tbody>\n",
       "</table>\n",
       "</div>"
      ],
      "text/plain": [
       "                                        ImageID  ans\n",
       "0  cbc5c6e168e63498590db46022617123f1fe1268.jpg   16\n",
       "1  0e72482bf56b3581c081f7da2a6180b8792c7089.jpg    2\n",
       "2  b549040c49190cedc41327748aeb197c1670f14d.jpg   17\n",
       "3  4f9cb2a045c6d5b9e50ad3459ea7b791eb6e18bc.jpg   13\n",
       "4  248428d9a4a5b6229a7081c32851b90cb8d38d0c.jpg   12"
      ]
     },
     "execution_count": 169,
     "metadata": {},
     "output_type": "execute_result"
    }
   ],
   "source": [
    "test_df.head()"
   ]
  },
  {
   "cell_type": "markdown",
   "id": "remarkable-north",
   "metadata": {},
   "source": [
    "## Save Model ( 이름 수정 !! )"
   ]
  },
  {
   "cell_type": "code",
   "execution_count": 170,
   "id": "fifty-kelly",
   "metadata": {},
   "outputs": [],
   "source": [
    "# age: 1, mask: 1, gender: 1\n",
    "file_name = \"ensemble-003.csv\"\n",
    "\n",
    "test_df.to_csv(os.path.join(\"/opt/ml/P-Stage/1-STAGE/submissions/\", file_name), index=False)"
   ]
  },
  {
   "cell_type": "code",
   "execution_count": null,
   "id": "alike-zambia",
   "metadata": {},
   "outputs": [],
   "source": []
  }
 ],
 "metadata": {
  "kernelspec": {
   "display_name": "Python 3",
   "language": "python",
   "name": "python3"
  },
  "language_info": {
   "codemirror_mode": {
    "name": "ipython",
    "version": 3
   },
   "file_extension": ".py",
   "mimetype": "text/x-python",
   "name": "python",
   "nbconvert_exporter": "python",
   "pygments_lexer": "ipython3",
   "version": "3.7.7"
  }
 },
 "nbformat": 4,
 "nbformat_minor": 5
}
